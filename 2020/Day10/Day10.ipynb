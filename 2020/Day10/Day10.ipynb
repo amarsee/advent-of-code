{
 "cells": [
  {
   "cell_type": "markdown",
   "metadata": {},
   "source": [
    "## Part 1"
   ]
  },
  {
   "cell_type": "markdown",
   "metadata": {},
   "source": [
    "Find a chain that uses all of your adapters to connect the charging outlet to your device's built-in adapter and count the joltage differences between the charging outlet, the adapters, and your device. What is the number of 1-jolt differences multiplied by the number of 3-jolt differences?"
   ]
  },
  {
   "cell_type": "code",
   "execution_count": 1,
   "metadata": {},
   "outputs": [],
   "source": [
    "import itertools\n",
    "import numpy as np"
   ]
  },
  {
   "cell_type": "code",
   "execution_count": 2,
   "metadata": {},
   "outputs": [],
   "source": [
    "data = [int(x) for x in open(\"input.txt\").readlines()]\n",
    "data.sort()"
   ]
  },
  {
   "cell_type": "code",
   "execution_count": 3,
   "metadata": {},
   "outputs": [],
   "source": [
    "part1 = []\n",
    "part1.extend(data)\n",
    "part1.append(max(data) + 3)"
   ]
  },
  {
   "cell_type": "code",
   "execution_count": 4,
   "metadata": {},
   "outputs": [],
   "source": [
    "# data"
   ]
  },
  {
   "cell_type": "code",
   "execution_count": 5,
   "metadata": {},
   "outputs": [],
   "source": [
    "class Adapter:\n",
    "  def __init__(self, current_adapter, jolt_diff_one, jolt_diff_three):\n",
    "    self.current_adapter = current_adapter\n",
    "    self.jolt_diff_one = jolt_diff_one\n",
    "    self.jolt_diff_three = jolt_diff_three\n",
    "    \n",
    "  def jolt_track(self, jolt_diff):\n",
    "    if jolt_diff == 1:\n",
    "        self.jolt_diff_one += 1\n",
    "    elif jolt_diff == 3:\n",
    "        self.jolt_diff_three += 1"
   ]
  },
  {
   "cell_type": "code",
   "execution_count": 6,
   "metadata": {},
   "outputs": [],
   "source": [
    "part_1_tracker = Adapter(0, 0, 0)\n",
    "for jolt in part1:\n",
    "    jolt_diff = jolt - part_1_tracker.current_adapter\n",
    "    part_1_tracker.jolt_track(jolt_diff)\n",
    "    part_1_tracker.current_adapter = jolt\n"
   ]
  },
  {
   "cell_type": "code",
   "execution_count": 7,
   "metadata": {},
   "outputs": [
    {
     "name": "stdout",
     "output_type": "stream",
     "text": [
      "The answer to part 1 is 2484.\n"
     ]
    }
   ],
   "source": [
    "print(f\"The answer to part 1 is {part_1_tracker.jolt_diff_one * part_1_tracker.jolt_diff_three}.\")"
   ]
  },
  {
   "cell_type": "markdown",
   "metadata": {},
   "source": [
    "## Part 2"
   ]
  },
  {
   "cell_type": "markdown",
   "metadata": {},
   "source": [
    "What is the total number of distinct ways you can arrange the adapters to connect the charging outlet to your device?"
   ]
  },
  {
   "cell_type": "code",
   "execution_count": 8,
   "metadata": {},
   "outputs": [],
   "source": [
    "class AdapterPart2:\n",
    "  def __init__(self, adapter_list):\n",
    "    self.adapter_list = adapter_list\n",
    "    \n",
    "  def valid_list(self):\n",
    "    for ind, val in enumerate(self.adapter_list):\n",
    "        if ind+1 < len(self.adapter_list) and self.adapter_list[ind + 1] - val > 3:\n",
    "            return False\n",
    "    return True"
   ]
  },
  {
   "cell_type": "code",
   "execution_count": 9,
   "metadata": {},
   "outputs": [],
   "source": [
    "adapter_list = [0]\n",
    "adapter_list.extend(data)\n",
    "adapter_list.append(max(data) + 3)\n",
    "test = AdapterPart2(adapter_list)"
   ]
  },
  {
   "cell_type": "code",
   "execution_count": 10,
   "metadata": {},
   "outputs": [],
   "source": [
    "min_seq = list(range(3,175,3)) # Shortest possible sequence of data"
   ]
  },
  {
   "cell_type": "code",
   "execution_count": null,
   "metadata": {},
   "outputs": [],
   "source": [
    "valid_count = 0\n",
    "for list_length in range(len(min_seq), len(data)+1):\n",
    "#     print(size)\n",
    "    print(f\"Iteration {list_length}\")\n",
    "#     combination_list = [list(x) for x in itertools.combinations(data, list_length)]\n",
    "    combination_list = list(itertools.combinations(data, list_length))\n",
    "#     full_adapter_list = [[0] + x + [max(data) + 3] for x in combination_list]\n",
    "#     valid_sum = sum( map(lambda x: AdapterPart2(x).valid_list(), full_adapter_list) )\n",
    "#     valid_count += valid_sum\n",
    "    print(f\"N Combinations: {len(combination_list)}\")\n"
   ]
  },
  {
   "cell_type": "code",
   "execution_count": null,
   "metadata": {},
   "outputs": [],
   "source": [
    "len(list(itertools.combinations(data, 90)))"
   ]
  },
  {
   "cell_type": "code",
   "execution_count": 10,
   "metadata": {},
   "outputs": [
    {
     "data": {
      "text/plain": [
       "1"
      ]
     },
     "execution_count": 10,
     "metadata": {},
     "output_type": "execute_result"
    }
   ],
   "source": [
    "min(data)"
   ]
  },
  {
   "cell_type": "code",
   "execution_count": 69,
   "metadata": {},
   "outputs": [
    {
     "data": {
      "text/plain": [
       "True"
      ]
     },
     "execution_count": 69,
     "metadata": {},
     "output_type": "execute_result"
    }
   ],
   "source": [
    "test.valid_list()"
   ]
  },
  {
   "cell_type": "code",
   "execution_count": 89,
   "metadata": {},
   "outputs": [
    {
     "data": {
      "text/plain": [
       "[1, 4, 7, 10, 11, 12, 15, 16]"
      ]
     },
     "execution_count": 89,
     "metadata": {},
     "output_type": "execute_result"
    }
   ],
   "source": [
    "data[0:1] + data[3:10]"
   ]
  },
  {
   "cell_type": "code",
   "execution_count": 12,
   "metadata": {},
   "outputs": [
    {
     "data": {
      "text/plain": [
       "array([3, 3, 1, 1, 3, 1])"
      ]
     },
     "execution_count": 12,
     "metadata": {},
     "output_type": "execute_result"
    }
   ],
   "source": [
    "np.diff( data[3:10])"
   ]
  },
  {
   "cell_type": "code",
   "execution_count": null,
   "metadata": {},
   "outputs": [],
   "source": []
  }
 ],
 "metadata": {
  "kernelspec": {
   "display_name": "Python 3",
   "language": "python",
   "name": "python3"
  },
  "language_info": {
   "codemirror_mode": {
    "name": "ipython",
    "version": 3
   },
   "file_extension": ".py",
   "mimetype": "text/x-python",
   "name": "python",
   "nbconvert_exporter": "python",
   "pygments_lexer": "ipython3",
   "version": "3.6.10"
  }
 },
 "nbformat": 4,
 "nbformat_minor": 2
}
