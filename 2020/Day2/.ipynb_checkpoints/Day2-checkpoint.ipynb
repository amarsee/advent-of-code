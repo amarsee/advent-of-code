{
 "cells": [
  {
   "cell_type": "markdown",
   "metadata": {},
   "source": [
    "To try to debug the problem, they have created a list (your puzzle input) of passwords (according to the corrupted database) and the corporate policy when that password was set.\n",
    "\n",
    "For example, suppose you have the following list:\n",
    "\n",
    "1-3 a: abcde\n",
    "1-3 b: cdefg\n",
    "2-9 c: ccccccccc\n",
    "Each line gives the password policy and then the password. The password policy indicates the lowest and highest number of times a given letter must appear for the password to be valid. For example, 1-3 a means that the password must contain a at least 1 time and at most 3 times."
   ]
  },
  {
   "cell_type": "code",
   "execution_count": 5,
   "metadata": {},
   "outputs": [],
   "source": [
    "\n",
    "import itertools\n",
    "import re"
   ]
  },
  {
   "cell_type": "code",
   "execution_count": 6,
   "metadata": {},
   "outputs": [],
   "source": [
    "data = [re.sub(r'\\n', '', x) for x in open(\"input.txt\").readlines()]"
   ]
  },
  {
   "cell_type": "code",
   "execution_count": 22,
   "metadata": {},
   "outputs": [],
   "source": [
    "# data"
   ]
  },
  {
   "cell_type": "code",
   "execution_count": 29,
   "metadata": {},
   "outputs": [
    {
     "name": "stdout",
     "output_type": "stream",
     "text": [
      "The number of valid passwords is: 603\n"
     ]
    }
   ],
   "source": [
    "valid_count = 0\n",
    "for password in data:\n",
    "    lower_limit = int(re.findall(r'^\\d+', password).pop())\n",
    "    upper_limit = int(re.findall(r'^\\d+-(\\d+)', password).pop())\n",
    "    inspect_letter = re.findall(r'([a-z]):', password).pop()\n",
    "    password_string = re.findall(r':\\s(.+)$', password).pop()\n",
    "    if lower_limit <= password_string.count(inspect_letter) <= upper_limit:\n",
    "        valid_count += 1\n",
    "#     print( re.findall(r':\\s(.+)$', password).pop().count(inspect_letter) )\n",
    "print(f\"The number of valid passwords is: {valid_count}\")"
   ]
  },
  {
   "cell_type": "markdown",
   "metadata": {},
   "source": [
    "## Part 2"
   ]
  },
  {
   "cell_type": "markdown",
   "metadata": {},
   "source": [
    "Each policy actually describes two positions in the password, where 1 means the first character, 2 means the second character, and so on. (Be careful; Toboggan Corporate Policies have no concept of \"index zero\"!) Exactly one of these positions must contain the given letter. Other occurrences of the letter are irrelevant for the purposes of policy enforcement.\n",
    "\n",
    "Given the same example list from above:\n",
    "\n",
    "- 1-3 a: abcde is valid: position 1 contains a and position 3 does not.\n",
    "- 1-3 b: cdefg is invalid: neither position 1 nor position 3 contains b.\n",
    "- 2-9 c: ccccccccc is invalid: both position 2 and position 9 contain c.\n",
    "\n",
    "\n",
    "How many passwords are valid according to the new interpretation of the policies?"
   ]
  },
  {
   "cell_type": "code",
   "execution_count": 30,
   "metadata": {},
   "outputs": [
    {
     "name": "stdout",
     "output_type": "stream",
     "text": [
      "The number of valid passwords is: 404\n"
     ]
    }
   ],
   "source": [
    "valid_count_2 = 0\n",
    "for password in data:\n",
    "    position_one = int(re.findall(r'^\\d+', password).pop())\n",
    "    position_two = int(re.findall(r'^\\d+-(\\d+)', password).pop())\n",
    "    inspect_letter = re.findall(r'([a-z]):', password).pop()\n",
    "    password_string = re.findall(r':\\s(.+)$', password).pop()\n",
    "#     print(f\"P1: {position_one}  P2: {position_two}  l: {inspect_letter} pw: {password_string} \")\n",
    "    if (password_string[position_one - 1] == inspect_letter and password_string[position_two - 1] != inspect_letter) \\\n",
    "            or (password_string[position_one - 1] != inspect_letter and password_string[position_two - 1] == inspect_letter):\n",
    "        valid_count_2 += 1\n",
    "#     print(valid_count_2)\n",
    "#     print( re.findall(r':\\s(.+)$', password).pop().count(inspect_letter) )\n",
    "print(f\"The number of valid passwords is: {valid_count_2}\")"
   ]
  },
  {
   "cell_type": "code",
   "execution_count": null,
   "metadata": {},
   "outputs": [],
   "source": []
  },
  {
   "cell_type": "code",
   "execution_count": null,
   "metadata": {},
   "outputs": [],
   "source": []
  }
 ],
 "metadata": {
  "kernelspec": {
   "display_name": "Python 3",
   "language": "python",
   "name": "python3"
  },
  "language_info": {
   "codemirror_mode": {
    "name": "ipython",
    "version": 3
   },
   "file_extension": ".py",
   "mimetype": "text/x-python",
   "name": "python",
   "nbconvert_exporter": "python",
   "pygments_lexer": "ipython3",
   "version": "3.6.10"
  }
 },
 "nbformat": 4,
 "nbformat_minor": 2
}
