{
 "cells": [
  {
   "cell_type": "markdown",
   "metadata": {},
   "source": [
    "## Part 1"
   ]
  },
  {
   "cell_type": "markdown",
   "metadata": {},
   "source": [
    "What is the ID of the earliest bus you can take to the airport multiplied by the number of minutes you'll need to wait for that bus?"
   ]
  },
  {
   "cell_type": "code",
   "execution_count": 1,
   "metadata": {},
   "outputs": [],
   "source": [
    "import itertools\n",
    "import re\n",
    "from math import gcd \n",
    "from functools import reduce "
   ]
  },
  {
   "cell_type": "code",
   "execution_count": 2,
   "metadata": {},
   "outputs": [],
   "source": [
    "data = [re.sub(r'\\n', '', x) for x in open(\"input.txt\").readlines()]"
   ]
  },
  {
   "cell_type": "code",
   "execution_count": 3,
   "metadata": {},
   "outputs": [
    {
     "data": {
      "text/plain": [
       "['1000186',\n",
       " '17,x,x,x,x,x,x,x,x,x,x,37,x,x,x,x,x,907,x,x,x,x,x,x,x,x,x,x,x,19,x,x,x,x,x,x,x,x,x,x,23,x,x,x,x,x,29,x,653,x,x,x,x,x,x,x,x,x,41,x,x,13']"
      ]
     },
     "execution_count": 3,
     "metadata": {},
     "output_type": "execute_result"
    }
   ],
   "source": [
    "data"
   ]
  },
  {
   "cell_type": "code",
   "execution_count": 4,
   "metadata": {},
   "outputs": [],
   "source": [
    "timestamp = int(data[0])\n",
    "buses = [int(x) for x in data[1].split(\",\") if x != \"x\"]"
   ]
  },
  {
   "cell_type": "code",
   "execution_count": 5,
   "metadata": {},
   "outputs": [],
   "source": [
    "mod = timestamp\n",
    "bus_taken = 0\n",
    "for bus in buses:\n",
    "    new_mod = bus - timestamp % bus\n",
    "    if new_mod < mod:\n",
    "        bus_taken = bus\n",
    "        mod = new_mod"
   ]
  },
  {
   "cell_type": "code",
   "execution_count": 6,
   "metadata": {},
   "outputs": [
    {
     "name": "stdout",
     "output_type": "stream",
     "text": [
      "The answer to part 1 is 104\n"
     ]
    }
   ],
   "source": [
    "part_1 = bus_taken * mod\n",
    "print(f\"The answer to part 1 is {part_1}\")"
   ]
  },
  {
   "cell_type": "markdown",
   "metadata": {},
   "source": [
    "## Part 2"
   ]
  },
  {
   "cell_type": "markdown",
   "metadata": {},
   "source": [
    "What is the earliest timestamp such that all of the listed bus IDs depart at offsets matching their positions in the list?"
   ]
  },
  {
   "cell_type": "code",
   "execution_count": 11,
   "metadata": {},
   "outputs": [],
   "source": [
    "def lcm(denominators):\n",
    "    return reduce(lambda a,b: a*b // gcd(a,b), denominators)"
   ]
  },
  {
   "cell_type": "code",
   "execution_count": null,
   "metadata": {},
   "outputs": [],
   "source": [
    "timestamp_2 = 890\n",
    "buses_2 = data[1].split(\",\")\n",
    "flag = True\n",
    "while flag:\n",
    "    if timestamp_2 % int(buses_2[0]) == 0:\n",
    "        int_timestamp = timestamp_2\n",
    "        true_count = 0\n",
    "        for bus in buses_2:\n",
    "            if bus == \"x\":\n",
    "                true_count += 1\n",
    "                int_timestamp += 1\n",
    "            else:\n",
    "                mod = int_timestamp % int(bus)\n",
    "                if mod == 0:\n",
    "                    true_count += 1\n",
    "                int_timestamp += 1\n",
    "        if true_count == len(buses_2):\n",
    "            flag = False\n",
    "        else:\n",
    "            timestamp_2 += 907\n",
    "            if timestamp_2 % 1000000000 == 0:\n",
    "                print(timestamp_2)\n",
    "    else:\n",
    "        timestamp_2 += 907\n",
    "        if timestamp_2 % 1000000000 == 0:\n",
    "            print(timestamp_2)"
   ]
  },
  {
   "cell_type": "code",
   "execution_count": 29,
   "metadata": {},
   "outputs": [
    {
     "name": "stdout",
     "output_type": "stream",
     "text": [
      "842186186521918\n"
     ]
    }
   ],
   "source": [
    "# Found the number for the first 6 tests\n",
    "# Then adding the LCM of those 6 numbers to speed up iterations\n",
    "x = 1439826203\n",
    "flag = True\n",
    "while flag:\n",
    "    first_test = x % 17 == 0 # 17\n",
    "    second_test = (x + 11) % 37 == 0 # 26\n",
    "    third_test = (x + 17) % 907 == 0 # 890\n",
    "    fourth_test = (x + 29) % 19 == 0 # 10\n",
    "    fifth_test = (x + 40) % 23 == 0 # 17\n",
    "    sixth_test = (x + 46) % 29 == 0 # 17\n",
    "    seventh_test = (x + 48) % 653 == 0 # 605\n",
    "    eigth_test = (x + 58) % 41 == 0 # 17\n",
    "    ninth_test = (x + 61) % 13 == 0 # 48\n",
    "    \n",
    "    sum_tests = first_test + second_test + third_test + fourth_test + fifth_test + sixth_test + seventh_test + eigth_test + ninth_test\n",
    "#     print(sum_tests)\n",
    "    if sum_tests == 9:\n",
    "#     if first_test and second_test and third_test and fourth_test and fifth_test and sixth_test:\n",
    "        print(x)\n",
    "        flag = False\n",
    "    else:\n",
    "        x += lcm([17, 37, 907, 19, 23, 29])\n",
    "        if x % 1000000000 == 0:\n",
    "            print(x)\n",
    "#     flag = False"
   ]
  },
  {
   "cell_type": "code",
   "execution_count": 30,
   "metadata": {},
   "outputs": [
    {
     "name": "stdout",
     "output_type": "stream",
     "text": [
      "The answer to Part 2 is 842186186521918.\n"
     ]
    }
   ],
   "source": [
    "print(f\"The answer to Part 2 is {x}.\")"
   ]
  },
  {
   "cell_type": "code",
   "execution_count": 25,
   "metadata": {},
   "outputs": [
    {
     "data": {
      "text/plain": [
       "['17',\n",
       " 'x',\n",
       " 'x',\n",
       " 'x',\n",
       " 'x',\n",
       " 'x',\n",
       " 'x',\n",
       " 'x',\n",
       " 'x',\n",
       " 'x',\n",
       " 'x',\n",
       " '37',\n",
       " 'x',\n",
       " 'x',\n",
       " 'x',\n",
       " 'x',\n",
       " 'x',\n",
       " '907',\n",
       " 'x',\n",
       " 'x',\n",
       " 'x',\n",
       " 'x',\n",
       " 'x',\n",
       " 'x',\n",
       " 'x',\n",
       " 'x',\n",
       " 'x',\n",
       " 'x',\n",
       " 'x',\n",
       " '19',\n",
       " 'x',\n",
       " 'x',\n",
       " 'x',\n",
       " 'x',\n",
       " 'x',\n",
       " 'x',\n",
       " 'x',\n",
       " 'x',\n",
       " 'x',\n",
       " 'x',\n",
       " '23',\n",
       " 'x',\n",
       " 'x',\n",
       " 'x',\n",
       " 'x',\n",
       " 'x',\n",
       " '29',\n",
       " 'x',\n",
       " '653',\n",
       " 'x',\n",
       " 'x',\n",
       " 'x',\n",
       " 'x',\n",
       " 'x',\n",
       " 'x',\n",
       " 'x',\n",
       " 'x',\n",
       " 'x',\n",
       " '41',\n",
       " 'x',\n",
       " 'x',\n",
       " '13']"
      ]
     },
     "execution_count": 25,
     "metadata": {},
     "output_type": "execute_result"
    }
   ],
   "source": [
    "# x % 17 == 0\n",
    "# (x + 11) % 37 == 0\n",
    "# (x + 17) % 907 == 0\n",
    "# (x + 29) % 19 == 0\n",
    "# (x + 40) % 23 == 0\n",
    "# (x + 46) % 29 == 0\n",
    "# (x + 48) % 653 == 0\n",
    "# (x + 58) % 41 == 0\n",
    "# (x + 61) % 13 == 0\n",
    "buses_2"
   ]
  }
 ],
 "metadata": {
  "kernelspec": {
   "display_name": "Python 3",
   "language": "python",
   "name": "python3"
  },
  "language_info": {
   "codemirror_mode": {
    "name": "ipython",
    "version": 3
   },
   "file_extension": ".py",
   "mimetype": "text/x-python",
   "name": "python",
   "nbconvert_exporter": "python",
   "pygments_lexer": "ipython3",
   "version": "3.6.10"
  }
 },
 "nbformat": 4,
 "nbformat_minor": 2
}
