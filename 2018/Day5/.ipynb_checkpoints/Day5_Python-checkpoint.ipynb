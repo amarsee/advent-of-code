{
 "cells": [
  {
   "cell_type": "markdown",
   "metadata": {},
   "source": [
    "The polymer is formed by smaller units which, when triggered, react with each other such that two adjacent units of the same type and opposite polarity are destroyed. Units' types are represented by letters; units' polarity is represented by capitalization. For instance, r and R are units with the same type but opposite polarity, whereas r and s are entirely different types and do not react.\n",
    "\n",
    "For example:\n",
    "\n",
    "- In aA, a and A react, leaving nothing behind.\n",
    "- In abBA, bB destroys itself, leaving aA. As above, this then destroys itself, leaving nothing.\n",
    "- In abAB, no two adjacent units are of the same type, and so nothing happens.\n",
    "- In aabAAB, even though aa and AA are of the same type, their polarities match, and so nothing happens."
   ]
  },
  {
   "cell_type": "markdown",
   "metadata": {},
   "source": [
    "## Part 1"
   ]
  },
  {
   "cell_type": "markdown",
   "metadata": {},
   "source": [
    "How many units remain after fully reacting the polymer you scanned?"
   ]
  },
  {
   "cell_type": "code",
   "execution_count": 1,
   "metadata": {},
   "outputs": [],
   "source": [
    "import numpy as np\n",
    "import pandas as pd\n",
    "import re"
   ]
  },
  {
   "cell_type": "code",
   "execution_count": 6,
   "metadata": {},
   "outputs": [],
   "source": [
    "input_str = open(\"input.txt\").read().splitlines()[0]"
   ]
  },
  {
   "cell_type": "code",
   "execution_count": 38,
   "metadata": {},
   "outputs": [
    {
     "name": "stdout",
     "output_type": "stream",
     "text": [
      "10878\n"
     ]
    }
   ],
   "source": [
    "nstr = list(input_str)\n",
    "while True:\n",
    "    comp_str = ''.join(nstr)\n",
    "    for i in range(0,len(nstr) - 1):\n",
    "        char1 = nstr[i]\n",
    "        char2 = nstr[i + 1]\n",
    "        if (char1.islower() and char2.isupper()) or (char2.islower() and char1.isupper()):\n",
    "            if char1.capitalize() == char2.capitalize():\n",
    "                nstr[i], nstr[i+1] = '', ''\n",
    "    res = ''.join(nstr)\n",
    "    if res == comp_str:\n",
    "        #print(res)\n",
    "        print(len(res))\n",
    "        break\n",
    "    else:\n",
    "        nstr = list(res)\n"
   ]
  },
  {
   "cell_type": "markdown",
   "metadata": {},
   "source": [
    "### Part 1 answer is 10878"
   ]
  },
  {
   "cell_type": "markdown",
   "metadata": {},
   "source": [
    "## Part 2"
   ]
  },
  {
   "cell_type": "markdown",
   "metadata": {},
   "source": [
    "--- Part Two ---\n",
    "Time to improve the polymer.\n",
    "\n",
    "One of the unit types is causing problems; it's preventing the polymer from collapsing as much as it should. Your goal is to figure out which unit type is causing the most problems, remove all instances of it (regardless of polarity), fully react the remaining polymer, and measure its length."
   ]
  },
  {
   "cell_type": "code",
   "execution_count": 36,
   "metadata": {},
   "outputs": [],
   "source": [
    "unique_chars_lower = list(set(input_str.lower()))"
   ]
  },
  {
   "cell_type": "code",
   "execution_count": 41,
   "metadata": {},
   "outputs": [
    {
     "data": {
      "text/plain": [
       "6874"
      ]
     },
     "execution_count": 41,
     "metadata": {},
     "output_type": "execute_result"
    }
   ],
   "source": [
    "result_lengths = []\n",
    "original_list = list(input_str)\n",
    "for i in range(0, len(unique_chars_lower) - 1):\n",
    "    char_to_remove = unique_chars_lower[i]\n",
    "    nlist = [c.replace(char_to_remove, '') for c in original_list]\n",
    "    nlist = [c.replace(char_to_remove.capitalize(), '') for c in nlist]\n",
    "    nstr = list(''.join(nlist))\n",
    "    flag = True\n",
    "    while flag:\n",
    "        comp_str = ''.join(nstr)\n",
    "        for i in range(0,len(nstr) - 1):\n",
    "            char1 = nstr[i]\n",
    "            char2 = nstr[i + 1]\n",
    "            if (char1.islower() and char2.isupper()) or (char2.islower() and char1.isupper()):\n",
    "                if char1.capitalize() == char2.capitalize():\n",
    "                    nstr[i], nstr[i+1] = '', ''\n",
    "        res = ''.join(nstr)\n",
    "        if res == comp_str:\n",
    "            result_lengths.append(len(res))\n",
    "            flag = False\n",
    "        else:\n",
    "            nstr = list(res)\n",
    "min(result_lengths)"
   ]
  },
  {
   "cell_type": "markdown",
   "metadata": {},
   "source": [
    "### Answer to Part 2 is 6874"
   ]
  }
 ],
 "metadata": {
  "kernelspec": {
   "display_name": "Python 3",
   "language": "python",
   "name": "python3"
  },
  "language_info": {
   "codemirror_mode": {
    "name": "ipython",
    "version": 3
   },
   "file_extension": ".py",
   "mimetype": "text/x-python",
   "name": "python",
   "nbconvert_exporter": "python",
   "pygments_lexer": "ipython3",
   "version": "3.6.5"
  }
 },
 "nbformat": 4,
 "nbformat_minor": 2
}
