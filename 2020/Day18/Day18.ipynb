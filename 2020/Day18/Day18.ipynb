{
 "cells": [
  {
   "cell_type": "markdown",
   "metadata": {},
   "source": [
    "## Part 1"
   ]
  },
  {
   "cell_type": "markdown",
   "metadata": {},
   "source": [
    "However, the rules of operator precedence have changed. Rather than evaluating multiplication before addition, the operators have the same precedence, and are evaluated left-to-right regardless of the order in which they appear."
   ]
  },
  {
   "cell_type": "markdown",
   "metadata": {},
   "source": [
    "Before you can help with the homework, you need to understand it yourself. Evaluate the expression on each line of the homework; what is the sum of the resulting values?\n",
    "\n"
   ]
  },
  {
   "cell_type": "code",
   "execution_count": 1,
   "metadata": {},
   "outputs": [],
   "source": [
    "import itertools\n",
    "import re"
   ]
  },
  {
   "cell_type": "code",
   "execution_count": 2,
   "metadata": {},
   "outputs": [],
   "source": [
    "data = [re.sub(r'\\n', '', x) for x in open(\"input.txt\").readlines()]"
   ]
  },
  {
   "cell_type": "code",
   "execution_count": 8,
   "metadata": {},
   "outputs": [],
   "source": [
    "def add_left_right(op_string):\n",
    "    try:\n",
    "        first_pair = re.findall(r\"^\\d+ [*|+] \\d+\", op_string)[0]\n",
    "    except:\n",
    "        return eval(op_string)\n",
    "    if re.findall(r\"^\\d+ [*|+] \\d+(.+)$\", op_string):\n",
    "        end_string = re.findall(r\"^\\d+ [*|+] \\d+(.+)$\", op_string)[0]\n",
    "        next_sum = eval(first_pair)\n",
    "#         next_string = str(next_sum) + end_string\n",
    "        next_string = re.sub('^'+ re.escape(first_pair), str(next_sum), op_string)\n",
    "        return add_left_right(next_string)\n",
    "    else:\n",
    "        return eval(op_string)"
   ]
  },
  {
   "cell_type": "code",
   "execution_count": 9,
   "metadata": {},
   "outputs": [],
   "source": [
    "def find_inner_paren(op_string):\n",
    "    paren_group = re.findall(r\"\\((.+)\\)\", op_string)\n",
    "    multiple_paren_check = op_string.count(\"(\")\n",
    "    if multiple_paren_check > 1:\n",
    "        first_bracket = re.findall(r\"\\(|\\)\", paren_group[0])\n",
    "        if first_bracket[0] != \"(\":\n",
    "            return re.findall(r\"\\(([^)]*)\\)\", op_string)[0]\n",
    "        else:\n",
    "            multiple_paren = re.findall(r\"\\(([^)]*)\\)\", paren_group[0])\n",
    "            return multiple_paren[0]\n",
    "    elif paren_group:\n",
    "        return paren_group[0]\n",
    "    else:\n",
    "        return op_string"
   ]
  },
  {
   "cell_type": "code",
   "execution_count": 10,
   "metadata": {},
   "outputs": [],
   "source": [
    "def eval_string(op_string):\n",
    "    eval_str = op_string\n",
    "    if eval_str.count(\"(\") > 0:\n",
    "        while eval_str.count(\"(\") > 0:\n",
    "            paren_str = find_inner_paren(eval_str)\n",
    "#             print(f\"paren_str: {paren_str}\")\n",
    "            paren_val = add_left_right(paren_str)\n",
    "#             print(f\"paren_val: {paren_val}\")\n",
    "            replace_str = \"(\" + paren_str + \")\"\n",
    "#             print(f\"replace_str: {replace_str}\")\n",
    "            eval_str = re.sub('\\('+ re.escape(paren_str) +'\\)', str(paren_val), eval_str)\n",
    "#             print(f\"eval_str: {eval_str}\")\n",
    "        return add_left_right(eval_str)\n",
    "    else:\n",
    "        return add_left_right(op_string)"
   ]
  },
  {
   "cell_type": "code",
   "execution_count": 12,
   "metadata": {},
   "outputs": [
    {
     "name": "stdout",
     "output_type": "stream",
     "text": [
      "The answer to part 1 is 31142189909908\n"
     ]
    }
   ],
   "source": [
    "part_1 = sum(map(lambda x: eval_string(x), data))\n",
    "print(f\"The answer to part 1 is {part_1}\")"
   ]
  }
 ],
 "metadata": {
  "kernelspec": {
   "display_name": "Python 3",
   "language": "python",
   "name": "python3"
  },
  "language_info": {
   "codemirror_mode": {
    "name": "ipython",
    "version": 3
   },
   "file_extension": ".py",
   "mimetype": "text/x-python",
   "name": "python",
   "nbconvert_exporter": "python",
   "pygments_lexer": "ipython3",
   "version": "3.6.10"
  }
 },
 "nbformat": 4,
 "nbformat_minor": 2
}
