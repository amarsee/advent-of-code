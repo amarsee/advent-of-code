{
 "cells": [
  {
   "cell_type": "markdown",
   "metadata": {},
   "source": [
    "Count the number of valid passports - those that have all required fields. Treat cid as optional. In your batch file, how many passports are valid?"
   ]
  },
  {
   "cell_type": "code",
   "execution_count": 8,
   "metadata": {},
   "outputs": [],
   "source": [
    "import itertools\n",
    "import re\n",
    "import pandas as pd"
   ]
  },
  {
   "cell_type": "code",
   "execution_count": 6,
   "metadata": {},
   "outputs": [],
   "source": [
    "data = [re.sub(r'\\n', '', x) for x in open(\"input.txt\").readlines()]"
   ]
  },
  {
   "cell_type": "code",
   "execution_count": 56,
   "metadata": {},
   "outputs": [],
   "source": [
    "# data"
   ]
  },
  {
   "cell_type": "code",
   "execution_count": 81,
   "metadata": {},
   "outputs": [],
   "source": [
    "passport_lists = []\n",
    "person = []\n",
    "for passport in data:\n",
    "    if passport != '':\n",
    "        person.append(passport.split())\n",
    "    if passport == '':\n",
    "        passport_lists.append(person)\n",
    "        person = []\n",
    "passport_lists.append(person) # One last entry that doesn't have a space"
   ]
  },
  {
   "cell_type": "code",
   "execution_count": 82,
   "metadata": {},
   "outputs": [],
   "source": [
    "# passport_lists"
   ]
  },
  {
   "cell_type": "code",
   "execution_count": 83,
   "metadata": {},
   "outputs": [],
   "source": [
    "passport_dict = {}\n",
    "passport_df = pd.DataFrame()\n",
    "for passport_list in passport_lists:\n",
    "    for info_list in passport_list:\n",
    "        for info in info_list:\n",
    "            key = re.findall(r'^(.+):', info).pop()\n",
    "            value = re.findall(r':(.+)$', info)\n",
    "            passport_dict[key] = value\n",
    "#     print(pd.DataFrame.from_dict(passport_dict))\n",
    "    passport_df = pd.concat([passport_df, pd.DataFrame(passport_dict)], sort = True)\n",
    "    passport_dict = {}"
   ]
  },
  {
   "cell_type": "code",
   "execution_count": 87,
   "metadata": {},
   "outputs": [
    {
     "data": {
      "text/html": [
       "<div>\n",
       "<style scoped>\n",
       "    .dataframe tbody tr th:only-of-type {\n",
       "        vertical-align: middle;\n",
       "    }\n",
       "\n",
       "    .dataframe tbody tr th {\n",
       "        vertical-align: top;\n",
       "    }\n",
       "\n",
       "    .dataframe thead th {\n",
       "        text-align: right;\n",
       "    }\n",
       "</style>\n",
       "<table border=\"1\" class=\"dataframe\">\n",
       "  <thead>\n",
       "    <tr style=\"text-align: right;\">\n",
       "      <th></th>\n",
       "      <th>byr</th>\n",
       "      <th>cid</th>\n",
       "      <th>ecl</th>\n",
       "      <th>eyr</th>\n",
       "      <th>hcl</th>\n",
       "      <th>hgt</th>\n",
       "      <th>iyr</th>\n",
       "      <th>pid</th>\n",
       "      <th>valid</th>\n",
       "    </tr>\n",
       "  </thead>\n",
       "  <tbody>\n",
       "    <tr>\n",
       "      <th>0</th>\n",
       "      <td>2000</td>\n",
       "      <td>89</td>\n",
       "      <td>amb</td>\n",
       "      <td>2034</td>\n",
       "      <td>#fffffd</td>\n",
       "      <td>176cm</td>\n",
       "      <td>2013</td>\n",
       "      <td>934693255</td>\n",
       "      <td>True</td>\n",
       "    </tr>\n",
       "    <tr>\n",
       "      <th>0</th>\n",
       "      <td>1939</td>\n",
       "      <td>NaN</td>\n",
       "      <td>grn</td>\n",
       "      <td>2020</td>\n",
       "      <td>#b5c3db</td>\n",
       "      <td>155cm</td>\n",
       "      <td>2017</td>\n",
       "      <td>#baec97</td>\n",
       "      <td>True</td>\n",
       "    </tr>\n",
       "    <tr>\n",
       "      <th>0</th>\n",
       "      <td>1960</td>\n",
       "      <td>NaN</td>\n",
       "      <td>dne</td>\n",
       "      <td>1972</td>\n",
       "      <td>z</td>\n",
       "      <td>152cm</td>\n",
       "      <td>2023</td>\n",
       "      <td>526669252</td>\n",
       "      <td>True</td>\n",
       "    </tr>\n",
       "    <tr>\n",
       "      <th>0</th>\n",
       "      <td>1926</td>\n",
       "      <td>NaN</td>\n",
       "      <td>#473aaf</td>\n",
       "      <td>2028</td>\n",
       "      <td>#c0946f</td>\n",
       "      <td>73in</td>\n",
       "      <td>2016</td>\n",
       "      <td>565318180</td>\n",
       "      <td>True</td>\n",
       "    </tr>\n",
       "    <tr>\n",
       "      <th>0</th>\n",
       "      <td>1940</td>\n",
       "      <td>277</td>\n",
       "      <td>oth</td>\n",
       "      <td>2030</td>\n",
       "      <td>#62e117</td>\n",
       "      <td>170cm</td>\n",
       "      <td>2019</td>\n",
       "      <td>472686027</td>\n",
       "      <td>True</td>\n",
       "    </tr>\n",
       "  </tbody>\n",
       "</table>\n",
       "</div>"
      ],
      "text/plain": [
       "    byr  cid      ecl   eyr      hcl    hgt   iyr        pid  valid\n",
       "0  2000   89      amb  2034  #fffffd  176cm  2013  934693255   True\n",
       "0  1939  NaN      grn  2020  #b5c3db  155cm  2017    #baec97   True\n",
       "0  1960  NaN      dne  1972        z  152cm  2023  526669252   True\n",
       "0  1926  NaN  #473aaf  2028  #c0946f   73in  2016  565318180   True\n",
       "0  1940  277      oth  2030  #62e117  170cm  2019  472686027   True"
      ]
     },
     "execution_count": 87,
     "metadata": {},
     "output_type": "execute_result"
    }
   ],
   "source": [
    "passport_df['valid'] = pd.notnull(passport_df[['byr', 'ecl', 'eyr', 'hcl', 'hgt', 'iyr', 'pid']]).all(1)\n",
    "passport_df.head()"
   ]
  },
  {
   "cell_type": "code",
   "execution_count": 85,
   "metadata": {},
   "outputs": [
    {
     "name": "stdout",
     "output_type": "stream",
     "text": [
      "The number of valid passports is 230\n"
     ]
    }
   ],
   "source": [
    "print(f\"The number of valid passports is {sum(passport_df['valid'])}\" )"
   ]
  },
  {
   "cell_type": "markdown",
   "metadata": {},
   "source": [
    "## Part 2"
   ]
  },
  {
   "cell_type": "markdown",
   "metadata": {},
   "source": [
    "You can continue to ignore the cid field, but each other field has strict rules about what values are valid for automatic validation:\n",
    "\n",
    "- byr (Birth Year) - four digits; at least 1920 and at most 2002.\n",
    "- iyr (Issue Year) - four digits; at least 2010 and at most 2020.\n",
    "- eyr (Expiration Year) - four digits; at least 2020 and at most 2030.\n",
    "- hgt (Height) - a number followed by either cm or in:\n",
    "- If cm, the number must be at least 150 and at most 193.\n",
    "- If in, the number must be at least 59 and at most 76.\n",
    "- hcl (Hair Color) - a # followed by exactly six characters 0-9 or a-f.\n",
    "- ecl (Eye Color) - exactly one of: amb blu brn gry grn hzl oth.\n",
    "- pid (Passport ID) - a nine-digit number, including leading zeroes.\n",
    "- cid (Country ID) - ignored, missing or not."
   ]
  },
  {
   "cell_type": "code",
   "execution_count": null,
   "metadata": {},
   "outputs": [],
   "source": []
  }
 ],
 "metadata": {
  "kernelspec": {
   "display_name": "Python 3",
   "language": "python",
   "name": "python3"
  },
  "language_info": {
   "codemirror_mode": {
    "name": "ipython",
    "version": 3
   },
   "file_extension": ".py",
   "mimetype": "text/x-python",
   "name": "python",
   "nbconvert_exporter": "python",
   "pygments_lexer": "ipython3",
   "version": "3.6.10"
  }
 },
 "nbformat": 4,
 "nbformat_minor": 2
}
