{
 "cells": [
  {
   "cell_type": "markdown",
   "metadata": {},
   "source": [
    "## Part 1"
   ]
  },
  {
   "cell_type": "markdown",
   "metadata": {},
   "source": [
    "Simulate your seating area by applying the seating rules repeatedly until no seats change state. How many seats end up occupied?\n",
    "\n"
   ]
  },
  {
   "cell_type": "code",
   "execution_count": 42,
   "metadata": {},
   "outputs": [],
   "source": [
    "import itertools\n",
    "import re\n",
    "from functools import reduce\n",
    "import copy"
   ]
  },
  {
   "cell_type": "code",
   "execution_count": 4,
   "metadata": {},
   "outputs": [],
   "source": [
    "data = [re.sub(r'\\n', '', x) for x in open(\"input.txt\").readlines()]"
   ]
  },
  {
   "cell_type": "code",
   "execution_count": 48,
   "metadata": {},
   "outputs": [],
   "source": [
    "# data"
   ]
  },
  {
   "cell_type": "code",
   "execution_count": 44,
   "metadata": {},
   "outputs": [],
   "source": [
    "flag = True\n",
    "current_seating = [list(x) for x in data[:]]\n",
    "iteration = 0\n",
    "while flag:\n",
    "    iteration += 1\n",
    "    new_seating = copy.deepcopy(current_seating)\n",
    "    for row_num, row_string in enumerate(current_seating):\n",
    "        for col_num, col_val in enumerate(row_string):\n",
    "            adjacent_seats = []\n",
    "            if row_num-1 >= 0: # Above\n",
    "                adjacent_seats.append(current_seating[row_num-1][col_num])\n",
    "            if col_num - 1 >= 0: # left\n",
    "                adjacent_seats.append(current_seating[row_num][col_num-1])\n",
    "            if row_num + 1 < len(data): # bottom \n",
    "                adjacent_seats.append(current_seating[row_num + 1][col_num])\n",
    "            if col_num + 1 < len(row_string): # right\n",
    "                adjacent_seats.append(current_seating[row_num][col_num + 1])\n",
    "            if row_num - 1 >= 0 and col_num - 1 >= 0: # Diagonal top left\n",
    "                adjacent_seats.append(current_seating[row_num-1][col_num-1])\n",
    "            if row_num - 1 >= 0 and col_num + 1 < len(row_string): # Diagonal top right\n",
    "                adjacent_seats.append(current_seating[row_num-1][col_num+1])\n",
    "            if col_num - 1 >= 0 and row_num + 1 < len(data): # diagonal bottom left\n",
    "                adjacent_seats.append(current_seating[row_num + 1][col_num-1])\n",
    "            if col_num + 1 < len(row_string) and row_num + 1 < len(data): # diagonal bottom right\n",
    "                adjacent_seats.append(current_seating[row_num + 1][col_num + 1])\n",
    "            \n",
    "            if col_val == \"L\" and adjacent_seats.count(\"#\") == 0:\n",
    "                new_seating[row_num][col_num] = \"#\"\n",
    "            elif col_val == \"#\" and adjacent_seats.count(\"#\") >= 4:\n",
    "                new_seating[row_num][col_num] = \"L\"\n",
    "\n",
    "    if new_seating == current_seating:\n",
    "        flag = False\n",
    "    else:\n",
    "        current_seating = copy.deepcopy(new_seating)"
   ]
  },
  {
   "cell_type": "code",
   "execution_count": 46,
   "metadata": {},
   "outputs": [],
   "source": [
    "part_1 = reduce(lambda x, y: x+y,  map(lambda x: x.count(\"#\"), new_seating))"
   ]
  },
  {
   "cell_type": "code",
   "execution_count": 47,
   "metadata": {},
   "outputs": [
    {
     "name": "stdout",
     "output_type": "stream",
     "text": [
      "The answer to part 1 is 2424\n"
     ]
    }
   ],
   "source": [
    "print(f\"The answer to part 1 is {part_1}\")"
   ]
  },
  {
   "cell_type": "code",
   "execution_count": null,
   "metadata": {},
   "outputs": [],
   "source": []
  }
 ],
 "metadata": {
  "kernelspec": {
   "display_name": "Python 3",
   "language": "python",
   "name": "python3"
  },
  "language_info": {
   "codemirror_mode": {
    "name": "ipython",
    "version": 3
   },
   "file_extension": ".py",
   "mimetype": "text/x-python",
   "name": "python",
   "nbconvert_exporter": "python",
   "pygments_lexer": "ipython3",
   "version": "3.6.10"
  }
 },
 "nbformat": 4,
 "nbformat_minor": 2
}
