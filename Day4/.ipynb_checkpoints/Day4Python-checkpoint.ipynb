{
 "cells": [
  {
   "cell_type": "markdown",
   "metadata": {},
   "source": [
    "## Part 1"
   ]
  },
  {
   "cell_type": "code",
   "execution_count": 127,
   "metadata": {},
   "outputs": [],
   "source": [
    "import numpy as np\n",
    "import pandas as pd\n",
    "import re\n",
    "from datetime import datetime"
   ]
  },
  {
   "cell_type": "code",
   "execution_count": 128,
   "metadata": {},
   "outputs": [],
   "source": [
    "data = [str(x) for x in open(\"input.txt\").read().splitlines()]"
   ]
  },
  {
   "cell_type": "code",
   "execution_count": 129,
   "metadata": {},
   "outputs": [],
   "source": [
    "dates = [re.findall(r'\\[(.*)\\]', entry)[0] for entry in data]"
   ]
  },
  {
   "cell_type": "code",
   "execution_count": 130,
   "metadata": {},
   "outputs": [],
   "source": [
    "rest = [re.findall(r'\\] (.*)$', entry)[0] for entry in data]"
   ]
  },
  {
   "cell_type": "code",
   "execution_count": 131,
   "metadata": {},
   "outputs": [],
   "source": [
    "guard_ids = []\n",
    "for i in range(0,len(rest)):\n",
    "    entry = rest[i]\n",
    "    if re.findall(r'(\\d+)', entry) == []:\n",
    "        guard_ids.append(np.nan)\n",
    "    else :\n",
    "        guard_ids.append(int(re.findall(r'(\\d+)', entry)[0]))"
   ]
  },
  {
   "cell_type": "code",
   "execution_count": 132,
   "metadata": {},
   "outputs": [],
   "source": [
    "guard_shift_df = pd.DataFrame(\n",
    "    {'date': dates,\n",
    "     'guard_id': guard_ids,\n",
    "     'note': rest\n",
    "    })"
   ]
  },
  {
   "cell_type": "code",
   "execution_count": 133,
   "metadata": {},
   "outputs": [],
   "source": [
    "shift_sorted = guard_shift_df.sort_values(by = 'date').reset_index(drop = True)\n",
    "shift_sorted['guard_id'].fillna(method = 'ffill', inplace = True)"
   ]
  },
  {
   "cell_type": "code",
   "execution_count": 134,
   "metadata": {},
   "outputs": [],
   "source": [
    "shift_sorted['minute'] = shift_sorted.date.str[-2:]\n",
    "shift_sorted['minute'] = pd.to_numeric(shift_sorted['minute'])"
   ]
  },
  {
   "cell_type": "code",
   "execution_count": 135,
   "metadata": {},
   "outputs": [
    {
     "data": {
      "text/html": [
       "<div>\n",
       "<style scoped>\n",
       "    .dataframe tbody tr th:only-of-type {\n",
       "        vertical-align: middle;\n",
       "    }\n",
       "\n",
       "    .dataframe tbody tr th {\n",
       "        vertical-align: top;\n",
       "    }\n",
       "\n",
       "    .dataframe thead th {\n",
       "        text-align: right;\n",
       "    }\n",
       "</style>\n",
       "<table border=\"1\" class=\"dataframe\">\n",
       "  <thead>\n",
       "    <tr style=\"text-align: right;\">\n",
       "      <th></th>\n",
       "      <th>date</th>\n",
       "      <th>guard_id</th>\n",
       "      <th>note</th>\n",
       "      <th>minute</th>\n",
       "      <th>time_asleep</th>\n",
       "    </tr>\n",
       "  </thead>\n",
       "  <tbody>\n",
       "    <tr>\n",
       "      <th>0</th>\n",
       "      <td>1518-02-24 23:58</td>\n",
       "      <td>853.0</td>\n",
       "      <td>Guard #853 begins shift</td>\n",
       "      <td>58</td>\n",
       "      <td>0.0</td>\n",
       "    </tr>\n",
       "    <tr>\n",
       "      <th>1</th>\n",
       "      <td>1518-02-25 00:20</td>\n",
       "      <td>853.0</td>\n",
       "      <td>falls asleep</td>\n",
       "      <td>20</td>\n",
       "      <td>0.0</td>\n",
       "    </tr>\n",
       "    <tr>\n",
       "      <th>2</th>\n",
       "      <td>1518-02-25 00:43</td>\n",
       "      <td>853.0</td>\n",
       "      <td>wakes up</td>\n",
       "      <td>43</td>\n",
       "      <td>23.0</td>\n",
       "    </tr>\n",
       "    <tr>\n",
       "      <th>3</th>\n",
       "      <td>1518-02-25 23:56</td>\n",
       "      <td>3499.0</td>\n",
       "      <td>Guard #3499 begins shift</td>\n",
       "      <td>56</td>\n",
       "      <td>0.0</td>\n",
       "    </tr>\n",
       "    <tr>\n",
       "      <th>4</th>\n",
       "      <td>1518-02-26 00:11</td>\n",
       "      <td>3499.0</td>\n",
       "      <td>falls asleep</td>\n",
       "      <td>11</td>\n",
       "      <td>0.0</td>\n",
       "    </tr>\n",
       "    <tr>\n",
       "      <th>5</th>\n",
       "      <td>1518-02-26 00:19</td>\n",
       "      <td>3499.0</td>\n",
       "      <td>wakes up</td>\n",
       "      <td>19</td>\n",
       "      <td>8.0</td>\n",
       "    </tr>\n",
       "    <tr>\n",
       "      <th>6</th>\n",
       "      <td>1518-02-26 00:37</td>\n",
       "      <td>3499.0</td>\n",
       "      <td>falls asleep</td>\n",
       "      <td>37</td>\n",
       "      <td>0.0</td>\n",
       "    </tr>\n",
       "    <tr>\n",
       "      <th>7</th>\n",
       "      <td>1518-02-26 00:44</td>\n",
       "      <td>3499.0</td>\n",
       "      <td>wakes up</td>\n",
       "      <td>44</td>\n",
       "      <td>7.0</td>\n",
       "    </tr>\n",
       "    <tr>\n",
       "      <th>8</th>\n",
       "      <td>1518-02-26 00:53</td>\n",
       "      <td>3499.0</td>\n",
       "      <td>falls asleep</td>\n",
       "      <td>53</td>\n",
       "      <td>0.0</td>\n",
       "    </tr>\n",
       "    <tr>\n",
       "      <th>9</th>\n",
       "      <td>1518-02-26 00:58</td>\n",
       "      <td>3499.0</td>\n",
       "      <td>wakes up</td>\n",
       "      <td>58</td>\n",
       "      <td>5.0</td>\n",
       "    </tr>\n",
       "  </tbody>\n",
       "</table>\n",
       "</div>"
      ],
      "text/plain": [
       "               date  guard_id                      note  minute  time_asleep\n",
       "0  1518-02-24 23:58     853.0   Guard #853 begins shift      58          0.0\n",
       "1  1518-02-25 00:20     853.0              falls asleep      20          0.0\n",
       "2  1518-02-25 00:43     853.0                  wakes up      43         23.0\n",
       "3  1518-02-25 23:56    3499.0  Guard #3499 begins shift      56          0.0\n",
       "4  1518-02-26 00:11    3499.0              falls asleep      11          0.0\n",
       "5  1518-02-26 00:19    3499.0                  wakes up      19          8.0\n",
       "6  1518-02-26 00:37    3499.0              falls asleep      37          0.0\n",
       "7  1518-02-26 00:44    3499.0                  wakes up      44          7.0\n",
       "8  1518-02-26 00:53    3499.0              falls asleep      53          0.0\n",
       "9  1518-02-26 00:58    3499.0                  wakes up      58          5.0"
      ]
     },
     "execution_count": 135,
     "metadata": {},
     "output_type": "execute_result"
    }
   ],
   "source": [
    "shift_sorted['time_asleep'] = 0\n",
    "shift_sorted.loc[shift_sorted['note'] == 'wakes up', 'time_asleep'] = shift_sorted.minute.diff()\n",
    "shift_sorted.head(10)\n"
   ]
  },
  {
   "cell_type": "code",
   "execution_count": 136,
   "metadata": {},
   "outputs": [
    {
     "data": {
      "text/html": [
       "<div>\n",
       "<style scoped>\n",
       "    .dataframe tbody tr th:only-of-type {\n",
       "        vertical-align: middle;\n",
       "    }\n",
       "\n",
       "    .dataframe tbody tr th {\n",
       "        vertical-align: top;\n",
       "    }\n",
       "\n",
       "    .dataframe thead th {\n",
       "        text-align: right;\n",
       "    }\n",
       "</style>\n",
       "<table border=\"1\" class=\"dataframe\">\n",
       "  <thead>\n",
       "    <tr style=\"text-align: right;\">\n",
       "      <th></th>\n",
       "      <th>time_asleep</th>\n",
       "    </tr>\n",
       "    <tr>\n",
       "      <th>guard_id</th>\n",
       "      <th></th>\n",
       "    </tr>\n",
       "  </thead>\n",
       "  <tbody>\n",
       "    <tr>\n",
       "      <th>727.0</th>\n",
       "      <td>444.0</td>\n",
       "    </tr>\n",
       "  </tbody>\n",
       "</table>\n",
       "</div>"
      ],
      "text/plain": [
       "          time_asleep\n",
       "guard_id             \n",
       "727.0           444.0"
      ]
     },
     "execution_count": 136,
     "metadata": {},
     "output_type": "execute_result"
    }
   ],
   "source": [
    "shift_sorted[['guard_id', 'time_asleep']].groupby(by = 'guard_id').sum().sort_values(by = 'time_asleep', ascending = False).head(1)"
   ]
  },
  {
   "cell_type": "markdown",
   "metadata": {},
   "source": [
    "## Guard 727 sleeps the most\n",
    "444 minutes"
   ]
  },
  {
   "cell_type": "code",
   "execution_count": 137,
   "metadata": {},
   "outputs": [],
   "source": [
    "guard_727 = shift_sorted.loc[(shift_sorted['guard_id'] == 727.0) & ((shift_sorted['note'] == 'wakes up') | (shift_sorted['note'] == 'falls asleep')), :]"
   ]
  },
  {
   "cell_type": "code",
   "execution_count": 138,
   "metadata": {},
   "outputs": [],
   "source": [
    "a = np.zeros(60)"
   ]
  },
  {
   "cell_type": "code",
   "execution_count": 139,
   "metadata": {},
   "outputs": [],
   "source": [
    "guard_interest_list = guard_727['minute'].tolist()\n",
    "for i in range(1,len(guard_interest_list)-1, 2):\n",
    "    start = guard_interest_list[i-1]\n",
    "    stop = guard_interest_list[i]\n",
    "    a[start:stop] += 1\n"
   ]
  },
  {
   "cell_type": "code",
   "execution_count": 140,
   "metadata": {},
   "outputs": [
    {
     "data": {
      "text/plain": [
       "29"
      ]
     },
     "execution_count": 140,
     "metadata": {},
     "output_type": "execute_result"
    }
   ],
   "source": [
    "np.argmax(a)"
   ]
  },
  {
   "cell_type": "markdown",
   "metadata": {},
   "source": [
    "### What is the ID of the guard you chose multiplied by the minute you chose?"
   ]
  },
  {
   "cell_type": "code",
   "execution_count": 141,
   "metadata": {},
   "outputs": [
    {
     "data": {
      "text/plain": [
       "21083"
      ]
     },
     "execution_count": 141,
     "metadata": {},
     "output_type": "execute_result"
    }
   ],
   "source": [
    "29 * 727"
   ]
  },
  {
   "cell_type": "markdown",
   "metadata": {},
   "source": [
    "## Part one answer is 21,083"
   ]
  }
 ],
 "metadata": {
  "kernelspec": {
   "display_name": "Python 3",
   "language": "python",
   "name": "python3"
  },
  "language_info": {
   "codemirror_mode": {
    "name": "ipython",
    "version": 3
   },
   "file_extension": ".py",
   "mimetype": "text/x-python",
   "name": "python",
   "nbconvert_exporter": "python",
   "pygments_lexer": "ipython3",
   "version": "3.6.5"
  }
 },
 "nbformat": 4,
 "nbformat_minor": 2
}
