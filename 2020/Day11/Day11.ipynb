{
 "cells": [
  {
   "cell_type": "markdown",
   "metadata": {},
   "source": [
    "## Part 1"
   ]
  },
  {
   "cell_type": "markdown",
   "metadata": {},
   "source": [
    "Simulate your seating area by applying the seating rules repeatedly until no seats change state. How many seats end up occupied?\n",
    "\n"
   ]
  },
  {
   "cell_type": "code",
   "execution_count": 42,
   "metadata": {},
   "outputs": [],
   "source": [
    "import itertools\n",
    "import re\n",
    "from functools import reduce\n",
    "import copy"
   ]
  },
  {
   "cell_type": "code",
   "execution_count": 4,
   "metadata": {},
   "outputs": [],
   "source": [
    "data = [re.sub(r'\\n', '', x) for x in open(\"input.txt\").readlines()]"
   ]
  },
  {
   "cell_type": "code",
   "execution_count": 57,
   "metadata": {},
   "outputs": [
    {
     "data": {
      "text/plain": [
       "['LLLLLL.LLLLLLLLLL.LLLLLL.LLLLLLLLL.LLLL..LLLL.LLLLLL.LLLL.LLLLLLLLLLLLLLLLLLLLLLLLLLLLLLLLLLLLLL',\n",
       " 'LLLLLLLLLLL.LLLLL.LLLLLL.LLLLLLLLL.L.LLL.LLLL.LLLLLL.LLLL.LLLLLLLLL.LLLLLLLL.LLLLL.LLLLLLLLLLLLL',\n",
       " 'LLLLLL.LLLL.LLLLL.LLLLLL.LLLLLLLLL.LLLLL.LL.L.LLLLLL.LLLL.LLLLLLLLL.LLLLLL.LLLLLLLLLL.LLLLLLLLLL',\n",
       " 'LLLLLL.LLLL.LLLLL.LLLLLL.LLLLLLLLL.LLLLL.LLLL..LLLLLLLLLL.LLLLLLLLLLLLLLLL.LLLLLLLLLLLLLLL.LL.LL',\n",
       " 'LLLLLL.LLLL.LLLLL.LLLLLL.LLLLLLLLL.LLLLLLLLLLLLLLLLL.LLLL.LLLLLLLLLLLLLLLLLLLLLLLL.LLLLLLLLLLLLL',\n",
       " '..L.L....L.LL.L.L..L..L..LL.....LL.L..L...LL....L..L.LL...LLLL.LL.L.LL....L.L.L.LLLL.L....L.....',\n",
       " 'LLLLLLLLLLLLLLLLLLLLLLLL.LLLLLLLLL.LLLLL.LLL...LLLLL.LLLLLLLLLLLLLL.LLLLLLLLLLLLLL.LLLLLLLLLLLLL',\n",
       " 'LLLLLL.LLLL.LLLLL.LLLLLL.LLLLLLLLL..LLLLLL.LL.LLLLLL.LLLL.LLLLLLLLLLLLLLLLLLLLLLLL.LLLLLLL.LLLLL',\n",
       " 'LLLLLL.LLLL.LLLLL.LLLLLL.LLLLLLLLL.LLLLL.LLLL.LLLLLL.LLLLLLLLLLLLL..LLLLLLLLLLLLLLLLL.LLLL.LLLLL',\n",
       " '.LLLLL.LLLLLLLLLL..LLL.L.LLLLLLLLL.LLLLL.LLLLL.LLL.L.LLLLLLLLLLLLLL.LLLLLL.LLLLLLLLLLLLLLLLLLLLL',\n",
       " 'LLLLLLLLLL..LLLLL.LLLLLL.LLLLLLLLLLLLLL..LLLL.LLLLLL.LLLL.LLLLLLLLLLLLLLLL.LLLLLLL.LLLLLLL.LLLLL',\n",
       " 'L.L......L..LLL.L......L.LL..L.L.........L......L...LL.LL.L..LL..........L...L..LL...L.L.L....L.',\n",
       " 'LLLLLL.LLLL.LLLLLLLLLLLLLLLLLLLLLLLLLLLL.LLLL.LLLLLL.LLLL.LLLLLLLLLLLLLLLLLLLLLLLLLLLLLLLLLLLLLL',\n",
       " 'LLLLLLLLLLL.LLLL..LLLLLL.LLLLLLLLL.LLLLLLLLLL.LLLLLL.LLLL.LLLLLLLLL.LLLLLL.LLLLLLL.LLLLLLL.LLLLL',\n",
       " 'LLLLLL.LLLL.LLLLLL.LLLLLLLLLLLLLLL.LLLL.LLLLL.LLLLLL.LLLLLLLLLLLLLL.LLLLLL.LLLLL.L.LLLLLLL.LLLLL',\n",
       " 'LLLLLL.LL.L.LLLLL.LLLLLLLLLLLLLLLL.LLLLLLLLLLLLLLLLL.LLLL.LLLLLLLLL.LLLL.L.LLLLLLLLLLLLLLL.LLLLL',\n",
       " 'LLLLLLLLL.L.LLLLL.LLLLLL.LLLLLLLLL.LLLLLLLLLL.LLLLLL.LLLL.LLLLLL.LL.LLLLLL.LLLLLLLLLLLLLLL.LLLLL',\n",
       " 'LLLLLL.LLLL.LLLL.LLLLLLLLLLLLLLLLLLLLLLL.LLLL.LLLL.LLLLLL.LLLLLLLLL.LLLLLL.LLLLLLL.LLLLLLL.LLLLL',\n",
       " 'LLLLLL.LLLLLLLLLLLLLLLLL.LLL.LLLLL.LLLLL.LLLL.LLLLLLLLLLL.LLLLLLLLLLLLLLLL.LLLLLLLLLLLLLLL.LLLLL',\n",
       " 'LLLLLLLLLLL.LLLLL.LLLLLL.LLLLL.LLLLLLLLLLLLLL.LLLLLL.LLLL.LLLLLLLLLLLLLLLL.LLLLLLL.LLLLLLLLLLLLL',\n",
       " 'LLLLLLLLLLLLLLLLL.LLLLLLLLLLLLLLLL.LLLLLLLLLL.LLLLLLLLLLL.LLLLLLLLLLLLLLLL.LLLLLLL.LLLLLLL.LLLLL',\n",
       " '......L..L..L....L.L..LLLL.L.L..L..L.LL...............LL.....L....LLL.L...LL...L.......L....L...',\n",
       " 'LLLLLL.LLLL.LL.LL.LLLLLL.LLLLL.LLLLLLLLL.LLLLLLLLLLL.LLLL.LLLLLLLLL.LLLLLL.LLLLLLL.LLLLLLL.LLLLL',\n",
       " 'L.LLLL.LLLLLLLLLL.LLLLLL.LLLLLLLLLLLLL.L.LLLL.LLLLLL.LLLL.LLLLLLLLL.LLLLLLLLLLLLLL.LLLLLLL.LLLLL',\n",
       " 'LL.LLLLLLLL.LLLLL.LLLLLLLLLLLLLLL.LLLLLL.LLLL.LLLLLL.LLLL.LLLLLLLLL.LLLLLL.LLLLLLL.LLLLLLL.LLLLL',\n",
       " 'LLLLLL.LLLL.LLLLL.LLLLLLLLLLLLLLLL.LLLL..LLLL.LLLLLLLLLLL.LLL.LLLLLLLLLLLL.LLLLLLL.LLLLLLLLLLLLL',\n",
       " '.L..L.L..LL..L...LLL.LL.....L.....L.L....L...LL..LLL..LL..L.L.LL....LLLLLLL..L..LLL......L......',\n",
       " 'LLLLLL.LLLLLLLLLLLLLLLLL.L.LLLLLLL.LLLLL.LL.LLLL.LLLLLLLLLLLLLLLLLL.LLLLLL.LLLLLLL.LLLLLLL.LLLLL',\n",
       " 'LLLLLL.LLLL.L.LLL.LLLLLL.LLLLLLLLL.LLLLL.LLLLLLLLLLL.LLLL.LL.LLLLLL.LLLLLL.LLLLLLL.LLLLLLLLLLLLL',\n",
       " 'LLLLLL.LLLL.LLLLLLLLLLLLLLLLLLLLLLLLLLLLLLLLL.LLLLLL.LLLL.LLLLLLLLL.LLLLLLLLLLLLLLLLL.LLLL.LLLLL',\n",
       " 'LLLLLL.LLLL.LLLLLLLLLLLLLLLLLLLLLL.LLLLL.LLLL.LLLL.LLLLLL.LLLLLLLLLLLLLLLLLLLLLLLL.LLLLLLL.LLLLL',\n",
       " 'LLLLLL.LLLLLLLLLL.LLLLLL.LLLLLLLLL.LLLLL.LLLL.LLLL.LLLLLL.LLLLLLLLLLLLLLLL.LLLLLL..LLLLLLLLLLLLL',\n",
       " 'L..L..LL......LL.L.....L...L.LL.L.L..L.L..L..L.L....L.L..LL.LL.L.LL............L.....L....LL.LL.',\n",
       " 'LLLLLLLLLLL.LLLLLLLLLLLLLLLLLLL.LLLLLLLLLLLLL.LLLLLL.LLL..LLLLLLLLL.LLLLLLLLLLLLLLLLLLLLL.LLLLLL',\n",
       " 'LLLLLLLLLLLLLLLLLLLLLLLL.LLLLLLLLL.LLLLL.LLLL.LLLLLL.LLLL.LLLLLLLLL.LLLLLL.LLLLLLL.LLLLLLL.LLLLL',\n",
       " 'LLLLLLLLLLL.LLLLL.LLLLLL.LLLLLLLLLLLLLLLLLLLLLLLLLLL.LL.LLLLLLLLLLL.LLLLLL.LLLLLLLLLLLLLLLLLLLLL',\n",
       " 'LLLLLLLLLLLLLLLLLLLLLLLLLLLLLLLLL...LL.L.LLLL.LLLLLL.LLLL.LLLLLLLLL.LLLLLL.LLLLLLL.LLLLLLL.LLL.L',\n",
       " 'LLLLLL.LLLLLLL.LL.LLLLLL..L.LLLLLL.LLLLL.LLLLLLLLLLLLL.LL.LLLLLLLLLLLLLLLL.LLLLLLL.LLLLLLL.LLLLL',\n",
       " 'LLLLLL.LLLLLLLLLL.L.LLLL.LLLLLLLLL.LLLLLLLLLL.LLLLLLLLLLLLLLLLLLLLLLLLLLL..LLLLLLL.LLLLLLL.LLLLL',\n",
       " 'LLLLLL.LLL.LLLLLLLLLLLLL.LLLLLLLLL.LLLLL.LLLL.LLLLLL.LL.L.LLLLLLLLL.LLLLLL.LLLLLLLLLLLLLLL.LLLLL',\n",
       " 'LLLLLL.LLLL.LLLLL.LLLLLL.LLLLLLLL.LLLLLL.LLLL.LLLLLL.LLLL.LLLLLLLLL.LLLLLL.LLLLLLL.LLLLLLL.LLLLL',\n",
       " 'LLLLLL.LLLL.LLLLL.LLLLLL.LLLLLLLLL.LLLLLLLLLL.LLLLLLLLLLL.LLLLLLLLLLLLLLLL.L.LLLLL.LLLLLLL.LLLLL',\n",
       " '..L..L..L.L..LL...L.L....L..L.L..L..........LL.....L.L..L...L......L...LL......LL...L..LL.L....L',\n",
       " 'LLLLLL.LLLLLLLLLL.LLLLLL.LLL.LLLLLLLLLLLLLLLL.LLLLLL.LLLL.LLLLLLLLL.LLLLLL.L.LLLLL.LLLLLLLLLLLLL',\n",
       " 'LLLLLL.LL.L.LLLLL.LLLLLLLLLLLLLLLL.LLLLL.LLLLLLLLLLL.LLLLLLLLLLLLLLLLLLLLLLLLLLLLL.LLLLLLL.LLLLL',\n",
       " 'LLLLLL.LLLL..LLLLLL.L.LLLLLLLLLLLL.LLLLLLLLLLLLLLLLL.LLLL.LLLLLLLLLLLLLLLL.LLLLLLL.LLLLLLL.LLLLL',\n",
       " 'LLLLLL.LLLL.L.LLL.LLLLLL.LLLLLLLLL.LL.LL.LLL.LLLLLLL.LLLL.LLLLLLLLLLLLLLLL.LLLLLLLLLL.LLLLLLLLLL',\n",
       " '...LL...L.LLLLL.LL.LL....L..L.L..L.......L..LL.L.L..L......L...LL....LLLL.LL.LLL..L..LLLL...L...',\n",
       " 'LLLLLL.LLLLLLLLLLLLLLL.L.L.LLLLLLL.LLLLL.L.LLLLLLLLL..LLLLLLLLLLLLLLLLLLLLLLLLLLLLLLLLLLLLLLLLLL',\n",
       " 'LLLLLLLLLLL.LLLLL.LLLLLLLLLLLLLLLL.LLLLLLLLLLLLLLLLL.LLLLLLLLLLLLLLLLLLLLL.LLLLLLLLLLLLLLL.LLLLL',\n",
       " 'LLLLLL.LLLL.LLLLLLLLLLLL.LLLLLLLLLLLLLLL.LLLL.LLLLLL.LLLLLLLLLLLLLL.LLLLLLLLLLLLLLLLLLLLLL.LLLLL',\n",
       " 'LLLLLL.LLLL.LLLLL.LLLLLL.LLLLLLLLLLLLLLLLLLLL.LLLLLL.LLLL.LLLLLLLLL.LLLLLL.LLLLLLLLLLLLL.LLLLLLL',\n",
       " 'LLLLLLL.LLL.LLLLL.LLLLLL.LLLLLLLLL.LLLLL.LLLL.LLLLLL.LLLL.LLL.LL.LLLLLLLLLLLLLLLLL.LLLLLLL.LLLLL',\n",
       " 'LLLL.L.LLLLLLLLLL.LLLLLLLLLLLLLLLLL.LLLLLLLLL.LLLLLL.LLLL.LLLLLLL.L.LLLLLL.LLLLLLLLLLLLLLLLLLLLL',\n",
       " 'LLLLL..LLLL.LLLLLLLLLLLL.LLLLLLLLL.LLLLL.LLLL.LLL.LL.LLLLLLLLLLLLLLLLLLLLL.LLLLLLL.LLLLLLL.LLLLL',\n",
       " 'LLLLLL.LLLLLLLLLL.LLLLLLLLLLLLLLLLLLLLLL.LLLLLLLL.LL.LLLL.LLLLLLLLL.LLLLLLLLLLLLLL.LLLLLLL.LLLLL',\n",
       " 'LL.LLL.LLL..LLLLL.LLLLLL.LLLLLLLLLLLLLLL.LLLL.LLLLLL.LLLLLLLLLLLLLL.LLLLLL.LLLLLLL.LLLLLLLLLLLLL',\n",
       " '.....L...LL...LL...L..L..L.LL.L.LL....L....L....L.L...L...LL.LL...L..L.L.L..L..LL.LL.LL..L.....L',\n",
       " 'LLLLLL.LLLL.LLLLLLLLLLLLLLLLLLLLLL.LLLLL.LLLLLLLLLLLLLLLLLLLLLLLLLL.LLLLLL.LLLLLLL.LLLLLLL.LLLLL',\n",
       " 'LLLLLL.LLLLLLLLLL.LL.LLL.LLLLLLLLLLLLLLL.LLLL.LLLLLL.LLLL.LL.LLLLLL.LLLLLLLLLLLLLL.LLLLLLL.LLLLL',\n",
       " 'LLLLLL.LL.L.LLLLL.LLLLLLLLLLLLLLLL.LLLLL.LLLLLLLLLLL.LLLLLLLLLLLLLL.LLLLLLLLL.LLL.LLLLLLLL.LLLLL',\n",
       " 'LL.L.LLLLLL.LLLLL.LLLLLL.LLLLLLLLL.LLLLL.LLLL.LLLLLL.LLLL.LLLLLLLLL.LLLLLLLLLLLLLL.LLLLLLL.LLLLL',\n",
       " 'LLLLLL.LLLL.LLLLLLLLLLLLLLLLLLLLLL.LLLL..LLLLLLLLLLLLLLLLL.LLLLLLLL.LLLLLL.LLLLLLL.LLLLLLL.LLLLL',\n",
       " 'LLLL.L.LLLL.LLLLL.LLLLLLLLLLLLLLLL.LLLLL.LLLL.LLLLLL.LLLL.LLLLLLLLL.LLLLLL.LLLLLLLLLLLLLLLLLLLLL',\n",
       " '.L...L.....L..L...LLL.....LL.........L.......L...........LLL.........L...L..L.LLLLL.L.LL....L.LL',\n",
       " 'LLLLLL.LL.L.LLLLL.LLLLL.LLLLLLLLLLLLLLLL.LLLLLLLLLLLLL.LL.LLLLLLLLL.LLLLLL.LLLLLLLLLLLLLLL.LLLLL',\n",
       " 'LLL.LL.LLLL.LLLLLLLLLLLL.LLLLLLLLL.LLLLLLLLLL.LLLLLL.LLLLLLLLLLLLLLLLLLLLL.LLLLLLL.LLLLLLL.LLLLL',\n",
       " 'L.LLLLLLLLL.LLLLLLLLLLLL.LLLLLLLLL.LLLLL.LLLL.LLLLLL.LLLL.LLLLLLLLL.LLLLLLLLLL.LLL.LLLLLLL.LLLLL',\n",
       " 'LLLLLL.LLLL.LLLLL.LLLLLL.LL.LLLLLL.LLLLL.LLLLLLLLLLL.LLLLLLLLLLLLLL.LLLLLL.LLLLLLL.LLLLLLL.LLLLL',\n",
       " 'LLLLLL.LLLLLLLLLL.LLLLLL.LLLLLLLLL.LLLLL..LLLLLLLLLL.LLLL.LLLLLLLLLLLLLLLLLLLLLLLLLLLLLLLLLLLLLL',\n",
       " 'LLLLLL.LLLLLLLLLLLLLLLLL.LLLLLLLLL.LLLLLLLLLLLLLLLLL.LLLL.LLLLLLLLLLLLLLLL.LLLLLLL.LLLLLLL.LLLLL',\n",
       " 'LLLL..LL....L.L..L........L..L...L.L.L....LLL.LLL.L.....L.....LLL..L..L.........L.L....L....LL..',\n",
       " 'LLL.LLLLLLL.LLLLLLLLL.LL.LLLLLLLLL.LLLLLLLLLL.LLLLLL.LLLL.L.LLLLLLLLLLLLLL.LLLLLLL.LLLLLLLLLLLLL',\n",
       " 'LLLLLL.LLLLLLLLLL..LLLLL.LLLLLLLLLLLLLLL.LLLL.LLLLLLLL.LLLLLLLLLLLL.LLLL.LLLLLLLLLLLLLLLLLLLL.LL',\n",
       " 'LLLLLL.LLLL.LLLLLLLLLLLLLLLLLLLLLLLLLLLL.LLLL.LLLLLLLLLLLLLLLLLLLLL.LLLLLL.LLLLLLLLLLLLLLL.LLLLL',\n",
       " 'LLLLLL.LLLL.LLLLL.LLLLLLLLLLLLLLLL.LLLLLLLLLL.LLLLLLLLLLL.L.LLLLLLL.LLLLLL.LLLLLLL.LLLLLLL.LLLLL',\n",
       " 'LL.LLLLL..L.LL...L.LL....LLL..LL...L.......L.L....LL.L.L...LL.L...LLL.LLL...L..L.L.L.LL....L..LL',\n",
       " 'LLLLLLLLLLL.LLLLL.LLLLLL.LLLLLLLLL.LLLLL.LLLLLLLLLLL.LLLLLLLLLLLLLL.LLLLLL.LLLLLLL.LLLLLLLLLLLLL',\n",
       " 'LLLLLLLLLLLLLLLLL.LLLLLLLLLLLLLLLLLLLLLL.LLLL.LLLLLL.LLLLLLLLLLLLLL.LLLLLLLLLLLLLL.LLLLLLLLLLLLL',\n",
       " 'LLLLLL.LLLLLLLLLL.LLL.LLLLLLLLLLLLLLLLLL.LLL..LLLLLL.LLLLLLLLLLLLLL.LLLLLL.LLLLLLLL.LLLLLL.LLLLL',\n",
       " 'LLLLLLLLLLLLLLLLLLLLLLLLLLLLLLLLLL..LLLLLLLLLLLLLLLLLLLLL.LLLLLLLLL.LLLLLL.LLLLLLL.LLLLLLLLLLLLL',\n",
       " 'LLLLLLLLLLL.LLLLLLLLLLLL.LLLLLLLLLLLLLLL.LLLL.LLLLLL.LLLL.LLLLLLLLLLLLLLL..LLLLLLL.LLLLLLL.LLLLL',\n",
       " '...LL....L...LL.L.....L.L..L.L..L.LL.L........LL..L...LL.L..L...L.L.LL..LLLLL.L..LL..L.....L.LL.',\n",
       " 'LLLLLLLLLLL.LLLLL.LLLLLL.LLLLLLLLLLLLLLL.LLLL.LLLLLL.LLLL.LLLLLLLLLLLLLLLLLLLLLLLLLLLLLLLL.LLLLL',\n",
       " 'LLLLLLLLLLL.LLLLLLLLLLL..LLLLLLLLL.LLLLL.LLLL.LLLLLL.LLLL.LLLLLLLLL.LLLLLLLLLLLLLL.LL.LLLL.LLLLL',\n",
       " 'LL.LLL.LLLL.LLLLL.LLLLLL.LLLL.LLLL.LLLLLLLLLLLLLLLLLLLLLL.LLLLLLLLL.LLLLLLLLLLLL.LLLLLL.LL.LLLLL',\n",
       " 'LLLLLL.LLLL.LLLLL.LLLLLL.LLLLLLLLLLLLLLL.L.LL.LLLLLLLLLLLLLLLLLLLLLLLLLL.LLLLLLLLL.LLLLLLLLLLLLL',\n",
       " 'LLLLLL.LLLL.LLLLL.LLLLLL.LLLLLLLLLLLLLLLLLLLLLLLLLLL.LLLLLLLLLLLLLL.LLLLLL.LLLLLLL.LLLLLLL..LLLL',\n",
       " 'L.LL.......LLL....LL.LL.LL.L..L.L..LL.L.LL..LLL.L...L..L.....L...LLL.LL.LLL...L..L..............',\n",
       " 'LLLLLLLLLLL.LLLLLLLLLLLL.LLLLLLLLLLLLLLLLLLLL.LLLLLL.LLLL.LLLLLLLLLLLL.LLLLLLLLLLLLLLLLLLL.LLLLL',\n",
       " 'LLLLLL.LLLLLLLLLLLLLLLLLLLLLLLLLLL.LLLLL.LLLL.L.L.LL.LLLL.LLLLLLLLLLLLLLLL.LLLLLLLLL..LLLL.LLLLL',\n",
       " 'LLLLLL.LLLLLLLLLLLLLLLLL.LLLLLLLLL.LLLLL.LLLL.LLLLLL.LLLL.LLLLLLLLL.LLLLLL.LLLLLLL.LL.LLLL.LLLLL',\n",
       " 'LLLLLL.LLLL.LLLLL.LLLL.L.LLLLLLLLL.LLLLLLLLLL.LLLLLL.LLLLLLLLLLLLLLLLLLLLL.LLLLLLL.LLLLLLLLLLLLL',\n",
       " 'LLLLLLLLLLL.LLLLLLLLLLLLLLLLLLLLLL.LLLLLLLLLL.LLLLLL.LLLL.LLLLLLLLL.LLLLLL.LLLLLLLLLLLLLLLLLLLLL',\n",
       " 'LLLLLL.LLLLLLLLL..LLLLLLLLLLLLLLLL.LLLLL.LLLL.LLLLLL.LLLL.LLLLLLL.L.LLLLLL.LLLLLLLLLLLLLLL.LLLLL',\n",
       " 'LLLLLL.LLLLLLLLLLLLLLLLL.LLLLLLLLL.LL.LLLLLLLLLLLLLL.LLLL.LLLLLLLLL..LLLLLLLLLLLLL.LLLLLLL.LLLLL',\n",
       " 'LLLLLLLLLLL.LLLLL.LLLLLL.LLLLLLLLLLL.LLLLLLLL.LLLLLL.LLLLLLLLLLLLLLLLLLLLL.LLLLLLL.LLLLLLL.LLLLL',\n",
       " 'LLLLLL.LLLL.LLLLLLLLLLLLLLLLLLLLLL.LLLLL.LLLLLLLLLLL.LLL..L.LLLLLL..LLLLLL.LLLLLLL.LLLLLLLLLLLLL',\n",
       " 'L.LLLLLLLLL.LLLLLLLLLLLLLLLLLLLLLLLLLLLL.LL.L.LLLLLL.LLLL.LLLLLLLLL.LLLLLL.LLLLLLL.LLLLLLL.LLLLL']"
      ]
     },
     "execution_count": 57,
     "metadata": {},
     "output_type": "execute_result"
    }
   ],
   "source": [
    "data"
   ]
  },
  {
   "cell_type": "code",
   "execution_count": null,
   "metadata": {},
   "outputs": [],
   "source": [
    "flag = True\n",
    "current_seating = [list(x) for x in data[:]]\n",
    "iteration = 0\n",
    "while flag:\n",
    "    iteration += 1\n",
    "    new_seating = copy.deepcopy(current_seating)\n",
    "    for row_num, row_string in enumerate(current_seating):\n",
    "        for col_num, col_val in enumerate(row_string):\n",
    "            adjacent_seats = []\n",
    "            if row_num-1 >= 0: # Above\n",
    "                adjacent_seats.append(current_seating[row_num-1][col_num])\n",
    "            if col_num - 1 >= 0: # left\n",
    "                adjacent_seats.append(current_seating[row_num][col_num-1])\n",
    "            if row_num + 1 < len(data): # bottom \n",
    "                adjacent_seats.append(current_seating[row_num + 1][col_num])\n",
    "            if col_num + 1 < len(row_string): # right\n",
    "                adjacent_seats.append(current_seating[row_num][col_num + 1])\n",
    "            if row_num - 1 >= 0 and col_num - 1 >= 0: # Diagonal top left\n",
    "                adjacent_seats.append(current_seating[row_num-1][col_num-1])\n",
    "            if row_num - 1 >= 0 and col_num + 1 < len(row_string): # Diagonal top right\n",
    "                adjacent_seats.append(current_seating[row_num-1][col_num+1])\n",
    "            if col_num - 1 >= 0 and row_num + 1 < len(data): # diagonal bottom left\n",
    "                adjacent_seats.append(current_seating[row_num + 1][col_num-1])\n",
    "            if col_num + 1 < len(row_string) and row_num + 1 < len(data): # diagonal bottom right\n",
    "                adjacent_seats.append(current_seating[row_num + 1][col_num + 1])\n",
    "            \n",
    "            if col_val == \"L\" and adjacent_seats.count(\"#\") == 0:\n",
    "                new_seating[row_num][col_num] = \"#\"\n",
    "            elif col_val == \"#\" and adjacent_seats.count(\"#\") >= 4:\n",
    "                new_seating[row_num][col_num] = \"L\"\n",
    "\n",
    "    if new_seating == current_seating:\n",
    "        flag = False\n",
    "    else:\n",
    "        current_seating = copy.deepcopy(new_seating)"
   ]
  },
  {
   "cell_type": "code",
   "execution_count": 46,
   "metadata": {},
   "outputs": [],
   "source": [
    "part_1 = reduce(lambda x, y: x+y,  map(lambda x: x.count(\"#\"), new_seating))"
   ]
  },
  {
   "cell_type": "code",
   "execution_count": 47,
   "metadata": {},
   "outputs": [
    {
     "name": "stdout",
     "output_type": "stream",
     "text": [
      "The answer to part 1 is 2424\n"
     ]
    }
   ],
   "source": [
    "print(f\"The answer to part 1 is {part_1}\")"
   ]
  },
  {
   "cell_type": "markdown",
   "metadata": {},
   "source": [
    "## Part 2"
   ]
  },
  {
   "cell_type": "markdown",
   "metadata": {},
   "source": [
    "As soon as people start to arrive, you realize your mistake. People don't just care about adjacent seats - they care about the first seat they can see in each of those eight directions!"
   ]
  },
  {
   "cell_type": "markdown",
   "metadata": {},
   "source": [
    "Also, people seem to be more tolerant than you expected: it now takes five or more visible occupied seats for an occupied seat to become empty (rather than four or more from the previous rules). The other rules still apply: empty seats that see no occupied seats become occupied, seats matching no rule don't change, and floor never changes."
   ]
  },
  {
   "cell_type": "markdown",
   "metadata": {},
   "source": [
    "Given the new visibility method and the rule change for occupied seats becoming empty, once equilibrium is reached, how many seats end up occupied?"
   ]
  },
  {
   "cell_type": "code",
   "execution_count": 75,
   "metadata": {},
   "outputs": [],
   "source": [
    "flag = True\n",
    "current_seating_p2 = [list(x) for x in data[:]]\n",
    "iteration = 0\n",
    "while flag:\n",
    "    iteration += 1\n",
    "    new_seating_p2 = copy.deepcopy(current_seating_p2)\n",
    "    for row_num, row_string in enumerate(current_seating_p2):\n",
    "        for col_num, col_val in enumerate(row_string):\n",
    "            adjacent_seats = []\n",
    "            interim_row = row_num\n",
    "            interim_col = col_num\n",
    "\n",
    "            above_row = interim_row\n",
    "            while above_row - 1 >= 0 and current_seating_p2[above_row-1][col_num] == \".\":\n",
    "                above_row -= 1\n",
    "            if above_row-1 >= 0: # Above\n",
    "                adjacent_seats.append(current_seating_p2[above_row-1][col_num])\n",
    "            \n",
    "            left_col = interim_col\n",
    "            while left_col - 1 >= 0 and current_seating_p2[row_num][left_col - 1] == \".\":\n",
    "                left_col -= 1\n",
    "            if left_col - 1 >= 0: # left\n",
    "                adjacent_seats.append(current_seating_p2[row_num][left_col-1])\n",
    "                \n",
    "            below_row = interim_row\n",
    "            while below_row + 1 < len(data) and current_seating_p2[below_row + 1][col_num] == \".\":\n",
    "                below_row += 1  \n",
    "            if below_row + 1 < len(data): # bottom \n",
    "                adjacent_seats.append(current_seating_p2[below_row + 1][col_num])\n",
    "            \n",
    "            right_col = interim_col\n",
    "            while right_col + 1 < len(row_string) and current_seating_p2[row_num][right_col + 1] == \".\":\n",
    "                right_col += 1  \n",
    "            if right_col + 1 < len(row_string): # right\n",
    "                adjacent_seats.append(current_seating_p2[row_num][right_col + 1])\n",
    "                \n",
    "            diag_left_col = interim_col\n",
    "            diag_left_row = interim_row\n",
    "            while diag_left_col - 1 >= 0 and diag_left_row - 1 >= 0 and current_seating_p2[diag_left_row - 1][diag_left_col - 1] == \".\":\n",
    "                diag_left_col -= 1 \n",
    "                diag_left_row -= 1\n",
    "            if diag_left_row - 1 >= 0 and diag_left_col - 1 >= 0: # Diagonal top left\n",
    "                adjacent_seats.append(current_seating_p2[diag_left_row-1][diag_left_col-1])\n",
    "                \n",
    "            diag_right_col = interim_col\n",
    "            diag_right_row = interim_row\n",
    "            while diag_right_col + 1 < len(row_string) and diag_right_row - 1 >= 0 and current_seating_p2[diag_right_row - 1][diag_right_col + 1] == \".\":\n",
    "                diag_right_col += 1 \n",
    "                diag_right_row -= 1\n",
    "            if diag_right_row - 1 >= 0 and diag_right_col + 1 < len(row_string): # Diagonal top right\n",
    "                adjacent_seats.append(current_seating_p2[diag_right_row-1][diag_right_col+1])\n",
    "            \n",
    "            diag_b_left_col = interim_col\n",
    "            diag_b_left_row = interim_row\n",
    "            while diag_b_left_col - 1 >= 0 and diag_b_left_row + 1 < len(data) and current_seating_p2[diag_b_left_row + 1][diag_b_left_col - 1] == \".\":\n",
    "                diag_b_left_col -= 1 \n",
    "                diag_b_left_row += 1\n",
    "            if diag_b_left_col - 1 >= 0 and diag_b_left_row + 1 < len(data): # diagonal bottom left\n",
    "                adjacent_seats.append(current_seating_p2[diag_b_left_row + 1][diag_b_left_col-1])\n",
    "            \n",
    "            diag_b_right_col = interim_col\n",
    "            diag_b_right_row = interim_row\n",
    "            while diag_b_right_col + 1 < len(row_string) and diag_b_right_row + 1 < len(data) and current_seating_p2[diag_b_right_row + 1][diag_b_right_col + 1] == \".\":\n",
    "                diag_b_right_col += 1 \n",
    "                diag_b_right_row += 1\n",
    "            if diag_b_right_col + 1 < len(row_string) and diag_b_right_row + 1 < len(data): # diagonal bottom right\n",
    "                adjacent_seats.append(current_seating_p2[diag_b_right_row + 1][diag_b_right_col + 1])\n",
    "            \n",
    "#             print(adjacent_seats)\n",
    "            if col_val == \"L\" and adjacent_seats.count(\"#\") == 0:\n",
    "                new_seating_p2[row_num][col_num] = \"#\"\n",
    "            elif col_val == \"#\" and adjacent_seats.count(\"#\") >= 5:\n",
    "                new_seating_p2[row_num][col_num] = \"L\"\n",
    "            \n",
    "    if new_seating_p2 == current_seating_p2:\n",
    "        flag = False\n",
    "    else:\n",
    "        current_seating_p2 = copy.deepcopy(new_seating_p2)"
   ]
  },
  {
   "cell_type": "code",
   "execution_count": 76,
   "metadata": {},
   "outputs": [],
   "source": [
    "# new_seating_p2"
   ]
  },
  {
   "cell_type": "code",
   "execution_count": 77,
   "metadata": {},
   "outputs": [],
   "source": [
    "part_2 = reduce(lambda x, y: x+y,  map(lambda x: x.count(\"#\"), new_seating_p2))"
   ]
  },
  {
   "cell_type": "code",
   "execution_count": 79,
   "metadata": {},
   "outputs": [
    {
     "name": "stdout",
     "output_type": "stream",
     "text": [
      "The answer to part 1 is 2208\n"
     ]
    }
   ],
   "source": [
    "print(f\"The answer to part 1 is {part_2}\")"
   ]
  },
  {
   "cell_type": "code",
   "execution_count": null,
   "metadata": {},
   "outputs": [],
   "source": []
  }
 ],
 "metadata": {
  "kernelspec": {
   "display_name": "Python 3",
   "language": "python",
   "name": "python3"
  },
  "language_info": {
   "codemirror_mode": {
    "name": "ipython",
    "version": 3
   },
   "file_extension": ".py",
   "mimetype": "text/x-python",
   "name": "python",
   "nbconvert_exporter": "python",
   "pygments_lexer": "ipython3",
   "version": "3.6.10"
  }
 },
 "nbformat": 4,
 "nbformat_minor": 2
}
