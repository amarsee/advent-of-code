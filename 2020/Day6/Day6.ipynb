{
 "cells": [
  {
   "cell_type": "markdown",
   "metadata": {},
   "source": [
    "## Part 1"
   ]
  },
  {
   "cell_type": "markdown",
   "metadata": {},
   "source": [
    "For each group, count the number of questions to which anyone answered \"yes\". What is the sum of those counts?"
   ]
  },
  {
   "cell_type": "code",
   "execution_count": 64,
   "metadata": {},
   "outputs": [],
   "source": [
    "import itertools\n",
    "import re\n"
   ]
  },
  {
   "cell_type": "code",
   "execution_count": 65,
   "metadata": {},
   "outputs": [],
   "source": [
    "data = [re.sub(r'\\n', '', x) for x in open(\"input.txt\").readlines()]"
   ]
  },
  {
   "cell_type": "code",
   "execution_count": 66,
   "metadata": {
    "scrolled": true
   },
   "outputs": [],
   "source": [
    "# data"
   ]
  },
  {
   "cell_type": "code",
   "execution_count": 67,
   "metadata": {},
   "outputs": [],
   "source": [
    "group_string = ''\n",
    "groups = []\n",
    "for person in data:\n",
    "#     print(person)\n",
    "    if person != '':\n",
    "        group_string = group_string + person\n",
    "    else:\n",
    "        groups.append(group_string)\n",
    "        group_string = ''\n",
    "groups.append(group_string) # One last group without a '' following\n",
    "# groups"
   ]
  },
  {
   "cell_type": "code",
   "execution_count": 68,
   "metadata": {},
   "outputs": [],
   "source": [
    "group_unique_answer_counts = [len(set(x)) for x in groups]"
   ]
  },
  {
   "cell_type": "code",
   "execution_count": 69,
   "metadata": {},
   "outputs": [
    {
     "name": "stdout",
     "output_type": "stream",
     "text": [
      "The sum of group unique answers for the plane is 6714\n"
     ]
    }
   ],
   "source": [
    "part_1_answer = sum(group_unique_answer_counts)\n",
    "print(f\"The sum of group unique answers for the plane is {part_1_answer}\")"
   ]
  },
  {
   "cell_type": "markdown",
   "metadata": {},
   "source": [
    "## Part 2"
   ]
  },
  {
   "cell_type": "markdown",
   "metadata": {},
   "source": [
    "For each group, count the number of questions to which everyone answered \"yes\". What is the sum of those counts?"
   ]
  },
  {
   "cell_type": "code",
   "execution_count": 70,
   "metadata": {},
   "outputs": [],
   "source": [
    "group_overlapping = []\n",
    "group_string = \"\"\n",
    "for person in data:\n",
    "    if group_string == \"\":\n",
    "        group_string = person\n",
    "    elif person != \"\":\n",
    "        group_string = ''.join(set(group_string).intersection(person))\n",
    "        if group_string == \"\":\n",
    "            group_string = \"0\" # Need to have something in the string so it doesn't get overwritten with the next person\n",
    "    else:\n",
    "        group_overlapping.append(group_string)\n",
    "        group_string = \"\"\n",
    "group_overlapping.append(group_string)"
   ]
  },
  {
   "cell_type": "code",
   "execution_count": 71,
   "metadata": {},
   "outputs": [],
   "source": [
    "group_overlapping_nums = [len(common_answer) for common_answer in group_overlapping if common_answer != \"0\"]"
   ]
  },
  {
   "cell_type": "code",
   "execution_count": 72,
   "metadata": {},
   "outputs": [
    {
     "name": "stdout",
     "output_type": "stream",
     "text": [
      "The sum of common answers for the plane is 3435\n"
     ]
    }
   ],
   "source": [
    "part_2_answer = sum(group_overlapping_nums)\n",
    "print(f\"The sum of common answers for the plane is {part_2_answer}\")"
   ]
  }
 ],
 "metadata": {
  "kernelspec": {
   "display_name": "Python 3",
   "language": "python",
   "name": "python3"
  },
  "language_info": {
   "codemirror_mode": {
    "name": "ipython",
    "version": 3
   },
   "file_extension": ".py",
   "mimetype": "text/x-python",
   "name": "python",
   "nbconvert_exporter": "python",
   "pygments_lexer": "ipython3",
   "version": "3.6.10"
  }
 },
 "nbformat": 4,
 "nbformat_minor": 2
}
