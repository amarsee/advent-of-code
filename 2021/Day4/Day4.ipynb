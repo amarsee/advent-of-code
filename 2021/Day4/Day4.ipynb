{
 "cells": [
  {
   "cell_type": "code",
   "execution_count": 1,
   "id": "aa02583b",
   "metadata": {},
   "outputs": [],
   "source": [
    "import itertools\n",
    "import pandas as pd"
   ]
  },
  {
   "cell_type": "markdown",
   "id": "3efd4499",
   "metadata": {},
   "source": [
    "## Part 1"
   ]
  },
  {
   "cell_type": "code",
   "execution_count": 2,
   "id": "62c49675",
   "metadata": {},
   "outputs": [],
   "source": [
    "data = [x.strip() for x in open(\"input.txt\").readlines()]"
   ]
  },
  {
   "cell_type": "code",
   "execution_count": 20,
   "id": "2da45fd9",
   "metadata": {},
   "outputs": [],
   "source": [
    "df_list = []\n",
    "df_cols = []\n",
    "for line in data[2:]:\n",
    "    if line != '':\n",
    "        line_list = line.split()\n",
    "        df_cols.append(line_list)\n",
    "    else:\n",
    "        df_list.append(pd.DataFrame(df_cols, columns=['0', '1', '2', '3', '4']))\n",
    "        df_cols = []"
   ]
  },
  {
   "cell_type": "code",
   "execution_count": 21,
   "id": "607c1a9c",
   "metadata": {},
   "outputs": [
    {
     "data": {
      "text/html": [
       "<div>\n",
       "<style scoped>\n",
       "    .dataframe tbody tr th:only-of-type {\n",
       "        vertical-align: middle;\n",
       "    }\n",
       "\n",
       "    .dataframe tbody tr th {\n",
       "        vertical-align: top;\n",
       "    }\n",
       "\n",
       "    .dataframe thead th {\n",
       "        text-align: right;\n",
       "    }\n",
       "</style>\n",
       "<table border=\"1\" class=\"dataframe\">\n",
       "  <thead>\n",
       "    <tr style=\"text-align: right;\">\n",
       "      <th></th>\n",
       "      <th>0</th>\n",
       "      <th>1</th>\n",
       "      <th>2</th>\n",
       "      <th>3</th>\n",
       "      <th>4</th>\n",
       "    </tr>\n",
       "  </thead>\n",
       "  <tbody>\n",
       "    <tr>\n",
       "      <th>0</th>\n",
       "      <td>41</td>\n",
       "      <td>94</td>\n",
       "      <td>77</td>\n",
       "      <td>43</td>\n",
       "      <td>87</td>\n",
       "    </tr>\n",
       "    <tr>\n",
       "      <th>1</th>\n",
       "      <td>2</td>\n",
       "      <td>17</td>\n",
       "      <td>82</td>\n",
       "      <td>96</td>\n",
       "      <td>25</td>\n",
       "    </tr>\n",
       "    <tr>\n",
       "      <th>2</th>\n",
       "      <td>95</td>\n",
       "      <td>49</td>\n",
       "      <td>32</td>\n",
       "      <td>12</td>\n",
       "      <td>9</td>\n",
       "    </tr>\n",
       "    <tr>\n",
       "      <th>3</th>\n",
       "      <td>59</td>\n",
       "      <td>33</td>\n",
       "      <td>67</td>\n",
       "      <td>71</td>\n",
       "      <td>64</td>\n",
       "    </tr>\n",
       "    <tr>\n",
       "      <th>4</th>\n",
       "      <td>88</td>\n",
       "      <td>54</td>\n",
       "      <td>93</td>\n",
       "      <td>85</td>\n",
       "      <td>30</td>\n",
       "    </tr>\n",
       "  </tbody>\n",
       "</table>\n",
       "</div>"
      ],
      "text/plain": [
       "    0   1   2   3   4\n",
       "0  41  94  77  43  87\n",
       "1   2  17  82  96  25\n",
       "2  95  49  32  12   9\n",
       "3  59  33  67  71  64\n",
       "4  88  54  93  85  30"
      ]
     },
     "execution_count": 21,
     "metadata": {},
     "output_type": "execute_result"
    }
   ],
   "source": [
    "df_list[1]"
   ]
  },
  {
   "cell_type": "code",
   "execution_count": 22,
   "id": "49bc48d5",
   "metadata": {},
   "outputs": [],
   "source": [
    "bingo_nums = data[0].split(',')"
   ]
  },
  {
   "cell_type": "code",
   "execution_count": 58,
   "id": "7c9fa6ec",
   "metadata": {},
   "outputs": [
    {
     "name": "stdout",
     "output_type": "stream",
     "text": [
      "Bingo!\n"
     ]
    }
   ],
   "source": [
    "out_list = df_list.copy()\n",
    "bingo_ind = 0\n",
    "while bingo_ind == 0:\n",
    "    for bingo_num in bingo_nums:\n",
    "        for ind, df in enumerate(out_list):\n",
    "            n_df = df.replace(bingo_num, '-1')\n",
    "            out_list[ind] = n_df\n",
    "            # Check if bingo\n",
    "            m = n_df == '-1'\n",
    "            row_sum = m.sum(axis = 1)\n",
    "            col_sum = m.sum()\n",
    "            if sum(row_sum == 5) > 0 or sum(col_sum == 5) > 0:\n",
    "                bingo_ind = 1\n",
    "                bingo_df = n_df.copy()\n",
    "                print(\"Bingo!\")\n",
    "                break\n",
    "        if bingo_ind == 1:\n",
    "            break\n"
   ]
  },
  {
   "cell_type": "code",
   "execution_count": 59,
   "id": "56b24b16",
   "metadata": {},
   "outputs": [],
   "source": [
    "bingo_df_numeric = bingo_df[bingo_df.columns].apply(pd.to_numeric)"
   ]
  },
  {
   "cell_type": "code",
   "execution_count": 60,
   "id": "6470d318",
   "metadata": {},
   "outputs": [],
   "source": [
    "running_sum = 0\n",
    "for col_name in bingo_df_numeric.columns:\n",
    "    running_sum += bingo_df_numeric.loc[bingo_df_numeric[col_name] != -1, col_name].sum()"
   ]
  },
  {
   "cell_type": "code",
   "execution_count": 61,
   "id": "7ee833b0",
   "metadata": {},
   "outputs": [],
   "source": [
    "output_p1 = int(bingo_num) * running_sum"
   ]
  },
  {
   "cell_type": "code",
   "execution_count": 62,
   "id": "19ca3784",
   "metadata": {},
   "outputs": [
    {
     "name": "stdout",
     "output_type": "stream",
     "text": [
      "The output for Part 1 is 74320.\n"
     ]
    }
   ],
   "source": [
    "print(f\"The output for Part 1 is {output_p1}.\")"
   ]
  },
  {
   "cell_type": "code",
   "execution_count": null,
   "id": "8ac57bae",
   "metadata": {},
   "outputs": [],
   "source": []
  }
 ],
 "metadata": {
  "kernelspec": {
   "display_name": "Python 3",
   "language": "python",
   "name": "python3"
  },
  "language_info": {
   "codemirror_mode": {
    "name": "ipython",
    "version": 3
   },
   "file_extension": ".py",
   "mimetype": "text/x-python",
   "name": "python",
   "nbconvert_exporter": "python",
   "pygments_lexer": "ipython3",
   "version": "3.8.8"
  }
 },
 "nbformat": 4,
 "nbformat_minor": 5
}
