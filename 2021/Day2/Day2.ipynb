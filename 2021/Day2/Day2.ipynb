{
 "cells": [
  {
   "cell_type": "code",
   "execution_count": 5,
   "id": "08a17ca8",
   "metadata": {},
   "outputs": [],
   "source": [
    "import itertools\n",
    "import pandas as pd\n",
    "import re"
   ]
  },
  {
   "cell_type": "markdown",
   "id": "76454bd8",
   "metadata": {},
   "source": [
    "## Part 1"
   ]
  },
  {
   "cell_type": "markdown",
   "id": "32cf6cd7",
   "metadata": {},
   "source": [
    "- Calculate the horizontal position and depth you would have after following the planned course. What do you get if you multiply your final horizontal position by your final depth?"
   ]
  },
  {
   "cell_type": "code",
   "execution_count": 2,
   "id": "7b405f03",
   "metadata": {},
   "outputs": [],
   "source": [
    "data = [x for x in open(\"input.txt\").readlines()]"
   ]
  },
  {
   "cell_type": "code",
   "execution_count": 4,
   "id": "9f3d5c31",
   "metadata": {},
   "outputs": [],
   "source": [
    "step_counter = {\n",
    "    'forward': 0,\n",
    "    'up': 0,\n",
    "    'down': 0\n",
    "}"
   ]
  },
  {
   "cell_type": "code",
   "execution_count": 16,
   "id": "aea7a6eb",
   "metadata": {},
   "outputs": [],
   "source": [
    "for direction in data:\n",
    "    next_step = re.findall('[a-z]+', direction)[0]\n",
    "    next_amount = int(re.findall('\\d+', direction)[0])\n",
    "    step_counter[next_step] += next_amount"
   ]
  },
  {
   "cell_type": "code",
   "execution_count": 19,
   "id": "60fb6637",
   "metadata": {},
   "outputs": [],
   "source": [
    "output_p1 = abs(step_counter['up'] - step_counter['down']) * step_counter['forward']"
   ]
  },
  {
   "cell_type": "code",
   "execution_count": 21,
   "id": "6cce894a",
   "metadata": {},
   "outputs": [
    {
     "name": "stdout",
     "output_type": "stream",
     "text": [
      "The output for Part 1 is 2070300.\n"
     ]
    }
   ],
   "source": [
    "print(f'The output for Part 1 is {output_p1}.')"
   ]
  },
  {
   "cell_type": "markdown",
   "id": "f261aaaf",
   "metadata": {},
   "source": [
    "## Part 2"
   ]
  },
  {
   "cell_type": "markdown",
   "id": "c793b0e8",
   "metadata": {},
   "source": [
    "- down X increases your aim by X units.\n",
    "- up X decreases your aim by X units.\n",
    "- forward X does two things:\n",
    "    - It increases your horizontal position by X units.\n",
    "    - It increases your depth by your aim multiplied by X."
   ]
  },
  {
   "cell_type": "code",
   "execution_count": 24,
   "id": "da51637f",
   "metadata": {},
   "outputs": [],
   "source": [
    "position_counter = {\n",
    "    'horizontal': 0,\n",
    "    'depth': 0\n",
    "}"
   ]
  },
  {
   "cell_type": "code",
   "execution_count": 25,
   "id": "88197038",
   "metadata": {},
   "outputs": [],
   "source": [
    "aim = 0"
   ]
  },
  {
   "cell_type": "code",
   "execution_count": 26,
   "id": "27282bea",
   "metadata": {},
   "outputs": [],
   "source": [
    "for direction in data:\n",
    "    next_step = re.findall('[a-z]+', direction)[0]\n",
    "    next_amount = int(re.findall('\\d+', direction)[0])\n",
    "    if next_step == \"up\":\n",
    "        aim -= next_amount\n",
    "    elif next_step == \"down\":\n",
    "        aim += next_amount\n",
    "    else:\n",
    "        position_counter['horizontal'] += next_amount\n",
    "        position_counter['depth'] += (next_amount * aim)"
   ]
  },
  {
   "cell_type": "code",
   "execution_count": 28,
   "id": "1c3db451",
   "metadata": {},
   "outputs": [],
   "source": [
    "output_p2 = position_counter['horizontal'] * position_counter['depth']"
   ]
  },
  {
   "cell_type": "code",
   "execution_count": 29,
   "id": "38bdeb39",
   "metadata": {},
   "outputs": [
    {
     "name": "stdout",
     "output_type": "stream",
     "text": [
      "The output for Part 2 is 2078985210.\n"
     ]
    }
   ],
   "source": [
    "print(f'The output for Part 2 is {output_p2}.')"
   ]
  },
  {
   "cell_type": "code",
   "execution_count": null,
   "id": "e7ceac96",
   "metadata": {},
   "outputs": [],
   "source": []
  }
 ],
 "metadata": {
  "kernelspec": {
   "display_name": "Python 3",
   "language": "python",
   "name": "python3"
  },
  "language_info": {
   "codemirror_mode": {
    "name": "ipython",
    "version": 3
   },
   "file_extension": ".py",
   "mimetype": "text/x-python",
   "name": "python",
   "nbconvert_exporter": "python",
   "pygments_lexer": "ipython3",
   "version": "3.8.8"
  }
 },
 "nbformat": 4,
 "nbformat_minor": 5
}
