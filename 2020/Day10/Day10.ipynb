{
 "cells": [
  {
   "cell_type": "markdown",
   "metadata": {},
   "source": [
    "## Part 1"
   ]
  },
  {
   "cell_type": "markdown",
   "metadata": {},
   "source": [
    "Find a chain that uses all of your adapters to connect the charging outlet to your device's built-in adapter and count the joltage differences between the charging outlet, the adapters, and your device. What is the number of 1-jolt differences multiplied by the number of 3-jolt differences?"
   ]
  },
  {
   "cell_type": "code",
   "execution_count": 1,
   "metadata": {},
   "outputs": [],
   "source": [
    "import itertools"
   ]
  },
  {
   "cell_type": "code",
   "execution_count": 9,
   "metadata": {},
   "outputs": [],
   "source": [
    "data = [int(x) for x in open(\"input.txt\").readlines()]\n",
    "data.sort()\n",
    "data.append(max(data) + 3)"
   ]
  },
  {
   "cell_type": "code",
   "execution_count": 16,
   "metadata": {},
   "outputs": [],
   "source": [
    "# data"
   ]
  },
  {
   "cell_type": "code",
   "execution_count": 19,
   "metadata": {},
   "outputs": [],
   "source": [
    "class Adapter:\n",
    "  def __init__(self, current_adapter, jolt_diff_one, jolt_diff_three):\n",
    "    self.current_adapter = current_adapter\n",
    "    self.jolt_diff_one = jolt_diff_one\n",
    "    self.jolt_diff_three = jolt_diff_three\n",
    "    \n",
    "  def jolt_track(self, jolt_diff):\n",
    "    if jolt_diff == 1:\n",
    "        self.jolt_diff_one += 1\n",
    "    elif jolt_diff == 3:\n",
    "        self.jolt_diff_three += 1"
   ]
  },
  {
   "cell_type": "code",
   "execution_count": 20,
   "metadata": {},
   "outputs": [],
   "source": [
    "part_1_tracker = Adapter(0, 0, 0)\n",
    "for jolt in data:\n",
    "    jolt_diff = jolt - part_1_tracker.current_adapter\n",
    "    part_1_tracker.jolt_track(jolt_diff)\n",
    "    part_1_tracker.current_adapter = jolt\n"
   ]
  },
  {
   "cell_type": "code",
   "execution_count": 21,
   "metadata": {},
   "outputs": [
    {
     "name": "stdout",
     "output_type": "stream",
     "text": [
      "The answer to part 1 is 2484.\n"
     ]
    }
   ],
   "source": [
    "print(f\"The answer to part 1 is {part_1_tracker.jolt_diff_one * part_1_tracker.jolt_diff_three}.\")"
   ]
  },
  {
   "cell_type": "code",
   "execution_count": null,
   "metadata": {},
   "outputs": [],
   "source": []
  }
 ],
 "metadata": {
  "kernelspec": {
   "display_name": "Python 3",
   "language": "python",
   "name": "python3"
  },
  "language_info": {
   "codemirror_mode": {
    "name": "ipython",
    "version": 3
   },
   "file_extension": ".py",
   "mimetype": "text/x-python",
   "name": "python",
   "nbconvert_exporter": "python",
   "pygments_lexer": "ipython3",
   "version": "3.6.10"
  }
 },
 "nbformat": 4,
 "nbformat_minor": 2
}
