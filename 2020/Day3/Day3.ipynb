{
 "cells": [
  {
   "cell_type": "markdown",
   "metadata": {},
   "source": [
    "From your starting position at the top-left, check the position that is right 3 and down 1. Then, check the position that is right 3 and down 1 from there, and so on until you go past the bottom of the map."
   ]
  },
  {
   "cell_type": "code",
   "execution_count": 34,
   "metadata": {},
   "outputs": [],
   "source": [
    "import itertools\n",
    "import re\n",
    "from functools import reduce"
   ]
  },
  {
   "cell_type": "code",
   "execution_count": 6,
   "metadata": {},
   "outputs": [],
   "source": [
    "data = [re.sub(r'\\n', '', x) for x in open(\"input.txt\").readlines()]"
   ]
  },
  {
   "cell_type": "markdown",
   "metadata": {},
   "source": [
    "Pattern repeats to the right as many times as necessary for you to reach the bottom"
   ]
  },
  {
   "cell_type": "code",
   "execution_count": 9,
   "metadata": {},
   "outputs": [
    {
     "name": "stdout",
     "output_type": "stream",
     "text": [
      "The number of rows is 323 and the number of columns at the outset is 31\n"
     ]
    }
   ],
   "source": [
    "print(f\"The number of rows is {len(data)} and the number of columns at the outset is {len(data[0])}\")\n"
   ]
  },
  {
   "cell_type": "markdown",
   "metadata": {},
   "source": [
    "Need 323 * 3 columns. Add 1 for good measuure "
   ]
  },
  {
   "cell_type": "code",
   "execution_count": 10,
   "metadata": {},
   "outputs": [
    {
     "data": {
      "text/plain": [
       "970"
      ]
     },
     "execution_count": 10,
     "metadata": {},
     "output_type": "execute_result"
    }
   ],
   "source": [
    "323*3 + 1"
   ]
  },
  {
   "cell_type": "code",
   "execution_count": 11,
   "metadata": {},
   "outputs": [
    {
     "data": {
      "text/plain": [
       "31.29032258064516"
      ]
     },
     "execution_count": 11,
     "metadata": {},
     "output_type": "execute_result"
    }
   ],
   "source": [
    "970 / 31"
   ]
  },
  {
   "cell_type": "markdown",
   "metadata": {},
   "source": [
    "Repeat pattern 32 times"
   ]
  },
  {
   "cell_type": "code",
   "execution_count": 26,
   "metadata": {},
   "outputs": [],
   "source": [
    "repeated_data = [x * 150 for x in data]"
   ]
  },
  {
   "cell_type": "code",
   "execution_count": 28,
   "metadata": {},
   "outputs": [],
   "source": [
    "# repeated_data[0]"
   ]
  },
  {
   "cell_type": "code",
   "execution_count": 25,
   "metadata": {},
   "outputs": [
    {
     "name": "stdout",
     "output_type": "stream",
     "text": [
      "The number of trees encountered is 265\n"
     ]
    }
   ],
   "source": [
    "x = 0\n",
    "y = 0\n",
    "tree_count = 0\n",
    "while y < 322:\n",
    "    x += 3\n",
    "    y += 1\n",
    "#     print(f\"x is {x} and y is {y}\")\n",
    "    if repeated_data[y][x] == \"#\":\n",
    "        tree_count += 1\n",
    "\n",
    "print(f\"The number of trees encountered is {tree_count}\")"
   ]
  },
  {
   "cell_type": "markdown",
   "metadata": {},
   "source": [
    "## Part 2"
   ]
  },
  {
   "cell_type": "markdown",
   "metadata": {},
   "source": [
    "Determine the number of trees you would encounter if, for each of the following slopes, you start at the top-left corner and traverse the map all the way to the bottom:\n",
    "\n",
    "- Right 1, down 1.\n",
    "- Right 3, down 1. (This is the slope you already checked.)\n",
    "- Right 5, down 1.\n",
    "- Right 7, down 1.\n",
    "- Right 1, down 2."
   ]
  },
  {
   "cell_type": "code",
   "execution_count": 32,
   "metadata": {},
   "outputs": [
    {
     "data": {
      "text/plain": [
       "[61, 265, 82, 70, 34]"
      ]
     },
     "execution_count": 32,
     "metadata": {},
     "output_type": "execute_result"
    }
   ],
   "source": [
    "tree_count_list = []\n",
    "x_y_list = [[1, 1], [3, 1], [5, 1], [7,1], [1, 2]]\n",
    "for coords in x_y_list:\n",
    "    x = 0\n",
    "    y = 0\n",
    "    tree_count = 0\n",
    "    while y < len(repeated_data) -1:\n",
    "        x += coords[0]\n",
    "        y += coords[1]\n",
    "#         print(f\"x is {x} and y is {y}\")\n",
    "        if repeated_data[y][x] == \"#\":\n",
    "            tree_count += 1\n",
    "    tree_count_list.append(tree_count)\n",
    "    \n",
    "tree_count_list\n",
    "    "
   ]
  },
  {
   "cell_type": "code",
   "execution_count": 35,
   "metadata": {},
   "outputs": [
    {
     "name": "stdout",
     "output_type": "stream",
     "text": [
      "The answer is 3154761400, found by multiplying [61, 265, 82, 70, 34]\n"
     ]
    }
   ],
   "source": [
    "tree_multiplied = reduce((lambda x, y: x * y), tree_count_list)\n",
    "\n",
    "print(f\"The answer is {tree_multiplied}, found by multiplying {tree_count_list}\")"
   ]
  },
  {
   "cell_type": "code",
   "execution_count": null,
   "metadata": {},
   "outputs": [],
   "source": []
  }
 ],
 "metadata": {
  "kernelspec": {
   "display_name": "Python 3",
   "language": "python",
   "name": "python3"
  },
  "language_info": {
   "codemirror_mode": {
    "name": "ipython",
    "version": 3
   },
   "file_extension": ".py",
   "mimetype": "text/x-python",
   "name": "python",
   "nbconvert_exporter": "python",
   "pygments_lexer": "ipython3",
   "version": "3.6.10"
  }
 },
 "nbformat": 4,
 "nbformat_minor": 2
}
