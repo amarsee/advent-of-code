{
 "cells": [
  {
   "cell_type": "code",
   "execution_count": 4,
   "id": "4746a4d0",
   "metadata": {},
   "outputs": [],
   "source": [
    "import pandas as pd\n",
    "import itertools\n",
    "import re"
   ]
  },
  {
   "cell_type": "markdown",
   "id": "bac70d5f",
   "metadata": {},
   "source": [
    "# Part 1\n",
    "- In how many assignment pairs does one range fully contain the other?"
   ]
  },
  {
   "cell_type": "code",
   "execution_count": 2,
   "id": "4f502326",
   "metadata": {},
   "outputs": [],
   "source": [
    "data = [x for x in open(\"input.txt\").read().splitlines()]"
   ]
  },
  {
   "cell_type": "code",
   "execution_count": 39,
   "id": "f1490687",
   "metadata": {},
   "outputs": [],
   "source": [
    "# data"
   ]
  },
  {
   "cell_type": "code",
   "execution_count": 11,
   "id": "33c6e318",
   "metadata": {},
   "outputs": [],
   "source": [
    "num_lists = [re.findall('\\d+', assignment) for assignment in data]"
   ]
  },
  {
   "cell_type": "code",
   "execution_count": 26,
   "id": "4937fd6a",
   "metadata": {},
   "outputs": [],
   "source": [
    "output = []\n",
    "for num_list in num_lists:\n",
    "    if int(num_list[2]) >= int(num_list[0]) and int(num_list[3]) <= int(num_list[1]):\n",
    "        output += [1]\n",
    "    elif int(num_list[0]) >= int(num_list[2]) and int(num_list[1]) <= int(num_list[3]):\n",
    "        output += [1]\n",
    "    else:\n",
    "        output += [0]"
   ]
  },
  {
   "cell_type": "code",
   "execution_count": 29,
   "id": "19cfe8be",
   "metadata": {},
   "outputs": [
    {
     "name": "stdout",
     "output_type": "stream",
     "text": [
      "The total number of pairs wholly contained in the other is 573.\n"
     ]
    }
   ],
   "source": [
    "print(f\"The total number of pairs wholly contained in the other is {sum(output)}.\")"
   ]
  },
  {
   "cell_type": "markdown",
   "id": "42c2a353",
   "metadata": {},
   "source": [
    "# Part 2\n",
    "- number of pairs that overlap at all.\n",
    "- In how many assignment pairs do the ranges overlap?"
   ]
  },
  {
   "cell_type": "code",
   "execution_count": 36,
   "id": "c2d6860e",
   "metadata": {},
   "outputs": [],
   "source": [
    "output = []\n",
    "for num_list in num_lists:\n",
    "    if int(num_list[2]) < int(num_list[0]) and int(num_list[3]) < int(num_list[0]):\n",
    "        output += [0]\n",
    "    elif int(num_list[2]) > int(num_list[1]) and int(num_list[3]) > int(num_list[1]):\n",
    "        output += [0]\n",
    "    else:\n",
    "        output += [1]"
   ]
  },
  {
   "cell_type": "code",
   "execution_count": 38,
   "id": "c60c2fd2",
   "metadata": {},
   "outputs": [
    {
     "name": "stdout",
     "output_type": "stream",
     "text": [
      "The total number of pairs that overlap at all is 867.\n"
     ]
    }
   ],
   "source": [
    "print(f\"The total number of pairs that overlap at all is {sum(output)}.\")"
   ]
  },
  {
   "cell_type": "code",
   "execution_count": null,
   "id": "c6c02848",
   "metadata": {},
   "outputs": [],
   "source": []
  }
 ],
 "metadata": {
  "kernelspec": {
   "display_name": "Python 3",
   "language": "python",
   "name": "python3"
  },
  "language_info": {
   "codemirror_mode": {
    "name": "ipython",
    "version": 3
   },
   "file_extension": ".py",
   "mimetype": "text/x-python",
   "name": "python",
   "nbconvert_exporter": "python",
   "pygments_lexer": "ipython3",
   "version": "3.8.8"
  }
 },
 "nbformat": 4,
 "nbformat_minor": 5
}
