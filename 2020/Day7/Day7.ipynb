{
 "cells": [
  {
   "cell_type": "markdown",
   "metadata": {},
   "source": [
    "## Part 1"
   ]
  },
  {
   "cell_type": "markdown",
   "metadata": {},
   "source": [
    "How many bag colors can eventually contain at least one shiny gold bag? (The list of rules is quite long; make sure you get all of it.)"
   ]
  },
  {
   "cell_type": "code",
   "execution_count": 56,
   "metadata": {},
   "outputs": [],
   "source": [
    "import itertools\n",
    "import re"
   ]
  },
  {
   "cell_type": "code",
   "execution_count": 57,
   "metadata": {},
   "outputs": [],
   "source": [
    "data = [re.sub(r'\\n', '', x) for x in open(\"input.txt\").readlines()]"
   ]
  },
  {
   "cell_type": "code",
   "execution_count": 58,
   "metadata": {},
   "outputs": [],
   "source": [
    "# data"
   ]
  },
  {
   "cell_type": "code",
   "execution_count": 59,
   "metadata": {},
   "outputs": [],
   "source": [
    "flag = True\n",
    "gold_inside = []\n",
    "iteration = 0\n",
    "while flag:\n",
    "    iteration += 1\n",
    "    len_gold_before = len(gold_inside)\n",
    "    for rule in data:\n",
    "        bag_types = re.findall(r'(\\w+\\s\\w+) bag', rule)\n",
    "        container = bag_types[0]\n",
    "        bags_inside = bag_types[1:]\n",
    "        if iteration == 1:\n",
    "            if 'shiny gold' in bags_inside:\n",
    "                gold_inside.append(container)\n",
    "        else:\n",
    "            if set(bags_inside).intersection( set(gold_inside) ) and container not in gold_inside:\n",
    "                gold_inside.append(container)\n",
    "    if len_gold_before == len(gold_inside):\n",
    "        flag = False"
   ]
  },
  {
   "cell_type": "code",
   "execution_count": 60,
   "metadata": {},
   "outputs": [
    {
     "name": "stdout",
     "output_type": "stream",
     "text": [
      "The answer to part 1 is 296. It took 8 iterations to arrive at that answer.\n"
     ]
    }
   ],
   "source": [
    "print(f\"The answer to part 1 is {len(gold_inside)}. It took {iteration} iterations to arrive at that answer.\")"
   ]
  },
  {
   "cell_type": "markdown",
   "metadata": {},
   "source": [
    "## Part 2"
   ]
  },
  {
   "cell_type": "markdown",
   "metadata": {},
   "source": [
    "How many individual bags are required inside your single shiny gold bag?\n",
    "\n"
   ]
  },
  {
   "cell_type": "code",
   "execution_count": 61,
   "metadata": {},
   "outputs": [],
   "source": [
    "current_bag_set = [\"shiny gold\"]\n",
    "running_total_list = []\n",
    "current_bag_numbers = [1]\n",
    "intermediate_bag_set = []\n",
    "intermediate_bag_numbers = []\n",
    "iteration_part_2 = 0\n",
    "while len(current_bag_set) > 0:\n",
    "    iteration_part_2 += 1\n",
    "    for ind, bag in enumerate(current_bag_set):\n",
    "        for rule in data:\n",
    "            bag_types = re.findall(r'(\\w+\\s\\w+) bag', rule)\n",
    "            bag_numbers = [int(x) for x in re.findall(r'\\d+', rule)]\n",
    "            container = bag_types[0]\n",
    "            bags_inside = bag_types[1:]\n",
    "            if container == bag and len(bag_numbers) > 0:\n",
    "                running_total_list.append( current_bag_numbers[ind] * sum(bag_numbers) )\n",
    "                intermediate_bag_numbers.extend(map(lambda x: x * current_bag_numbers[ind], bag_numbers))\n",
    "                intermediate_bag_set.extend(bags_inside)\n",
    "                break;\n",
    "    current_bag_set = intermediate_bag_set\n",
    "    current_bag_numbers = intermediate_bag_numbers\n",
    "    intermediate_bag_set = []\n",
    "    intermediate_bag_numbers = []"
   ]
  },
  {
   "cell_type": "code",
   "execution_count": 62,
   "metadata": {},
   "outputs": [
    {
     "name": "stdout",
     "output_type": "stream",
     "text": [
      "The answer to part 1 is 9339. It took 8 iterations to arrive at that answer.\n"
     ]
    }
   ],
   "source": [
    "print(f\"The answer to part 1 is {sum(running_total_list)}. It took {iteration} iterations to arrive at that answer.\")"
   ]
  }
 ],
 "metadata": {
  "kernelspec": {
   "display_name": "Python 3",
   "language": "python",
   "name": "python3"
  },
  "language_info": {
   "codemirror_mode": {
    "name": "ipython",
    "version": 3
   },
   "file_extension": ".py",
   "mimetype": "text/x-python",
   "name": "python",
   "nbconvert_exporter": "python",
   "pygments_lexer": "ipython3",
   "version": "3.6.10"
  }
 },
 "nbformat": 4,
 "nbformat_minor": 2
}
