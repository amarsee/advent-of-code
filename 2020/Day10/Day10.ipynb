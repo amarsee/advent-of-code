{
 "cells": [
  {
   "cell_type": "markdown",
   "metadata": {},
   "source": [
    "## Part 1"
   ]
  },
  {
   "cell_type": "markdown",
   "metadata": {},
   "source": [
    "Find a chain that uses all of your adapters to connect the charging outlet to your device's built-in adapter and count the joltage differences between the charging outlet, the adapters, and your device. What is the number of 1-jolt differences multiplied by the number of 3-jolt differences?"
   ]
  },
  {
   "cell_type": "code",
   "execution_count": 32,
   "metadata": {},
   "outputs": [],
   "source": [
    "import itertools\n",
    "import numpy as np\n",
    "from functools import reduce"
   ]
  },
  {
   "cell_type": "code",
   "execution_count": 2,
   "metadata": {},
   "outputs": [],
   "source": [
    "data = [int(x) for x in open(\"input.txt\").readlines()]\n",
    "data.sort()"
   ]
  },
  {
   "cell_type": "code",
   "execution_count": 3,
   "metadata": {},
   "outputs": [],
   "source": [
    "part1 = []\n",
    "part1.extend(data)\n",
    "part1.append(max(data) + 3)"
   ]
  },
  {
   "cell_type": "code",
   "execution_count": 4,
   "metadata": {},
   "outputs": [],
   "source": [
    "# data"
   ]
  },
  {
   "cell_type": "code",
   "execution_count": 5,
   "metadata": {},
   "outputs": [],
   "source": [
    "class Adapter:\n",
    "  def __init__(self, current_adapter, jolt_diff_one, jolt_diff_three):\n",
    "    self.current_adapter = current_adapter\n",
    "    self.jolt_diff_one = jolt_diff_one\n",
    "    self.jolt_diff_three = jolt_diff_three\n",
    "    \n",
    "  def jolt_track(self, jolt_diff):\n",
    "    if jolt_diff == 1:\n",
    "        self.jolt_diff_one += 1\n",
    "    elif jolt_diff == 3:\n",
    "        self.jolt_diff_three += 1"
   ]
  },
  {
   "cell_type": "code",
   "execution_count": 6,
   "metadata": {},
   "outputs": [],
   "source": [
    "part_1_tracker = Adapter(0, 0, 0)\n",
    "for jolt in part1:\n",
    "    jolt_diff = jolt - part_1_tracker.current_adapter\n",
    "    part_1_tracker.jolt_track(jolt_diff)\n",
    "    part_1_tracker.current_adapter = jolt\n"
   ]
  },
  {
   "cell_type": "code",
   "execution_count": 7,
   "metadata": {},
   "outputs": [
    {
     "name": "stdout",
     "output_type": "stream",
     "text": [
      "The answer to part 1 is 2484.\n"
     ]
    }
   ],
   "source": [
    "print(f\"The answer to part 1 is {part_1_tracker.jolt_diff_one * part_1_tracker.jolt_diff_three}.\")"
   ]
  },
  {
   "cell_type": "markdown",
   "metadata": {},
   "source": [
    "## Part 2"
   ]
  },
  {
   "cell_type": "markdown",
   "metadata": {},
   "source": [
    "What is the total number of distinct ways you can arrange the adapters to connect the charging outlet to your device?"
   ]
  },
  {
   "cell_type": "code",
   "execution_count": 40,
   "metadata": {
    "scrolled": false
   },
   "outputs": [],
   "source": [
    "valid_num = {}\n",
    "removable_dict = {'removable': [], 'non_removable': []}\n",
    "preceding_len = 0\n",
    "np_data = np.array([0] + data + [max(data)+3])\n",
    "for num in np_data:\n",
    "    next_nums = np_data[np.all([[np_data > num],  [np_data - num <= 3]], axis = 0)[0]]\n",
    "    removable = (not(len(next_nums) == 1 and preceding_len == 1) and num not in [0, max(data)+3]) and preceding_len != 1\n",
    "    valid_num[num] = {'valid_next_nums': next_nums, 'removable': removable}\n",
    "    if removable:\n",
    "        removable_dict['removable'].append(num)\n",
    "    else:\n",
    "        removable_dict['non_removable'].append(num)\n",
    "    preceding_len = len(next_nums)\n",
    "#     print(num)\n",
    "# np_data[np_data == 4]\n",
    "# valid_num"
   ]
  },
  {
   "cell_type": "code",
   "execution_count": 41,
   "metadata": {},
   "outputs": [],
   "source": [
    "combo_nums = []\n",
    "for ind, num in enumerate(removable_dict['non_removable']):\n",
    "    if ind + 1 < len(removable_dict['non_removable']):\n",
    "        next_num = removable_dict['non_removable'][ind+1]\n",
    "        possible_remove = [x for x in removable_dict['removable'] if x < next_num and x > num]\n",
    "        remove_combos = []\n",
    "        for x in range(0,len(possible_remove)+1):\n",
    "            combo_list = list(itertools.combinations(possible_remove, x))\n",
    "            valid_combos = [x for x in combo_list if max(np.diff([num] + list(x) + [next_num])) <= 3]\n",
    "            remove_combos.extend(valid_combos)\n",
    "        if len(remove_combos) > 0:\n",
    "            combo_nums.append(len(remove_combos))\n",
    "#         print(remove_combos)\n",
    "#         print(f\"num {num}, next num {removable_dict['non_removable'][ind+1]}\")\n",
    "part_2 = reduce(lambda x, y: x * y , combo_nums)"
   ]
  },
  {
   "cell_type": "code",
   "execution_count": 42,
   "metadata": {},
   "outputs": [
    {
     "name": "stdout",
     "output_type": "stream",
     "text": [
      "The answer to Part 2 is 15790581481472\n"
     ]
    }
   ],
   "source": [
    "print(f\"The answer to Part 2 is {part_2}\")"
   ]
  },
  {
   "cell_type": "code",
   "execution_count": null,
   "metadata": {},
   "outputs": [],
   "source": []
  }
 ],
 "metadata": {
  "kernelspec": {
   "display_name": "Python 3",
   "language": "python",
   "name": "python3"
  },
  "language_info": {
   "codemirror_mode": {
    "name": "ipython",
    "version": 3
   },
   "file_extension": ".py",
   "mimetype": "text/x-python",
   "name": "python",
   "nbconvert_exporter": "python",
   "pygments_lexer": "ipython3",
   "version": "3.6.10"
  }
 },
 "nbformat": 4,
 "nbformat_minor": 2
}
