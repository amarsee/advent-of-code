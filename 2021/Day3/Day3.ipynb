{
 "cells": [
  {
   "cell_type": "code",
   "execution_count": 1,
   "id": "52966ce7",
   "metadata": {},
   "outputs": [],
   "source": [
    "import itertools\n",
    "import pandas as pd"
   ]
  },
  {
   "cell_type": "markdown",
   "id": "76ef20c5",
   "metadata": {},
   "source": [
    "## Part 1\n"
   ]
  },
  {
   "cell_type": "markdown",
   "id": "747cdf67",
   "metadata": {},
   "source": [
    "- Use the binary numbers in your diagnostic report to calculate the gamma rate and epsilon rate, then multiply them together\n",
    "- You need to use the binary numbers in the diagnostic report to generate two new binary numbers (called the gamma rate and the epsilon rate). The power consumption can then be found by multiplying the gamma rate by the epsilon rate.\n",
    "\n",
    "- Each bit in the gamma rate can be determined by finding the most common bit in the corresponding position of all numbers in the diagnostic report."
   ]
  },
  {
   "cell_type": "code",
   "execution_count": 7,
   "id": "03e175e9",
   "metadata": {},
   "outputs": [],
   "source": [
    "data = [x.strip() for x in open(\"input.txt\").readlines()]"
   ]
  },
  {
   "cell_type": "code",
   "execution_count": 9,
   "id": "0211a8c8",
   "metadata": {},
   "outputs": [],
   "source": [
    "df = pd.DataFrame({\n",
    "    'input_col': data\n",
    "})"
   ]
  },
  {
   "cell_type": "code",
   "execution_count": 15,
   "id": "5859d8c9",
   "metadata": {},
   "outputs": [],
   "source": [
    "df_split = df['input_col'].apply(lambda x: pd.Series(list(x))) # Turn digits into columns"
   ]
  },
  {
   "cell_type": "code",
   "execution_count": 24,
   "id": "de641eb2",
   "metadata": {},
   "outputs": [],
   "source": [
    "split_counts = df_split.apply(lambda x: x.value_counts()) # Count of each digit"
   ]
  },
  {
   "cell_type": "code",
   "execution_count": 27,
   "id": "c05c5a36",
   "metadata": {},
   "outputs": [],
   "source": [
    "least_common = split_counts.apply(lambda x: x.idxmin()) # Least common"
   ]
  },
  {
   "cell_type": "code",
   "execution_count": 29,
   "id": "890fb906",
   "metadata": {},
   "outputs": [],
   "source": [
    "most_common = split_counts.apply(lambda x: x.idxmax())# Most common"
   ]
  },
  {
   "cell_type": "code",
   "execution_count": 35,
   "id": "abe6a9ef",
   "metadata": {},
   "outputs": [],
   "source": [
    "output_p1 = int(least_common.str.cat(), base = 2) * int(most_common.str.cat(), base = 2)"
   ]
  },
  {
   "cell_type": "code",
   "execution_count": 36,
   "id": "5ebbed13",
   "metadata": {},
   "outputs": [
    {
     "name": "stdout",
     "output_type": "stream",
     "text": [
      "The output of Part 1 is 693486.\n"
     ]
    }
   ],
   "source": [
    "print(f\"The output of Part 1 is {output_p1}.\")"
   ]
  },
  {
   "cell_type": "markdown",
   "id": "6d42600f",
   "metadata": {},
   "source": [
    "## Part 2 "
   ]
  },
  {
   "cell_type": "markdown",
   "id": "670967f2",
   "metadata": {},
   "source": [
    "- Keep only numbers selected by the bit criteria for the type of rating value for which you are searching. Discard numbers which do not match the bit criteria.\n",
    "    - If you only have one number left, stop; this is the rating value for which you are searching.\n",
    "    - Otherwise, repeat the process, considering the next bit to the right.\n",
    "- The bit criteria depends on which type of rating value you want to find:\n",
    "\n",
    "    - To find oxygen generator rating, determine the most common value (0 or 1) in the current bit position, and keep only numbers with that bit in that position. If 0 and 1 are equally common, keep values with a 1 in the position being considered.\n",
    "    - To find CO2 scrubber rating, determine the least common value (0 or 1) in the current bit position, and keep only numbers with that bit in that position. If 0 and 1 are equally common, keep values with a 0 in the position being considered."
   ]
  },
  {
   "cell_type": "code",
   "execution_count": null,
   "id": "28ac3838",
   "metadata": {},
   "outputs": [],
   "source": []
  }
 ],
 "metadata": {
  "kernelspec": {
   "display_name": "Python 3",
   "language": "python",
   "name": "python3"
  },
  "language_info": {
   "codemirror_mode": {
    "name": "ipython",
    "version": 3
   },
   "file_extension": ".py",
   "mimetype": "text/x-python",
   "name": "python",
   "nbconvert_exporter": "python",
   "pygments_lexer": "ipython3",
   "version": "3.8.8"
  }
 },
 "nbformat": 4,
 "nbformat_minor": 5
}
