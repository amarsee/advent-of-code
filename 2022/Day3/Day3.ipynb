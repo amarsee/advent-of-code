{
 "cells": [
  {
   "cell_type": "code",
   "execution_count": 27,
   "id": "6e33031c",
   "metadata": {},
   "outputs": [],
   "source": [
    "import pandas as pd\n",
    "import itertools\n",
    "import string"
   ]
  },
  {
   "cell_type": "markdown",
   "id": "906487a3",
   "metadata": {},
   "source": [
    "# Part 1\n",
    "- Find the item type that appears in both compartments of each rucksack. What is the sum of the priorities of those item types?"
   ]
  },
  {
   "cell_type": "code",
   "execution_count": 3,
   "id": "2d0ff4d0",
   "metadata": {},
   "outputs": [],
   "source": [
    "data = [x for x in open(\"input.txt\").read().splitlines()]"
   ]
  },
  {
   "cell_type": "code",
   "execution_count": 43,
   "id": "cefbc247",
   "metadata": {},
   "outputs": [],
   "source": [
    "# data"
   ]
  },
  {
   "cell_type": "code",
   "execution_count": 26,
   "id": "637fbd63",
   "metadata": {},
   "outputs": [],
   "source": [
    "common_chars = []\n",
    "# split into halves\n",
    "for compartment in data:\n",
    "    str_len = len(compartment)\n",
    "    first_half = compartment[:int(str_len / 2)]\n",
    "    second_half = compartment[int(str_len / 2):]\n",
    "    common_char = ''.join(set(first_half).intersection(second_half))\n",
    "    common_chars += common_char"
   ]
  },
  {
   "cell_type": "code",
   "execution_count": 30,
   "id": "2d5a358c",
   "metadata": {},
   "outputs": [],
   "source": [
    "letter_nums = dict(zip(string.ascii_lowercase, range(1,27)))\n",
    "letter_nums.update(dict(zip(string.ascii_uppercase, range(27,53))))"
   ]
  },
  {
   "cell_type": "code",
   "execution_count": 32,
   "id": "cafeaf67",
   "metadata": {},
   "outputs": [],
   "source": [
    "priorities = [letter_nums[char] for char in common_chars]"
   ]
  },
  {
   "cell_type": "code",
   "execution_count": 35,
   "id": "040d50c9",
   "metadata": {},
   "outputs": [
    {
     "name": "stdout",
     "output_type": "stream",
     "text": [
      "The total of the priorities is 8153.\n"
     ]
    }
   ],
   "source": [
    "print(f\"The total of the priorities is {sum(priorities)}.\")"
   ]
  },
  {
   "cell_type": "markdown",
   "id": "2dc0e75e",
   "metadata": {},
   "source": [
    "# Part 2 \n",
    "- the badge is the only item type carried by all three Elves\n",
    "- The only way to tell which item type is the right one is by finding the one item type that is common between all three Elves in each group\n",
    "- What is the sum of the priorities of those item types?"
   ]
  },
  {
   "cell_type": "code",
   "execution_count": 40,
   "id": "d8cefba3",
   "metadata": {},
   "outputs": [],
   "source": [
    "common_chars_2 = []\n",
    "group_num = 0\n",
    "# split into halves\n",
    "for compartment in data:\n",
    "    group_num += 1\n",
    "    if group_num == 1:\n",
    "        first_elf = compartment\n",
    "    elif group_num == 2:\n",
    "        second_elf = compartment\n",
    "    elif group_num == 3:\n",
    "        third_elf = compartment\n",
    "        \n",
    "        common_char = ''.join(set(first_elf) & set(second_elf) & set(third_elf))\n",
    "        common_chars_2 += common_char\n",
    "        group_num = 0\n",
    "    "
   ]
  },
  {
   "cell_type": "code",
   "execution_count": 41,
   "id": "8b7f7d60",
   "metadata": {},
   "outputs": [],
   "source": [
    "priorities_2 = [letter_nums[char] for char in common_chars_2]"
   ]
  },
  {
   "cell_type": "code",
   "execution_count": 42,
   "id": "047a9757",
   "metadata": {},
   "outputs": [
    {
     "name": "stdout",
     "output_type": "stream",
     "text": [
      "The total of the priorities for Part 2 is 2342.\n"
     ]
    }
   ],
   "source": [
    "print(f\"The total of the priorities for Part 2 is {sum(priorities_2)}.\")"
   ]
  }
 ],
 "metadata": {
  "kernelspec": {
   "display_name": "Python 3",
   "language": "python",
   "name": "python3"
  },
  "language_info": {
   "codemirror_mode": {
    "name": "ipython",
    "version": 3
   },
   "file_extension": ".py",
   "mimetype": "text/x-python",
   "name": "python",
   "nbconvert_exporter": "python",
   "pygments_lexer": "ipython3",
   "version": "3.8.8"
  }
 },
 "nbformat": 4,
 "nbformat_minor": 5
}
