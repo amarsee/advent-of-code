{
 "cells": [
  {
   "cell_type": "markdown",
   "metadata": {},
   "source": [
    "## Part 1"
   ]
  },
  {
   "cell_type": "markdown",
   "metadata": {},
   "source": [
    "Figure out where the navigation instructions lead. What is the Manhattan distance between that location and the ship's starting position?"
   ]
  },
  {
   "cell_type": "code",
   "execution_count": 1,
   "metadata": {},
   "outputs": [],
   "source": [
    "import itertools\n",
    "import re"
   ]
  },
  {
   "cell_type": "code",
   "execution_count": 2,
   "metadata": {},
   "outputs": [],
   "source": [
    "data = [re.sub(r'\\n', '', x) for x in open(\"input.txt\").readlines()]"
   ]
  },
  {
   "cell_type": "code",
   "execution_count": 31,
   "metadata": {},
   "outputs": [],
   "source": [
    "# data"
   ]
  },
  {
   "cell_type": "code",
   "execution_count": 26,
   "metadata": {},
   "outputs": [],
   "source": [
    "\n",
    "class Ship:\n",
    "  def __init__(self):\n",
    "    self.direction_facing = 90\n",
    "    self.north_south = 0\n",
    "    self.east_west = 0\n",
    "    \n",
    "  def turn(self, direction, deg):\n",
    "    if direction == 'R':\n",
    "        self.direction_facing += deg\n",
    "    else:\n",
    "        self.direction_facing -= deg\n",
    "    \n",
    "  def reset_tally(self):\n",
    "    if self.direction_facing >= 360:\n",
    "        self.direction_facing -= 360\n",
    "    elif self.direction_facing < 0:\n",
    "        self.direction_facing += 360\n",
    "    \n",
    "  def move(self, direct, amount):\n",
    "    if direct == \"N\":\n",
    "        self.north_south += amount\n",
    "    elif direct == \"S\":\n",
    "        self.north_south -= amount\n",
    "    elif direct == \"E\":\n",
    "        self.east_west += amount\n",
    "    elif direct == \"W\":\n",
    "        self.east_west -= amount\n",
    "    elif direct == \"F\":\n",
    "        if self.direction_facing == 90:\n",
    "            self.east_west += amount\n",
    "        elif self.direction_facing == 180:\n",
    "            self.north_south -= amount\n",
    "        elif self.direction_facing == 270:\n",
    "            self.east_west -= amount\n",
    "        elif self.direction_facing == 0:\n",
    "            self.north_south += amount"
   ]
  },
  {
   "cell_type": "code",
   "execution_count": 27,
   "metadata": {},
   "outputs": [],
   "source": [
    "part_1_ship = Ship()\n",
    "for direction in data:\n",
    "    letter = direction[0]\n",
    "    amount = int(direction[1:])\n",
    "    if letter in [\"R\", \"L\"]:\n",
    "        part_1_ship.turn(letter, amount)\n",
    "        part_1_ship.reset_tally()\n",
    "    else:\n",
    "        part_1_ship.move(letter, amount)"
   ]
  },
  {
   "cell_type": "code",
   "execution_count": 28,
   "metadata": {},
   "outputs": [
    {
     "name": "stdout",
     "output_type": "stream",
     "text": [
      "The answer to Part 1 is 879\n"
     ]
    }
   ],
   "source": [
    "part_1 = abs(part_1_ship.north_south) + abs(part_1_ship.east_west)\n",
    "print(f\"The answer to Part 1 is {part_1}\")"
   ]
  },
  {
   "cell_type": "markdown",
   "metadata": {},
   "source": [
    "## Part 2"
   ]
  },
  {
   "cell_type": "markdown",
   "metadata": {},
   "source": [
    "Figure out where the navigation instructions actually lead. What is the Manhattan distance between that location and the ship's starting position?"
   ]
  },
  {
   "cell_type": "code",
   "execution_count": 29,
   "metadata": {},
   "outputs": [],
   "source": [
    "class ShipWaypoint:\n",
    "  def __init__(self):\n",
    "    self.waypoint_n_s = 1\n",
    "    self.waypoint_e_w = 10\n",
    "    self.ship_n_s = 0\n",
    "    self.ship_e_w = 0\n",
    "    \n",
    "  def ship_move(self, amount):\n",
    "    self.ship_n_s = self.ship_n_s + self.waypoint_n_s * amount\n",
    "    self.ship_e_w = self.ship_e_w + self.waypoint_e_w * amount\n",
    "    \n",
    "  def waypoint_rotate(self, direction, deg):\n",
    "    if deg == 180:\n",
    "        self.waypoint_n_s *= -1\n",
    "        self.waypoint_e_w *= -1\n",
    "    elif (direction == 'R' and deg == 90) or (direction == 'L' and deg == 270):\n",
    "        temp = self.waypoint_e_w\n",
    "        self.waypoint_e_w = self.waypoint_n_s\n",
    "        self.waypoint_n_s = temp * -1\n",
    "    elif (direction == 'R' and deg == 270) or (direction == 'L' and deg == 90):\n",
    "        temp = self.waypoint_e_w\n",
    "        self.waypoint_e_w = self.waypoint_n_s * -1\n",
    "        self.waypoint_n_s = temp\n",
    "    \n",
    "  def waypoint_move(self, direct, amount):\n",
    "    if direct == \"N\":\n",
    "        self.waypoint_n_s += amount\n",
    "    elif direct == \"S\":\n",
    "        self.waypoint_n_s -= amount\n",
    "    elif direct == \"E\":\n",
    "        self.waypoint_e_w += amount\n",
    "    elif direct == \"W\":\n",
    "        self.waypoint_e_w -= amount"
   ]
  },
  {
   "cell_type": "code",
   "execution_count": 30,
   "metadata": {},
   "outputs": [],
   "source": [
    "part_2_ship = ShipWaypoint()\n",
    "for direction in data:\n",
    "    letter = direction[0]\n",
    "    amount = int(direction[1:])\n",
    "    if letter in [\"R\", \"L\"]:\n",
    "        part_2_ship.waypoint_rotate(letter, amount)\n",
    "    elif letter in [\"N\", \"S\", \"E\", \"W\"]:\n",
    "        part_2_ship.waypoint_move(letter, amount)\n",
    "    else:\n",
    "        part_2_ship.ship_move(amount)"
   ]
  },
  {
   "cell_type": "code",
   "execution_count": 33,
   "metadata": {},
   "outputs": [],
   "source": [
    "part_2 = abs(part_2_ship.ship_n_s) + abs(part_2_ship.ship_e_w)"
   ]
  },
  {
   "cell_type": "code",
   "execution_count": 35,
   "metadata": {},
   "outputs": [
    {
     "name": "stdout",
     "output_type": "stream",
     "text": [
      "The answer to Part 2 is 18107\n"
     ]
    }
   ],
   "source": [
    "print(f\"The answer to Part 2 is {part_2}\")"
   ]
  },
  {
   "cell_type": "code",
   "execution_count": null,
   "metadata": {},
   "outputs": [],
   "source": []
  }
 ],
 "metadata": {
  "kernelspec": {
   "display_name": "Python 3",
   "language": "python",
   "name": "python3"
  },
  "language_info": {
   "codemirror_mode": {
    "name": "ipython",
    "version": 3
   },
   "file_extension": ".py",
   "mimetype": "text/x-python",
   "name": "python",
   "nbconvert_exporter": "python",
   "pygments_lexer": "ipython3",
   "version": "3.6.10"
  }
 },
 "nbformat": 4,
 "nbformat_minor": 2
}
