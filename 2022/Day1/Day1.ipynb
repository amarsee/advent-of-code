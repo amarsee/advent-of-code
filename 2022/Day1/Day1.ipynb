{
 "cells": [
  {
   "cell_type": "code",
   "execution_count": 1,
   "id": "ecece443",
   "metadata": {},
   "outputs": [],
   "source": [
    "import pandas as pd\n",
    "import itertools"
   ]
  },
  {
   "cell_type": "markdown",
   "id": "c25dcef5",
   "metadata": {},
   "source": [
    "## Part 1"
   ]
  },
  {
   "cell_type": "markdown",
   "id": "e2c22a7c",
   "metadata": {},
   "source": [
    "- Find the Elf carrying the most Calories. How many total Calories is that Elf carrying?"
   ]
  },
  {
   "cell_type": "code",
   "execution_count": 9,
   "id": "833ef644",
   "metadata": {},
   "outputs": [],
   "source": [
    "data = [x for x in open(\"input.txt\").read().splitlines()]"
   ]
  },
  {
   "cell_type": "code",
   "execution_count": 11,
   "id": "36329b38",
   "metadata": {},
   "outputs": [],
   "source": [
    "elf_tab = {}\n",
    "elf_sum = 0\n",
    "elf_num = 1\n",
    "for line in data:\n",
    "    if line != '':\n",
    "        elf_sum += int(line)\n",
    "    else:\n",
    "        elf_tab[elf_num] = elf_sum\n",
    "        elf_sum = 0\n",
    "        elf_num += 1"
   ]
  },
  {
   "cell_type": "code",
   "execution_count": 18,
   "id": "bb9073e3",
   "metadata": {},
   "outputs": [],
   "source": [
    "max_pair = max(elf_tab.items(), key=lambda k: k[1])"
   ]
  },
  {
   "cell_type": "code",
   "execution_count": 19,
   "id": "ada66d66",
   "metadata": {},
   "outputs": [
    {
     "name": "stdout",
     "output_type": "stream",
     "text": [
      "Calories contained by the elf with the most calories 66186.\n"
     ]
    }
   ],
   "source": [
    "print(f\"Calories contained by the elf with the most calories {max_pair[1]}.\")"
   ]
  },
  {
   "cell_type": "markdown",
   "id": "af07aa7c",
   "metadata": {},
   "source": [
    "## Part 2"
   ]
  },
  {
   "cell_type": "markdown",
   "id": "4f14a9a0",
   "metadata": {},
   "source": [
    "- Find the top three Elves carrying the most Calories. How many Calories are those Elves carrying in total?"
   ]
  },
  {
   "cell_type": "code",
   "execution_count": 26,
   "id": "7ef365ec",
   "metadata": {},
   "outputs": [],
   "source": [
    "sorted_elf_tab = dict(sorted(elf_tab.items(), key=lambda x:x[1], reverse = True))"
   ]
  },
  {
   "cell_type": "code",
   "execution_count": 35,
   "id": "97451b05",
   "metadata": {},
   "outputs": [],
   "source": [
    "part_2 = sum([sorted_elf_tab[elf_key] for elf_key in list(sorted_elf_tab)[:3]])"
   ]
  },
  {
   "cell_type": "code",
   "execution_count": 36,
   "id": "337c5d69",
   "metadata": {},
   "outputs": [
    {
     "name": "stdout",
     "output_type": "stream",
     "text": [
      "The total calories for the top 3 elves is 196804.\n"
     ]
    }
   ],
   "source": [
    "print(f\"The total calories for the top 3 elves is {part_2}.\")"
   ]
  },
  {
   "cell_type": "code",
   "execution_count": null,
   "id": "f1bb4022",
   "metadata": {},
   "outputs": [],
   "source": []
  }
 ],
 "metadata": {
  "kernelspec": {
   "display_name": "Python 3",
   "language": "python",
   "name": "python3"
  },
  "language_info": {
   "codemirror_mode": {
    "name": "ipython",
    "version": 3
   },
   "file_extension": ".py",
   "mimetype": "text/x-python",
   "name": "python",
   "nbconvert_exporter": "python",
   "pygments_lexer": "ipython3",
   "version": "3.8.8"
  }
 },
 "nbformat": 4,
 "nbformat_minor": 5
}
