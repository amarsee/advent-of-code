{
 "cells": [
  {
   "cell_type": "markdown",
   "metadata": {},
   "source": [
    "## Part 1"
   ]
  },
  {
   "cell_type": "markdown",
   "metadata": {},
   "source": [
    "It doesn't matter which position corresponds to which field; you can identify invalid nearby tickets by considering only whether tickets contain values that are not valid for any field. In this example, the values on the first nearby ticket are all valid for at least one field. This is not true of the other three nearby tickets: the values 4, 55, and 12 are are not valid for any field. Adding together all of the invalid values produces your ticket scanning error rate: 4 + 55 + 12 = 71.\n",
    "\n",
    "Consider the validity of the nearby tickets you scanned. What is your ticket scanning error rate?"
   ]
  },
  {
   "cell_type": "code",
   "execution_count": 46,
   "metadata": {},
   "outputs": [],
   "source": [
    "import itertools\n",
    "import numpy as np\n",
    "import re\n",
    "from functools import reduce"
   ]
  },
  {
   "cell_type": "code",
   "execution_count": 3,
   "metadata": {},
   "outputs": [],
   "source": [
    "data = [re.sub(\"\\n\", \"\", x) for x in open(\"input.txt\").readlines()]"
   ]
  },
  {
   "cell_type": "code",
   "execution_count": 188,
   "metadata": {},
   "outputs": [],
   "source": [
    "# data"
   ]
  },
  {
   "cell_type": "code",
   "execution_count": 175,
   "metadata": {},
   "outputs": [],
   "source": [
    "rules = {}\n",
    "my_ticket = {}\n",
    "nearby_ticket = {'nearby tickets': []}\n",
    "empty_count = 0\n",
    "for line in data:\n",
    "    if line == '':\n",
    "        empty_count += 1\n",
    "    elif empty_count == 0:\n",
    "        key = re.findall(r'(^.+):', line)[0]\n",
    "        nums = re.findall(r'\\d+', line)\n",
    "        val = list(range(int(nums[0]), int(nums[1])+1)) + list(range(int(nums[2]), int(nums[3])+1))\n",
    "        rules[key] = val\n",
    "    elif empty_count == 1:\n",
    "        if re.findall(r'(^.+):', line):\n",
    "            key = re.findall(r'(^.+):', line)[0]\n",
    "        if re.findall(r'\\d+', line):\n",
    "            nums = re.findall(r'\\d+', line)\n",
    "            val = [int(x) for x in nums]\n",
    "            my_ticket[key] = val\n",
    "    else:\n",
    "        if re.findall(r'(^.+):', line):\n",
    "            key = re.findall(r'(^.+):', line)[0]\n",
    "        if re.findall(r'\\d+', line):\n",
    "            nums = re.findall(r'\\d+', line)\n",
    "            val = [int(x) for x in nums]\n",
    "            nearby_ticket[key].extend([val])\n"
   ]
  },
  {
   "cell_type": "code",
   "execution_count": 176,
   "metadata": {},
   "outputs": [
    {
     "name": "stdout",
     "output_type": "stream",
     "text": [
      "The answer to Part 1 is 22073.\n"
     ]
    }
   ],
   "source": [
    "rule_nums = []\n",
    "for key in rules:\n",
    "    rule_nums.extend(rules[key])\n",
    "invalid_nearby = [y for x in nearby_ticket['nearby tickets'] for y in x if y not in rule_nums]\n",
    "part_1 = sum(invalid_nearby)\n",
    "print(f\"The answer to Part 1 is {part_1}.\")"
   ]
  },
  {
   "cell_type": "code",
   "execution_count": 177,
   "metadata": {},
   "outputs": [
    {
     "data": {
      "text/plain": [
       "45"
      ]
     },
     "execution_count": 177,
     "metadata": {},
     "output_type": "execute_result"
    }
   ],
   "source": [
    "len(invalid_nearby)"
   ]
  },
  {
   "cell_type": "markdown",
   "metadata": {},
   "source": [
    "## Part 2"
   ]
  },
  {
   "cell_type": "markdown",
   "metadata": {},
   "source": [
    "Now that you've identified which tickets contain invalid values, discard those tickets entirely. Use the remaining valid tickets to determine which field is which."
   ]
  },
  {
   "cell_type": "markdown",
   "metadata": {},
   "source": [
    "Using the valid ranges for each field, determine what order the fields appear on the tickets. The order is consistent between all tickets: if seat is the third field, it is the third field on every ticket, including your ticket."
   ]
  },
  {
   "cell_type": "markdown",
   "metadata": {},
   "source": [
    "Once you work out which field is which, look for the six fields on your ticket that start with the word departure. What do you get if you multiply those six values together?"
   ]
  },
  {
   "cell_type": "code",
   "execution_count": null,
   "metadata": {},
   "outputs": [],
   "source": [
    "# Remove tickets with invalid values\n",
    "num_deleted = 0\n",
    "for ind, ticket in enumerate(nearby_ticket['nearby tickets']):\n",
    "#     print(set(invalid_nearby).intersection(ticket))\n",
    "    if set(invalid_nearby).intersection(ticket):\n",
    "        print(f\"ind {ind}, set {set(invalid_nearby).intersection(ticket)}\")\n",
    "        print(nearby_ticket['nearby tickets'][ind] )\n",
    "#         print(set(invalid_nearby).intersection(ticket))\n",
    "        del( nearby_ticket['nearby tickets'][ind] )\n",
    "        num_deleted += 1 # 3,9,13,19, 21"
   ]
  },
  {
   "cell_type": "code",
   "execution_count": 186,
   "metadata": {},
   "outputs": [
    {
     "name": "stdout",
     "output_type": "stream",
     "text": [
      "departure location\n",
      "[ True False  True False  True False False False False False False  True\n",
      " False False False False  True False False False]\n",
      "departure station\n",
      "[ True False  True False  True False False False False False False  True\n",
      " False False  True False  True False False False]\n",
      "departure platform\n",
      "[ True False  True  True  True False  True  True False  True False  True\n",
      " False False  True False  True False False False]\n",
      "departure track\n",
      "[ True False  True False  True False False  True False False False  True\n",
      " False False  True False  True False False False]\n",
      "departure date\n",
      "[ True False  True False  True False  True  True False False False  True\n",
      " False False  True False  True False False False]\n",
      "departure time\n",
      "[ True False  True  True  True False  True  True False False False  True\n",
      " False False  True False  True False False False]\n",
      "arrival location\n",
      "[ True False  True  True  True False  True  True  True  True False  True\n",
      " False False  True  True  True  True False  True]\n",
      "arrival station\n",
      "[False False False False False False False False False False False  True\n",
      " False False False False False False False False]\n",
      "arrival platform\n",
      "[ True  True  True  True  True False  True  True  True  True  True  True\n",
      "  True  True  True  True  True  True  True  True]\n",
      "arrival track\n",
      "[False False  True False  True False False False False False False  True\n",
      " False False False False False False False False]\n",
      "class\n",
      "[ True  True  True  True  True False  True  True  True  True False  True\n",
      " False  True  True  True  True  True  True  True]\n",
      "duration\n",
      "[ True False  True  True  True False  True  True  True  True False  True\n",
      " False  True  True  True  True  True  True  True]\n",
      "price\n",
      "[ True False  True False  True False False False False False False  True\n",
      " False False False False False False False False]\n",
      "route\n",
      "[ True False  True  True  True False  True  True  True  True False  True\n",
      " False False  True False  True  True False False]\n",
      "row\n",
      "[ True False  True  True  True False  True  True  True  True False  True\n",
      " False False  True False  True False False False]\n",
      "seat\n",
      "[ True False  True  True  True False  True  True  True  True False  True\n",
      " False  True  True  True  True  True False  True]\n",
      "train\n",
      "[ True  True  True  True  True False  True  True  True  True  True  True\n",
      " False  True  True  True  True  True  True  True]\n",
      "type\n",
      "[ True  True  True  True  True  True  True  True  True  True  True  True\n",
      "  True  True  True  True  True  True  True  True]\n",
      "wagon\n",
      "[False False False False  True False False False False False False  True\n",
      " False False False False False False False False]\n",
      "zone\n",
      "[ True False  True  True  True False  True  True  True  True False  True\n",
      " False False  True False  True  True False  True]\n"
     ]
    }
   ],
   "source": [
    "len(rules)\n",
    "valid_tickets = nearby_ticket['nearby tickets']\n",
    "# print(valid_tickets)\n",
    "# nearby_ticket['nearby tickets'] = valid_nearby\n",
    "field_order = []\n",
    "for rule_ind in range(len(rules)): # Just need first 6 (departure)\n",
    "    flag = True\n",
    "    rule_keys = list(rules.keys())\n",
    "#     rule_ind = i\n",
    "    valid_ticket_ind = 0\n",
    "    true_inds = np.ones(len(valid_tickets[valid_ticket_ind]))\n",
    "    print(rule_keys[rule_ind])\n",
    "    rule_nums = rules[rule_keys[rule_ind]] \n",
    "    for current_ticket in valid_tickets:\n",
    "        ticket_mask = np.in1d(np.array(current_ticket), np.array(rule_nums))\n",
    "        true_inds = np.all( [true_inds , ticket_mask], axis = 0)\n",
    "\n",
    "    print(true_inds)\n",
    "    valid_ticket_ind += 1"
   ]
  },
  {
   "cell_type": "code",
   "execution_count": 187,
   "metadata": {},
   "outputs": [
    {
     "data": {
      "text/plain": [
       "1346570764607"
      ]
     },
     "execution_count": 187,
     "metadata": {},
     "output_type": "execute_result"
    }
   ],
   "source": [
    "# Arrival station: 12\n",
    "# Wagon: 5\n",
    "# Arrival Track: 3\n",
    "# Price: 1\n",
    "# Departure location: 17\n",
    "# Departure station: 15\n",
    "# Departure Track: 8\n",
    "# Departure date: 7\n",
    "# Departure time: 4\n",
    "# departure platform: 10\n",
    "\n",
    "\n",
    "# 17,  15,   8   ,7,    4,    10\n",
    "107 * 157  * 97 * 71 * 113 * 103"
   ]
  },
  {
   "cell_type": "code",
   "execution_count": 173,
   "metadata": {},
   "outputs": [
    {
     "data": {
      "text/plain": [
       "[127,\n",
       " 109,\n",
       " 139,\n",
       " 113,\n",
       " 67,\n",
       " 137,\n",
       " 71,\n",
       " 97,\n",
       " 53,\n",
       " 103,\n",
       " 163,\n",
       " 167,\n",
       " 131,\n",
       " 83,\n",
       " 157,\n",
       " 101,\n",
       " 107,\n",
       " 79,\n",
       " 73,\n",
       " 89]"
      ]
     },
     "execution_count": 173,
     "metadata": {},
     "output_type": "execute_result"
    }
   ],
   "source": [
    "my_ticket[\"your ticket\"]"
   ]
  }
 ],
 "metadata": {
  "kernelspec": {
   "display_name": "Python 3",
   "language": "python",
   "name": "python3"
  },
  "language_info": {
   "codemirror_mode": {
    "name": "ipython",
    "version": 3
   },
   "file_extension": ".py",
   "mimetype": "text/x-python",
   "name": "python",
   "nbconvert_exporter": "python",
   "pygments_lexer": "ipython3",
   "version": "3.6.10"
  }
 },
 "nbformat": 4,
 "nbformat_minor": 2
}
