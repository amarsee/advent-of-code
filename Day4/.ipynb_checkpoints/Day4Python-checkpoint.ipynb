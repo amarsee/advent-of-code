{
 "cells": [
  {
   "cell_type": "markdown",
   "metadata": {},
   "source": [
    "## Part 1"
   ]
  },
  {
   "cell_type": "code",
   "execution_count": 1,
   "metadata": {},
   "outputs": [],
   "source": [
    "import numpy as np\n",
    "import pandas as pd\n",
    "import re\n",
    "from datetime import datetime"
   ]
  },
  {
   "cell_type": "code",
   "execution_count": 2,
   "metadata": {},
   "outputs": [],
   "source": [
    "data = [str(x) for x in open(\"input.txt\").read().splitlines()]"
   ]
  },
  {
   "cell_type": "code",
   "execution_count": 3,
   "metadata": {},
   "outputs": [],
   "source": [
    "dates = [re.findall(r'\\[(.*)\\]', entry)[0] for entry in data]"
   ]
  },
  {
   "cell_type": "code",
   "execution_count": 4,
   "metadata": {},
   "outputs": [],
   "source": [
    "rest = [re.findall(r'\\] (.*)$', entry)[0] for entry in data]"
   ]
  },
  {
   "cell_type": "code",
   "execution_count": 5,
   "metadata": {},
   "outputs": [],
   "source": [
    "guard_ids = []\n",
    "for i in range(0,len(rest)):\n",
    "    entry = rest[i]\n",
    "    if re.findall(r'(\\d+)', entry) == []:\n",
    "        guard_ids.append(np.nan)\n",
    "    else :\n",
    "        guard_ids.append(int(re.findall(r'(\\d+)', entry)[0]))"
   ]
  },
  {
   "cell_type": "code",
   "execution_count": 6,
   "metadata": {},
   "outputs": [],
   "source": [
    "guard_shift_df = pd.DataFrame(\n",
    "    {'date': dates,\n",
    "     'guard_id': guard_ids,\n",
    "     'note': rest\n",
    "    })"
   ]
  },
  {
   "cell_type": "code",
   "execution_count": 7,
   "metadata": {},
   "outputs": [],
   "source": [
    "shift_sorted = guard_shift_df.sort_values(by = 'date').reset_index(drop = True)\n",
    "shift_sorted['guard_id'].fillna(method = 'ffill', inplace = True)"
   ]
  },
  {
   "cell_type": "code",
   "execution_count": 8,
   "metadata": {},
   "outputs": [],
   "source": [
    "shift_sorted['minute'] = shift_sorted.date.str[-2:]\n",
    "shift_sorted['minute'] = pd.to_numeric(shift_sorted['minute'])"
   ]
  },
  {
   "cell_type": "code",
   "execution_count": 9,
   "metadata": {},
   "outputs": [
    {
     "data": {
      "text/html": [
       "<div>\n",
       "<style scoped>\n",
       "    .dataframe tbody tr th:only-of-type {\n",
       "        vertical-align: middle;\n",
       "    }\n",
       "\n",
       "    .dataframe tbody tr th {\n",
       "        vertical-align: top;\n",
       "    }\n",
       "\n",
       "    .dataframe thead th {\n",
       "        text-align: right;\n",
       "    }\n",
       "</style>\n",
       "<table border=\"1\" class=\"dataframe\">\n",
       "  <thead>\n",
       "    <tr style=\"text-align: right;\">\n",
       "      <th></th>\n",
       "      <th>date</th>\n",
       "      <th>guard_id</th>\n",
       "      <th>note</th>\n",
       "      <th>minute</th>\n",
       "      <th>time_asleep</th>\n",
       "    </tr>\n",
       "  </thead>\n",
       "  <tbody>\n",
       "    <tr>\n",
       "      <th>0</th>\n",
       "      <td>1518-02-24 23:58</td>\n",
       "      <td>853.0</td>\n",
       "      <td>Guard #853 begins shift</td>\n",
       "      <td>58</td>\n",
       "      <td>0.0</td>\n",
       "    </tr>\n",
       "    <tr>\n",
       "      <th>1</th>\n",
       "      <td>1518-02-25 00:20</td>\n",
       "      <td>853.0</td>\n",
       "      <td>falls asleep</td>\n",
       "      <td>20</td>\n",
       "      <td>0.0</td>\n",
       "    </tr>\n",
       "    <tr>\n",
       "      <th>2</th>\n",
       "      <td>1518-02-25 00:43</td>\n",
       "      <td>853.0</td>\n",
       "      <td>wakes up</td>\n",
       "      <td>43</td>\n",
       "      <td>23.0</td>\n",
       "    </tr>\n",
       "    <tr>\n",
       "      <th>3</th>\n",
       "      <td>1518-02-25 23:56</td>\n",
       "      <td>3499.0</td>\n",
       "      <td>Guard #3499 begins shift</td>\n",
       "      <td>56</td>\n",
       "      <td>0.0</td>\n",
       "    </tr>\n",
       "    <tr>\n",
       "      <th>4</th>\n",
       "      <td>1518-02-26 00:11</td>\n",
       "      <td>3499.0</td>\n",
       "      <td>falls asleep</td>\n",
       "      <td>11</td>\n",
       "      <td>0.0</td>\n",
       "    </tr>\n",
       "    <tr>\n",
       "      <th>5</th>\n",
       "      <td>1518-02-26 00:19</td>\n",
       "      <td>3499.0</td>\n",
       "      <td>wakes up</td>\n",
       "      <td>19</td>\n",
       "      <td>8.0</td>\n",
       "    </tr>\n",
       "    <tr>\n",
       "      <th>6</th>\n",
       "      <td>1518-02-26 00:37</td>\n",
       "      <td>3499.0</td>\n",
       "      <td>falls asleep</td>\n",
       "      <td>37</td>\n",
       "      <td>0.0</td>\n",
       "    </tr>\n",
       "    <tr>\n",
       "      <th>7</th>\n",
       "      <td>1518-02-26 00:44</td>\n",
       "      <td>3499.0</td>\n",
       "      <td>wakes up</td>\n",
       "      <td>44</td>\n",
       "      <td>7.0</td>\n",
       "    </tr>\n",
       "    <tr>\n",
       "      <th>8</th>\n",
       "      <td>1518-02-26 00:53</td>\n",
       "      <td>3499.0</td>\n",
       "      <td>falls asleep</td>\n",
       "      <td>53</td>\n",
       "      <td>0.0</td>\n",
       "    </tr>\n",
       "    <tr>\n",
       "      <th>9</th>\n",
       "      <td>1518-02-26 00:58</td>\n",
       "      <td>3499.0</td>\n",
       "      <td>wakes up</td>\n",
       "      <td>58</td>\n",
       "      <td>5.0</td>\n",
       "    </tr>\n",
       "  </tbody>\n",
       "</table>\n",
       "</div>"
      ],
      "text/plain": [
       "               date  guard_id                      note  minute  time_asleep\n",
       "0  1518-02-24 23:58     853.0   Guard #853 begins shift      58          0.0\n",
       "1  1518-02-25 00:20     853.0              falls asleep      20          0.0\n",
       "2  1518-02-25 00:43     853.0                  wakes up      43         23.0\n",
       "3  1518-02-25 23:56    3499.0  Guard #3499 begins shift      56          0.0\n",
       "4  1518-02-26 00:11    3499.0              falls asleep      11          0.0\n",
       "5  1518-02-26 00:19    3499.0                  wakes up      19          8.0\n",
       "6  1518-02-26 00:37    3499.0              falls asleep      37          0.0\n",
       "7  1518-02-26 00:44    3499.0                  wakes up      44          7.0\n",
       "8  1518-02-26 00:53    3499.0              falls asleep      53          0.0\n",
       "9  1518-02-26 00:58    3499.0                  wakes up      58          5.0"
      ]
     },
     "execution_count": 9,
     "metadata": {},
     "output_type": "execute_result"
    }
   ],
   "source": [
    "shift_sorted['time_asleep'] = 0\n",
    "shift_sorted.loc[shift_sorted['note'] == 'wakes up', 'time_asleep'] = shift_sorted.minute.diff()\n",
    "shift_sorted.head(10)\n"
   ]
  },
  {
   "cell_type": "code",
   "execution_count": 10,
   "metadata": {},
   "outputs": [
    {
     "data": {
      "text/html": [
       "<div>\n",
       "<style scoped>\n",
       "    .dataframe tbody tr th:only-of-type {\n",
       "        vertical-align: middle;\n",
       "    }\n",
       "\n",
       "    .dataframe tbody tr th {\n",
       "        vertical-align: top;\n",
       "    }\n",
       "\n",
       "    .dataframe thead th {\n",
       "        text-align: right;\n",
       "    }\n",
       "</style>\n",
       "<table border=\"1\" class=\"dataframe\">\n",
       "  <thead>\n",
       "    <tr style=\"text-align: right;\">\n",
       "      <th></th>\n",
       "      <th>time_asleep</th>\n",
       "    </tr>\n",
       "    <tr>\n",
       "      <th>guard_id</th>\n",
       "      <th></th>\n",
       "    </tr>\n",
       "  </thead>\n",
       "  <tbody>\n",
       "    <tr>\n",
       "      <th>727.0</th>\n",
       "      <td>444.0</td>\n",
       "    </tr>\n",
       "  </tbody>\n",
       "</table>\n",
       "</div>"
      ],
      "text/plain": [
       "          time_asleep\n",
       "guard_id             \n",
       "727.0           444.0"
      ]
     },
     "execution_count": 10,
     "metadata": {},
     "output_type": "execute_result"
    }
   ],
   "source": [
    "shift_sorted[['guard_id', 'time_asleep']].groupby(by = 'guard_id').sum().sort_values(by = 'time_asleep', ascending = False).head(1)"
   ]
  },
  {
   "cell_type": "markdown",
   "metadata": {},
   "source": [
    "## Guard 727 sleeps the most\n",
    "444 minutes"
   ]
  },
  {
   "cell_type": "code",
   "execution_count": 11,
   "metadata": {},
   "outputs": [],
   "source": [
    "guard_727 = shift_sorted.loc[(shift_sorted['guard_id'] == 727.0) & ((shift_sorted['note'] == 'wakes up') | (shift_sorted['note'] == 'falls asleep')), :]"
   ]
  },
  {
   "cell_type": "code",
   "execution_count": 12,
   "metadata": {},
   "outputs": [],
   "source": [
    "a = np.zeros(60)"
   ]
  },
  {
   "cell_type": "code",
   "execution_count": 13,
   "metadata": {},
   "outputs": [],
   "source": [
    "guard_interest_list = guard_727['minute'].tolist()\n",
    "for i in range(1,len(guard_interest_list)-1, 2):\n",
    "    start = guard_interest_list[i-1]\n",
    "    stop = guard_interest_list[i]\n",
    "    a[start:stop] += 1\n"
   ]
  },
  {
   "cell_type": "code",
   "execution_count": 14,
   "metadata": {},
   "outputs": [
    {
     "data": {
      "text/plain": [
       "15.0"
      ]
     },
     "execution_count": 14,
     "metadata": {},
     "output_type": "execute_result"
    }
   ],
   "source": [
    "a[np.argmax(a)]"
   ]
  },
  {
   "cell_type": "code",
   "execution_count": 15,
   "metadata": {},
   "outputs": [
    {
     "data": {
      "text/plain": [
       "29"
      ]
     },
     "execution_count": 15,
     "metadata": {},
     "output_type": "execute_result"
    }
   ],
   "source": [
    "np.argmax(a)"
   ]
  },
  {
   "cell_type": "markdown",
   "metadata": {},
   "source": [
    "### What is the ID of the guard you chose multiplied by the minute you chose?"
   ]
  },
  {
   "cell_type": "code",
   "execution_count": 16,
   "metadata": {},
   "outputs": [
    {
     "data": {
      "text/plain": [
       "21083"
      ]
     },
     "execution_count": 16,
     "metadata": {},
     "output_type": "execute_result"
    }
   ],
   "source": [
    "29 * 727"
   ]
  },
  {
   "cell_type": "markdown",
   "metadata": {},
   "source": [
    "## Part one answer is 21,083"
   ]
  },
  {
   "cell_type": "markdown",
   "metadata": {},
   "source": [
    "## Part 2"
   ]
  },
  {
   "cell_type": "markdown",
   "metadata": {},
   "source": [
    "--- Part Two ---\n",
    "Strategy 2: Of all guards, which guard is most frequently asleep on the same minute?\n",
    "\n",
    "In the example above, Guard #99 spent minute 45 asleep more than any other guard or minute - three times in total. (In all other cases, any guard spent any minute asleep at most twice.)\n",
    "\n",
    "What is the ID of the guard you chose multiplied by the minute you chose? (In the above example, the answer would be 99 * 45 = 4455.)"
   ]
  },
  {
   "cell_type": "code",
   "execution_count": 17,
   "metadata": {},
   "outputs": [
    {
     "data": {
      "text/html": [
       "<div>\n",
       "<style scoped>\n",
       "    .dataframe tbody tr th:only-of-type {\n",
       "        vertical-align: middle;\n",
       "    }\n",
       "\n",
       "    .dataframe tbody tr th {\n",
       "        vertical-align: top;\n",
       "    }\n",
       "\n",
       "    .dataframe thead th {\n",
       "        text-align: right;\n",
       "    }\n",
       "</style>\n",
       "<table border=\"1\" class=\"dataframe\">\n",
       "  <thead>\n",
       "    <tr style=\"text-align: right;\">\n",
       "      <th></th>\n",
       "      <th>date</th>\n",
       "      <th>guard_id</th>\n",
       "      <th>note</th>\n",
       "      <th>minute</th>\n",
       "      <th>time_asleep</th>\n",
       "    </tr>\n",
       "  </thead>\n",
       "  <tbody>\n",
       "    <tr>\n",
       "      <th>1</th>\n",
       "      <td>1518-02-25 00:20</td>\n",
       "      <td>853.0</td>\n",
       "      <td>falls asleep</td>\n",
       "      <td>20</td>\n",
       "      <td>0.0</td>\n",
       "    </tr>\n",
       "    <tr>\n",
       "      <th>2</th>\n",
       "      <td>1518-02-25 00:43</td>\n",
       "      <td>853.0</td>\n",
       "      <td>wakes up</td>\n",
       "      <td>43</td>\n",
       "      <td>23.0</td>\n",
       "    </tr>\n",
       "    <tr>\n",
       "      <th>4</th>\n",
       "      <td>1518-02-26 00:11</td>\n",
       "      <td>3499.0</td>\n",
       "      <td>falls asleep</td>\n",
       "      <td>11</td>\n",
       "      <td>0.0</td>\n",
       "    </tr>\n",
       "    <tr>\n",
       "      <th>5</th>\n",
       "      <td>1518-02-26 00:19</td>\n",
       "      <td>3499.0</td>\n",
       "      <td>wakes up</td>\n",
       "      <td>19</td>\n",
       "      <td>8.0</td>\n",
       "    </tr>\n",
       "    <tr>\n",
       "      <th>6</th>\n",
       "      <td>1518-02-26 00:37</td>\n",
       "      <td>3499.0</td>\n",
       "      <td>falls asleep</td>\n",
       "      <td>37</td>\n",
       "      <td>0.0</td>\n",
       "    </tr>\n",
       "  </tbody>\n",
       "</table>\n",
       "</div>"
      ],
      "text/plain": [
       "               date  guard_id          note  minute  time_asleep\n",
       "1  1518-02-25 00:20     853.0  falls asleep      20          0.0\n",
       "2  1518-02-25 00:43     853.0      wakes up      43         23.0\n",
       "4  1518-02-26 00:11    3499.0  falls asleep      11          0.0\n",
       "5  1518-02-26 00:19    3499.0      wakes up      19          8.0\n",
       "6  1518-02-26 00:37    3499.0  falls asleep      37          0.0"
      ]
     },
     "execution_count": 17,
     "metadata": {},
     "output_type": "execute_result"
    }
   ],
   "source": [
    "sleep_interval = shift_sorted.loc[(shift_sorted['note'] == 'wakes up') | (shift_sorted['note'] == 'falls asleep'), :]\n",
    "sleep_interval.head()"
   ]
  },
  {
   "cell_type": "code",
   "execution_count": 18,
   "metadata": {},
   "outputs": [],
   "source": [
    "guards = sleep_interval.guard_id.unique().tolist()"
   ]
  },
  {
   "cell_type": "code",
   "execution_count": 19,
   "metadata": {},
   "outputs": [
    {
     "name": "stdout",
     "output_type": "stream",
     "text": [
      "Guard ID: 1657.0\n",
      "Minute Most Asleep: 32.0\n"
     ]
    }
   ],
   "source": [
    "max_min_arr = np.zeros(len(guards))\n",
    "max_val_arr = np.zeros(len(guards))\n",
    "for i in range(0,len(guards)):\n",
    "    temp_df = sleep_interval.loc[sleep_interval['guard_id'] == guards[i]]\n",
    "    min_tally = np.zeros(60)\n",
    "    guard_sleep_list = temp_df['minute'].tolist()\n",
    "    for j in range(1,len(guard_sleep_list)+1, 2):\n",
    "        start = guard_sleep_list[j-1]\n",
    "        stop = guard_sleep_list[j]\n",
    "        min_tally[start:stop] += 1\n",
    "    max_min = np.argmax(min_tally)\n",
    "    max_val = min_tally[np.argmax(min_tally)]\n",
    "    max_min_arr[i] = max_min\n",
    "    max_val_arr[i] = max_val\n",
    "    #print('Guard: ' + str(guards[i]) + ' minute most asleep: ' + str(max_min) +' number of times: ' + str(max_val))\n",
    "max_guard_id  = guards[np.argmax(max_val_arr)]\n",
    "max_minute = max_min_arr[np.argmax(max_val_arr)]\n",
    "print('Guard ID: ' + str(max_guard_id))\n",
    "print('Minute Most Asleep: ' + str(max_minute))"
   ]
  },
  {
   "cell_type": "markdown",
   "metadata": {},
   "source": [
    "### Guard 1657 was asleep in minute 32 a total of 17 times. The 17 times was the most anybody was asleep in a certain minute"
   ]
  },
  {
   "cell_type": "code",
   "execution_count": 20,
   "metadata": {},
   "outputs": [
    {
     "data": {
      "text/plain": [
       "53024"
      ]
     },
     "execution_count": 20,
     "metadata": {},
     "output_type": "execute_result"
    }
   ],
   "source": [
    "32 * 1657"
   ]
  },
  {
   "cell_type": "markdown",
   "metadata": {},
   "source": [
    "## Answer to Part 2 is 53024"
   ]
  }
 ],
 "metadata": {
  "kernelspec": {
   "display_name": "Python 3",
   "language": "python",
   "name": "python3"
  },
  "language_info": {
   "codemirror_mode": {
    "name": "ipython",
    "version": 3
   },
   "file_extension": ".py",
   "mimetype": "text/x-python",
   "name": "python",
   "nbconvert_exporter": "python",
   "pygments_lexer": "ipython3",
   "version": "3.6.5"
  }
 },
 "nbformat": 4,
 "nbformat_minor": 2
}
