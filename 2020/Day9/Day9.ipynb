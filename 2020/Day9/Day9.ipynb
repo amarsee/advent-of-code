{
 "cells": [
  {
   "cell_type": "markdown",
   "metadata": {},
   "source": [
    "## Part 1"
   ]
  },
  {
   "cell_type": "markdown",
   "metadata": {},
   "source": [
    "The first step of attacking the weakness in the XMAS data is to find the first number in the list (after the preamble) which is not the sum of two of the 25 numbers before it. What is the first number that does not have this property?"
   ]
  },
  {
   "cell_type": "code",
   "execution_count": 1,
   "metadata": {},
   "outputs": [],
   "source": [
    "import itertools"
   ]
  },
  {
   "cell_type": "code",
   "execution_count": 2,
   "metadata": {},
   "outputs": [],
   "source": [
    "data = [int(x) for x in open(\"input.txt\").readlines()]"
   ]
  },
  {
   "cell_type": "code",
   "execution_count": 26,
   "metadata": {},
   "outputs": [],
   "source": [
    "# data"
   ]
  },
  {
   "cell_type": "code",
   "execution_count": 11,
   "metadata": {},
   "outputs": [],
   "source": [
    "index_1 = 0\n",
    "index_2 = 25\n",
    "current_25 = data[index_1:index_2]\n",
    "next_number = data[index_2]\n",
    "sum_combinations = [seq for seq in itertools.combinations(current_25, 2) if sum(seq) == next_number]\n",
    "while len(sum_combinations)  > 0:\n",
    "    index_1 += 1\n",
    "    index_2 += 1\n",
    "    current_25 = data[index_1:index_2]\n",
    "    next_number = data[index_2]\n",
    "    sum_combinations = [seq for seq in itertools.combinations(current_25, 2) if sum(seq) == next_number]"
   ]
  },
  {
   "cell_type": "code",
   "execution_count": 14,
   "metadata": {},
   "outputs": [
    {
     "name": "stdout",
     "output_type": "stream",
     "text": [
      "The first number that is a not a sum of any two numbers in the previous 25 is 556543474.\n"
     ]
    }
   ],
   "source": [
    "print(f\"The first number that is a not a sum of any two numbers in the previous 25 is {next_number}.\")"
   ]
  },
  {
   "cell_type": "markdown",
   "metadata": {},
   "source": [
    "## Part 2"
   ]
  },
  {
   "cell_type": "markdown",
   "metadata": {},
   "source": [
    "The final step in breaking the XMAS encryption relies on the invalid number you just found: you must find a contiguous set of at least two numbers in your list which sum to the invalid number from step 1.\n",
    "\n",
    "To find the encryption weakness, add together the smallest and largest number in this contiguous range; in this example, these are 15 and 47, producing 62."
   ]
  },
  {
   "cell_type": "code",
   "execution_count": 20,
   "metadata": {},
   "outputs": [],
   "source": [
    "for i in range(2, len(data)):\n",
    "    index_1 = 0\n",
    "    index_2 = index_1 + i\n",
    "    while index_2 < len(data):\n",
    "        contiguous_sum = sum(data[index_1:index_2])\n",
    "        if contiguous_sum == 556543474:\n",
    "            answer_list = data[index_1:index_2]\n",
    "        index_1 += 1\n",
    "        index_2 += 1"
   ]
  },
  {
   "cell_type": "code",
   "execution_count": 22,
   "metadata": {},
   "outputs": [],
   "source": [
    "part_2_answer = min(answer_list) + max(answer_list)"
   ]
  },
  {
   "cell_type": "code",
   "execution_count": 25,
   "metadata": {},
   "outputs": [
    {
     "name": "stdout",
     "output_type": "stream",
     "text": [
      "The lowest number in the contiguous sequence is 20542576 and the highest number is 55553796, \n",
      "making the answer 76096372.\n"
     ]
    }
   ],
   "source": [
    "print(f\"The lowest number in the contiguous sequence is {min(answer_list)} and the highest number is {max(answer_list)}, \\nmaking the answer {part_2_answer}.\")"
   ]
  },
  {
   "cell_type": "code",
   "execution_count": null,
   "metadata": {},
   "outputs": [],
   "source": []
  }
 ],
 "metadata": {
  "kernelspec": {
   "display_name": "Python 3",
   "language": "python",
   "name": "python3"
  },
  "language_info": {
   "codemirror_mode": {
    "name": "ipython",
    "version": 3
   },
   "file_extension": ".py",
   "mimetype": "text/x-python",
   "name": "python",
   "nbconvert_exporter": "python",
   "pygments_lexer": "ipython3",
   "version": "3.6.10"
  }
 },
 "nbformat": 4,
 "nbformat_minor": 2
}
