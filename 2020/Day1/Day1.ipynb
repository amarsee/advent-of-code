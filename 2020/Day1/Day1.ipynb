{
 "cells": [
  {
   "cell_type": "markdown",
   "metadata": {},
   "source": [
    "Before you leave, the Elves in accounting just need you to fix your expense report (your puzzle input); apparently, something isn't quite adding up.\n",
    "\n",
    "Specifically, they need you to find the two entries that sum to 2020 and then multiply those two numbers together."
   ]
  },
  {
   "cell_type": "code",
   "execution_count": 9,
   "metadata": {},
   "outputs": [],
   "source": [
    "import itertools\n"
   ]
  },
  {
   "cell_type": "code",
   "execution_count": 10,
   "metadata": {},
   "outputs": [],
   "source": [
    "data = [int(x) for x in open(\"input.txt\").readlines()]"
   ]
  },
  {
   "cell_type": "markdown",
   "metadata": {},
   "source": [
    "## Part 1"
   ]
  },
  {
   "cell_type": "code",
   "execution_count": 13,
   "metadata": {},
   "outputs": [
    {
     "name": "stdout",
     "output_type": "stream",
     "text": [
      "Number 1 is: 1018\n",
      "Number 2 is: 1002\n",
      "Multiplied is: 1020036\n",
      "Number 1 is: 1002\n",
      "Number 2 is: 1018\n",
      "Multiplied is: 1020036\n"
     ]
    }
   ],
   "source": [
    "for num in data:\n",
    "    for num2 in data[1:]:\n",
    "        if num + num2 == 2020:\n",
    "            print(f\"Number 1 is: {num}\")\n",
    "            print(f\"Number 2 is: {num2}\")\n",
    "            print(f\"Multiplied is: {num * num2}\")\n",
    "            break"
   ]
  },
  {
   "cell_type": "markdown",
   "metadata": {},
   "source": [
    "## Part 2"
   ]
  },
  {
   "cell_type": "code",
   "execution_count": 15,
   "metadata": {},
   "outputs": [
    {
     "name": "stdout",
     "output_type": "stream",
     "text": [
      "Number 1 is: 522\n",
      "Number 2 is: 855\n",
      "Number 3 is: 643\n",
      "Multiplied is: 286977330\n",
      "Number 1 is: 522\n",
      "Number 2 is: 643\n",
      "Number 3 is: 855\n",
      "Multiplied is: 286977330\n",
      "Number 1 is: 855\n",
      "Number 2 is: 522\n",
      "Number 3 is: 643\n",
      "Multiplied is: 286977330\n",
      "Number 1 is: 855\n",
      "Number 2 is: 643\n",
      "Number 3 is: 522\n",
      "Multiplied is: 286977330\n",
      "Number 1 is: 643\n",
      "Number 2 is: 522\n",
      "Number 3 is: 855\n",
      "Multiplied is: 286977330\n",
      "Number 1 is: 643\n",
      "Number 2 is: 855\n",
      "Number 3 is: 522\n",
      "Multiplied is: 286977330\n"
     ]
    }
   ],
   "source": [
    "for num in data:\n",
    "    for num2 in data[1:]:\n",
    "        for num3 in data[2:]:\n",
    "            if num + num2 + num3 == 2020:\n",
    "                print(f\"Number 1 is: {num}\")\n",
    "                print(f\"Number 2 is: {num2}\")\n",
    "                print(f\"Number 3 is: {num3}\")\n",
    "                print(f\"Multiplied is: {num * num2 * num3}\")\n",
    "                break"
   ]
  },
  {
   "cell_type": "code",
   "execution_count": null,
   "metadata": {},
   "outputs": [],
   "source": []
  }
 ],
 "metadata": {
  "kernelspec": {
   "display_name": "Python 3",
   "language": "python",
   "name": "python3"
  },
  "language_info": {
   "codemirror_mode": {
    "name": "ipython",
    "version": 3
   },
   "file_extension": ".py",
   "mimetype": "text/x-python",
   "name": "python",
   "nbconvert_exporter": "python",
   "pygments_lexer": "ipython3",
   "version": "3.6.10"
  }
 },
 "nbformat": 4,
 "nbformat_minor": 2
}
