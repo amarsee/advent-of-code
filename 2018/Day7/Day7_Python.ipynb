{
 "cells": [
  {
   "cell_type": "markdown",
   "metadata": {},
   "source": [
    "## Part 1"
   ]
  },
  {
   "cell_type": "markdown",
   "metadata": {},
   "source": [
    "In what order should the steps in your instructions be completed?"
   ]
  },
  {
   "cell_type": "code",
   "execution_count": 107,
   "metadata": {},
   "outputs": [],
   "source": [
    "import numpy as np\n",
    "import pandas as pd\n",
    "import re"
   ]
  },
  {
   "cell_type": "code",
   "execution_count": 108,
   "metadata": {},
   "outputs": [],
   "source": [
    "data = [x for x in open(\"input.txt\").read().splitlines()]"
   ]
  },
  {
   "cell_type": "code",
   "execution_count": 109,
   "metadata": {},
   "outputs": [],
   "source": [
    "letters = [re.findall(r\"\\b[a-zA-Z]\\b\", entry) for entry in data]\n",
    "first_letters = [entry[0] for entry in letters]\n",
    "second_letters = [entry[1] for entry in letters]"
   ]
  },
  {
   "cell_type": "code",
   "execution_count": 110,
   "metadata": {},
   "outputs": [],
   "source": [
    "for i in range(0, len(letters) - 1):\n",
    "    if first_letters[i] not in second_letters:\n",
    "        start_letter = first_letters[i]"
   ]
  },
  {
   "cell_type": "code",
   "execution_count": 120,
   "metadata": {},
   "outputs": [
    {
     "name": "stdout",
     "output_type": "stream",
     "text": [
      "['D', 'Z']\n",
      "D\n",
      "['H', 'J', 'N', 'S', 'Z']\n",
      "H\n",
      "['F', 'J', 'N', 'S', 'Z']\n",
      "F\n",
      "['J', 'N', 'S', 'Z']\n",
      "J\n",
      "['A', 'C', 'E', 'N', 'P', 'S', 'Z']\n",
      "A\n",
      "['C', 'E', 'N', 'P', 'S', 'W', 'Z']\n",
      "C\n",
      "['E', 'N', 'P', 'Q', 'S', 'W', 'Z']\n",
      "E\n",
      "['N', 'P', 'Q', 'S', 'W', 'Z']\n",
      "N\n",
      "['P', 'Q', 'S', 'W', 'Z']\n",
      "P\n",
      "['Q', 'S', 'W', 'Z']\n",
      "Q\n",
      "['S', 'W', 'Z']\n",
      "S\n",
      "['W', 'Z']\n",
      "W\n",
      "['Z']\n",
      "Z\n"
     ]
    }
   ],
   "source": [
    "fin_str = start_letter\n",
    "next_lets = []\n",
    "nchar = start_letter\n",
    "used_lets = [start_letter]\n",
    "while True:\n",
    "#for k in range(0,101):\n",
    "    #nchar = start_letter\n",
    "    #nlist = first_letters\n",
    "    next_inds = [i for i, ltr in enumerate(first_letters) if ltr == nchar]\n",
    "    for j in range(0,len(next_inds)):\n",
    "        if second_letters[next_inds[j]] not in next_lets and second_letters[next_inds[j]] not in used_lets:\n",
    "            next_lets.append(second_letters[next_inds[j]])\n",
    "    next_lets.sort()\n",
    "    print(next_lets)\n",
    "    nchar = next_lets[0]\n",
    "    fin_str += nchar\n",
    "    nvals = [value for value in next_lets if value != nchar]\n",
    "    used_lets.append(nchar)\n",
    "    #next_lets.pop(0)\n",
    "    next_lets = nvals\n",
    "    print(nchar)\n",
    "    if not next_lets:\n",
    "        break"
   ]
  },
  {
   "cell_type": "code",
   "execution_count": 121,
   "metadata": {},
   "outputs": [
    {
     "data": {
      "text/plain": [
       "'ODHFJACENPQSWZ'"
      ]
     },
     "execution_count": 121,
     "metadata": {},
     "output_type": "execute_result"
    }
   ],
   "source": [
    "fin_str"
   ]
  },
  {
   "cell_type": "code",
   "execution_count": 45,
   "metadata": {},
   "outputs": [],
   "source": [
    "next_inds = [i for i, ltr in enumerate(first_letters) if ltr == nchar]\n",
    "for ind in next_inds:\n",
    "    next_lets.append(second_letters[ind])\n",
    "    next_lets.sort()"
   ]
  },
  {
   "cell_type": "code",
   "execution_count": 94,
   "metadata": {},
   "outputs": [
    {
     "data": {
      "text/plain": [
       "'OHFJACEEFFHFHFHFNFHFNFHFNFHFNFHFNFHFPEFHFNFHFNFHFPEFHFNFHFNFHFQFHFNFHFQFHFNFHFQFHFNFHFQFHFNFHFQFHFNFHF'"
      ]
     },
     "execution_count": 94,
     "metadata": {},
     "output_type": "execute_result"
    }
   ],
   "source": [
    "fin_str"
   ]
  },
  {
   "cell_type": "code",
   "execution_count": 16,
   "metadata": {},
   "outputs": [
    {
     "data": {
      "text/plain": [
       "'O'"
      ]
     },
     "execution_count": 16,
     "metadata": {},
     "output_type": "execute_result"
    }
   ],
   "source": [
    "start_letter"
   ]
  },
  {
   "cell_type": "code",
   "execution_count": null,
   "metadata": {},
   "outputs": [],
   "source": []
  },
  {
   "cell_type": "code",
   "execution_count": 8,
   "metadata": {},
   "outputs": [
    {
     "data": {
      "text/plain": [
       "101"
      ]
     },
     "execution_count": 8,
     "metadata": {},
     "output_type": "execute_result"
    }
   ],
   "source": [
    "len(letters)"
   ]
  },
  {
   "cell_type": "code",
   "execution_count": 10,
   "metadata": {},
   "outputs": [
    {
     "data": {
      "text/plain": [
       "'P'"
      ]
     },
     "execution_count": 10,
     "metadata": {},
     "output_type": "execute_result"
    }
   ],
   "source": [
    "letters[1][1]"
   ]
  }
 ],
 "metadata": {
  "kernelspec": {
   "display_name": "Python 3",
   "language": "python",
   "name": "python3"
  },
  "language_info": {
   "codemirror_mode": {
    "name": "ipython",
    "version": 3
   },
   "file_extension": ".py",
   "mimetype": "text/x-python",
   "name": "python",
   "nbconvert_exporter": "python",
   "pygments_lexer": "ipython3",
   "version": "3.6.5"
  }
 },
 "nbformat": 4,
 "nbformat_minor": 2
}
