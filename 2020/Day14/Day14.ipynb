{
 "cells": [
  {
   "cell_type": "markdown",
   "metadata": {},
   "source": [
    "## Part 1"
   ]
  },
  {
   "cell_type": "markdown",
   "metadata": {},
   "source": [
    "To initialize your ferry's docking program, you need the sum of all values left in memory after the initialization program completes. (The entire 36-bit address space begins initialized to the value 0 at every address.) In the above example, only two values in memory are not zero - 101 (at address 7) and 64 (at address 8) - producing a sum of 165.\n",
    "\n",
    "Execute the initialization program. What is the sum of all values left in memory after it completes?"
   ]
  },
  {
   "cell_type": "code",
   "execution_count": 1,
   "metadata": {},
   "outputs": [],
   "source": [
    "import itertools\n",
    "import re"
   ]
  },
  {
   "cell_type": "code",
   "execution_count": 2,
   "metadata": {},
   "outputs": [],
   "source": [
    "data = [re.sub(r'\\n', '', x) for x in open(\"input.txt\").readlines()]"
   ]
  },
  {
   "cell_type": "code",
   "execution_count": 30,
   "metadata": {},
   "outputs": [],
   "source": [
    "# data"
   ]
  },
  {
   "cell_type": "code",
   "execution_count": 28,
   "metadata": {},
   "outputs": [],
   "source": [
    "part_1_dict = {}\n",
    "current_mask = \"\"\n",
    "for line in data:\n",
    "    if line[:4] == \"mask\":\n",
    "        current_mask = re.findall(r\"\\w+$\", line)[0]\n",
    "    else:\n",
    "        nums = re.findall(r\"\\d+\", line)\n",
    "        num_36_bit = list('{:036b}'.format(int(nums[1])))\n",
    "        for ind, char in enumerate(num_36_bit):\n",
    "            if current_mask[ind] == \"0\":\n",
    "                num_36_bit[ind] = \"0\"\n",
    "            elif current_mask[ind] == \"1\":\n",
    "                num_36_bit[ind] = \"1\"\n",
    "        new_num_36_bit = \"\".join(num_36_bit)\n",
    "        part_1_dict[nums[0]] = int(new_num_36_bit, 2)"
   ]
  },
  {
   "cell_type": "code",
   "execution_count": 33,
   "metadata": {},
   "outputs": [
    {
     "name": "stdout",
     "output_type": "stream",
     "text": [
      "The answer to Part 1 is 11501064782628.\n"
     ]
    }
   ],
   "source": [
    "part_1 = sum(part_1_dict.values())\n",
    "print(f\"The answer to Part 1 is {part_1}.\")"
   ]
  },
  {
   "cell_type": "code",
   "execution_count": null,
   "metadata": {},
   "outputs": [],
   "source": []
  }
 ],
 "metadata": {
  "kernelspec": {
   "display_name": "Python 3",
   "language": "python",
   "name": "python3"
  },
  "language_info": {
   "codemirror_mode": {
    "name": "ipython",
    "version": 3
   },
   "file_extension": ".py",
   "mimetype": "text/x-python",
   "name": "python",
   "nbconvert_exporter": "python",
   "pygments_lexer": "ipython3",
   "version": "3.6.10"
  }
 },
 "nbformat": 4,
 "nbformat_minor": 2
}
