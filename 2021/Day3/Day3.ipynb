{
 "cells": [
  {
   "cell_type": "code",
   "execution_count": 1,
   "id": "5ae7720f",
   "metadata": {},
   "outputs": [],
   "source": [
    "import itertools\n",
    "import pandas as pd"
   ]
  },
  {
   "cell_type": "markdown",
   "id": "09c3c23c",
   "metadata": {},
   "source": [
    "## Part 1\n"
   ]
  },
  {
   "cell_type": "markdown",
   "id": "7a8944b2",
   "metadata": {},
   "source": [
    "- Use the binary numbers in your diagnostic report to calculate the gamma rate and epsilon rate, then multiply them together\n",
    "- You need to use the binary numbers in the diagnostic report to generate two new binary numbers (called the gamma rate and the epsilon rate). The power consumption can then be found by multiplying the gamma rate by the epsilon rate.\n",
    "\n",
    "- Each bit in the gamma rate can be determined by finding the most common bit in the corresponding position of all numbers in the diagnostic report."
   ]
  },
  {
   "cell_type": "code",
   "execution_count": 7,
   "id": "b2458f95",
   "metadata": {},
   "outputs": [],
   "source": [
    "data = [x.strip() for x in open(\"input.txt\").readlines()]"
   ]
  },
  {
   "cell_type": "code",
   "execution_count": 9,
   "id": "93076952",
   "metadata": {},
   "outputs": [],
   "source": [
    "df = pd.DataFrame({\n",
    "    'input_col': data\n",
    "})"
   ]
  },
  {
   "cell_type": "code",
   "execution_count": 15,
   "id": "c2c151d1",
   "metadata": {},
   "outputs": [],
   "source": [
    "df_split = df['input_col'].apply(lambda x: pd.Series(list(x))) # Turn digits into columns"
   ]
  },
  {
   "cell_type": "code",
   "execution_count": 24,
   "id": "ac0a5f21",
   "metadata": {},
   "outputs": [],
   "source": [
    "split_counts = df_split.apply(lambda x: x.value_counts()) # Count of each digit"
   ]
  },
  {
   "cell_type": "code",
   "execution_count": 27,
   "id": "77e574b3",
   "metadata": {},
   "outputs": [],
   "source": [
    "least_common = split_counts.apply(lambda x: x.idxmin()) # Least common"
   ]
  },
  {
   "cell_type": "code",
   "execution_count": 29,
   "id": "d42681e7",
   "metadata": {},
   "outputs": [],
   "source": [
    "most_common = split_counts.apply(lambda x: x.idxmax())# Most common"
   ]
  },
  {
   "cell_type": "code",
   "execution_count": 35,
   "id": "507b3438",
   "metadata": {},
   "outputs": [],
   "source": [
    "output_p1 = int(least_common.str.cat(), base = 2) * int(most_common.str.cat(), base = 2)"
   ]
  },
  {
   "cell_type": "code",
   "execution_count": 36,
   "id": "b5296a3e",
   "metadata": {},
   "outputs": [
    {
     "name": "stdout",
     "output_type": "stream",
     "text": [
      "The output of Part 1 is 693486.\n"
     ]
    }
   ],
   "source": [
    "print(f\"The output of Part 1 is {output_p1}.\")"
   ]
  },
  {
   "cell_type": "markdown",
   "id": "1c98039b",
   "metadata": {},
   "source": [
    "## Part 2 "
   ]
  },
  {
   "cell_type": "markdown",
   "id": "fc6d92fb",
   "metadata": {},
   "source": [
    "- Keep only numbers selected by the bit criteria for the type of rating value for which you are searching. Discard numbers which do not match the bit criteria.\n",
    "    - If you only have one number left, stop; this is the rating value for which you are searching.\n",
    "    - Otherwise, repeat the process, considering the next bit to the right.\n",
    "- The bit criteria depends on which type of rating value you want to find:\n",
    "\n",
    "    - To find oxygen generator rating, determine the most common value (0 or 1) in the current bit position, and keep only numbers with that bit in that position. If 0 and 1 are equally common, keep values with a 1 in the position being considered.\n",
    "    - To find CO2 scrubber rating, determine the least common value (0 or 1) in the current bit position, and keep only numbers with that bit in that position. If 0 and 1 are equally common, keep values with a 0 in the position being considered."
   ]
  },
  {
   "cell_type": "code",
   "execution_count": 106,
   "id": "a75bd052",
   "metadata": {},
   "outputs": [],
   "source": [
    "# oxygen (most common)\n",
    "oxygen_rating = df_split.copy()\n",
    "char_pos = 0\n",
    "while oxygen_rating.shape[0] > 1:\n",
    "    # Take the most common for that column and filter for value\n",
    "    most_common_char = oxygen_rating[char_pos].value_counts().idxmax()\n",
    "    oxygen_rating = oxygen_rating.loc[oxygen_rating[char_pos] == most_common_char]\n",
    "    char_pos += 1"
   ]
  },
  {
   "cell_type": "code",
   "execution_count": 107,
   "id": "6edc1de2",
   "metadata": {},
   "outputs": [],
   "source": [
    "# CO2 (Least common)\n",
    "co2_rating = df_split.copy()\n",
    "char_pos = 0\n",
    "while co2_rating.shape[0] > 1:\n",
    "    least_common_char = co2_rating[char_pos].value_counts().idxmin()\n",
    "    if len(co2_rating[char_pos].value_counts()) > 1:\n",
    "        if co2_rating[char_pos].value_counts()[0] == co2_rating[char_pos].value_counts()[1]:\n",
    "            least_common_char = '0'\n",
    "    co2_rating = co2_rating.loc[co2_rating[char_pos] == least_common_char]\n",
    "    char_pos += 1"
   ]
  },
  {
   "cell_type": "code",
   "execution_count": 101,
   "id": "2b514b90",
   "metadata": {},
   "outputs": [
    {
     "data": {
      "text/html": [
       "<div>\n",
       "<style scoped>\n",
       "    .dataframe tbody tr th:only-of-type {\n",
       "        vertical-align: middle;\n",
       "    }\n",
       "\n",
       "    .dataframe tbody tr th {\n",
       "        vertical-align: top;\n",
       "    }\n",
       "\n",
       "    .dataframe thead th {\n",
       "        text-align: right;\n",
       "    }\n",
       "</style>\n",
       "<table border=\"1\" class=\"dataframe\">\n",
       "  <thead>\n",
       "    <tr style=\"text-align: right;\">\n",
       "      <th></th>\n",
       "      <th>0</th>\n",
       "      <th>1</th>\n",
       "      <th>2</th>\n",
       "      <th>3</th>\n",
       "      <th>4</th>\n",
       "      <th>5</th>\n",
       "      <th>6</th>\n",
       "      <th>7</th>\n",
       "      <th>8</th>\n",
       "      <th>9</th>\n",
       "      <th>10</th>\n",
       "      <th>11</th>\n",
       "    </tr>\n",
       "  </thead>\n",
       "  <tbody>\n",
       "    <tr>\n",
       "      <th>376</th>\n",
       "      <td>0</td>\n",
       "      <td>0</td>\n",
       "      <td>1</td>\n",
       "      <td>1</td>\n",
       "      <td>1</td>\n",
       "      <td>0</td>\n",
       "      <td>1</td>\n",
       "      <td>0</td>\n",
       "      <td>0</td>\n",
       "      <td>1</td>\n",
       "      <td>0</td>\n",
       "      <td>1</td>\n",
       "    </tr>\n",
       "  </tbody>\n",
       "</table>\n",
       "</div>"
      ],
      "text/plain": [
       "    0  1  2  3  4  5  6  7  8  9  10 11\n",
       "376  0  0  1  1  1  0  1  0  0  1  0  1"
      ]
     },
     "execution_count": 101,
     "metadata": {},
     "output_type": "execute_result"
    }
   ],
   "source": [
    "oxygen_rating"
   ]
  },
  {
   "cell_type": "code",
   "execution_count": 102,
   "id": "19eebd9a",
   "metadata": {},
   "outputs": [
    {
     "data": {
      "text/html": [
       "<div>\n",
       "<style scoped>\n",
       "    .dataframe tbody tr th:only-of-type {\n",
       "        vertical-align: middle;\n",
       "    }\n",
       "\n",
       "    .dataframe tbody tr th {\n",
       "        vertical-align: top;\n",
       "    }\n",
       "\n",
       "    .dataframe thead th {\n",
       "        text-align: right;\n",
       "    }\n",
       "</style>\n",
       "<table border=\"1\" class=\"dataframe\">\n",
       "  <thead>\n",
       "    <tr style=\"text-align: right;\">\n",
       "      <th></th>\n",
       "      <th>0</th>\n",
       "      <th>1</th>\n",
       "      <th>2</th>\n",
       "      <th>3</th>\n",
       "      <th>4</th>\n",
       "      <th>5</th>\n",
       "      <th>6</th>\n",
       "      <th>7</th>\n",
       "      <th>8</th>\n",
       "      <th>9</th>\n",
       "      <th>10</th>\n",
       "      <th>11</th>\n",
       "    </tr>\n",
       "  </thead>\n",
       "  <tbody>\n",
       "    <tr>\n",
       "      <th>350</th>\n",
       "      <td>1</td>\n",
       "      <td>1</td>\n",
       "      <td>1</td>\n",
       "      <td>0</td>\n",
       "      <td>0</td>\n",
       "      <td>0</td>\n",
       "      <td>1</td>\n",
       "      <td>0</td>\n",
       "      <td>0</td>\n",
       "      <td>1</td>\n",
       "      <td>1</td>\n",
       "      <td>0</td>\n",
       "    </tr>\n",
       "  </tbody>\n",
       "</table>\n",
       "</div>"
      ],
      "text/plain": [
       "    0  1  2  3  4  5  6  7  8  9  10 11\n",
       "350  1  1  1  0  0  0  1  0  0  1  1  0"
      ]
     },
     "execution_count": 102,
     "metadata": {},
     "output_type": "execute_result"
    }
   ],
   "source": [
    "co2_rating"
   ]
  },
  {
   "cell_type": "code",
   "execution_count": 103,
   "id": "0f8a9b61",
   "metadata": {},
   "outputs": [],
   "source": [
    "co2_binary = co2_rating.iloc[0,:].str.cat()\n",
    "oxygen_binary = oxygen_rating.iloc[0,:].str.cat()"
   ]
  },
  {
   "cell_type": "code",
   "execution_count": 104,
   "id": "6dc2a757",
   "metadata": {},
   "outputs": [],
   "source": [
    "output_p2 = int(co2_binary, base = 2) * int(oxygen_binary, base = 2)"
   ]
  },
  {
   "cell_type": "code",
   "execution_count": 105,
   "id": "978fee4e",
   "metadata": {},
   "outputs": [
    {
     "name": "stdout",
     "output_type": "stream",
     "text": [
      "The output of Part 2 is 3379326.\n"
     ]
    }
   ],
   "source": [
    "print(f\"The output of Part 2 is {output_p2}.\")"
   ]
  }
 ],
 "metadata": {
  "kernelspec": {
   "display_name": "Python 3",
   "language": "python",
   "name": "python3"
  },
  "language_info": {
   "codemirror_mode": {
    "name": "ipython",
    "version": 3
   },
   "file_extension": ".py",
   "mimetype": "text/x-python",
   "name": "python",
   "nbconvert_exporter": "python",
   "pygments_lexer": "ipython3",
   "version": "3.8.8"
  }
 },
 "nbformat": 4,
 "nbformat_minor": 5
}
