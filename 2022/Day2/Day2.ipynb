{
 "cells": [
  {
   "cell_type": "code",
   "execution_count": 1,
   "id": "c9d33114",
   "metadata": {},
   "outputs": [],
   "source": [
    "import pandas as pd\n",
    "import itertools"
   ]
  },
  {
   "cell_type": "markdown",
   "id": "dd881c52",
   "metadata": {},
   "source": [
    "# Part 1\n",
    "- What would your total score be if everything goes exactly according to your strategy guide?"
   ]
  },
  {
   "cell_type": "code",
   "execution_count": 2,
   "id": "772abc07",
   "metadata": {},
   "outputs": [],
   "source": [
    "data = [x for x in open(\"input.txt\").read().splitlines()]"
   ]
  },
  {
   "cell_type": "code",
   "execution_count": 13,
   "id": "1f540caf",
   "metadata": {},
   "outputs": [],
   "source": [
    "# data"
   ]
  },
  {
   "cell_type": "code",
   "execution_count": 4,
   "id": "8900dc66",
   "metadata": {},
   "outputs": [],
   "source": [
    "# Rock: A, X (1)\n",
    "# Paper: B, Y (2)\n",
    "# Scissors: C, Z (3)\n",
    "\n",
    "# Win = 6, Draw = 3, Loss = 0\n",
    "score_dict = {\n",
    "    'A X': 4, # Choose rock (1) and tie (3) with rock\n",
    "    'A Y': 8, # Choose paper (2) and beat (6) rock\n",
    "    'A Z': 3, # Choose scissors (3) and lose (0) to rock\n",
    "    'B X': 1, # Choose rock (1) and lose (0) to paper\n",
    "    'B Y': 5, # Choose paper (2) and tie (3) paper\n",
    "    'B Z': 9, # Choose scissors (3) and beat (6) paper\n",
    "    'C X': 7, # Choose rock (1) and beat (6) paper\n",
    "    'C Y': 2, # Choose paper (2) and lose (0) to scissors\n",
    "    'C Z': 6 # Choose scissors (3) and tie (3) scissors\n",
    "}"
   ]
  },
  {
   "cell_type": "code",
   "execution_count": 5,
   "id": "98888d07",
   "metadata": {},
   "outputs": [],
   "source": [
    "round_scores = [score_dict[match_pair] for match_pair in data]"
   ]
  },
  {
   "cell_type": "code",
   "execution_count": 8,
   "id": "12836ad1",
   "metadata": {},
   "outputs": [
    {
     "name": "stdout",
     "output_type": "stream",
     "text": [
      "The total score is 12740.\n"
     ]
    }
   ],
   "source": [
    "print(f\"The total score is {sum(round_scores)}.\")"
   ]
  },
  {
   "cell_type": "markdown",
   "id": "831166d9",
   "metadata": {},
   "source": [
    "# Part 2\n",
    "- the second column says how the round needs to end: X means you need to lose, Y means you need to end the round in a draw, and Z means you need to win.\n",
    "- Following the Elf's instructions for the second column, what would your total score be if everything goes exactly according to your strategy guide?"
   ]
  },
  {
   "cell_type": "code",
   "execution_count": 9,
   "id": "60dd5206",
   "metadata": {},
   "outputs": [],
   "source": [
    "score_dict_2 = {\n",
    "    'A X': 3, # Choose scissors (3) and lose (0) with rock\n",
    "    'A Y': 4, # Choose rock (1) and tie (3) rock\n",
    "    'A Z': 8, # Choose paper (2) and win (6) to rock\n",
    "    \n",
    "    'B X': 1, # Choose rock (1) and lose (0) to paper\n",
    "    'B Y': 5, # Choose paper (2) and tie (3) paper\n",
    "    'B Z': 9, # Choose scissors (3) and win (6) paper\n",
    "    \n",
    "    'C X': 2, # Choose paper (2) and lose (0) to scissors\n",
    "    'C Y': 6, # Choose scissors (3) and tie (3) to scissors\n",
    "    'C Z': 7 # Choose rock (1) and win (6) scissors\n",
    "}"
   ]
  },
  {
   "cell_type": "code",
   "execution_count": 11,
   "id": "7f7e06f6",
   "metadata": {},
   "outputs": [],
   "source": [
    "round_scores_2 = [score_dict_2[match_pair] for match_pair in data]"
   ]
  },
  {
   "cell_type": "code",
   "execution_count": 12,
   "id": "427d3bca",
   "metadata": {},
   "outputs": [
    {
     "name": "stdout",
     "output_type": "stream",
     "text": [
      "The total score for Part 2 is 11980.\n"
     ]
    }
   ],
   "source": [
    "print(f\"The total score for Part 2 is {sum(round_scores_2)}.\")"
   ]
  },
  {
   "cell_type": "code",
   "execution_count": null,
   "id": "f0e50190",
   "metadata": {},
   "outputs": [],
   "source": []
  }
 ],
 "metadata": {
  "kernelspec": {
   "display_name": "Python 3",
   "language": "python",
   "name": "python3"
  },
  "language_info": {
   "codemirror_mode": {
    "name": "ipython",
    "version": 3
   },
   "file_extension": ".py",
   "mimetype": "text/x-python",
   "name": "python",
   "nbconvert_exporter": "python",
   "pygments_lexer": "ipython3",
   "version": "3.8.8"
  }
 },
 "nbformat": 4,
 "nbformat_minor": 5
}
