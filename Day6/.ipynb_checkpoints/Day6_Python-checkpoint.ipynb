{
 "cells": [
  {
   "cell_type": "markdown",
   "metadata": {},
   "source": [
    "## Part 1"
   ]
  },
  {
   "cell_type": "code",
   "execution_count": 173,
   "metadata": {},
   "outputs": [],
   "source": [
    "import numpy as np\n",
    "import pandas as pd\n",
    "import re\n",
    "from scipy.spatial.distance import cdist"
   ]
  },
  {
   "cell_type": "code",
   "execution_count": 174,
   "metadata": {},
   "outputs": [],
   "source": [
    "data = [x for x in open(\"input.txt\").read().splitlines()]"
   ]
  },
  {
   "cell_type": "code",
   "execution_count": 175,
   "metadata": {},
   "outputs": [],
   "source": [
    "coord_str = [re.findall(r'\\d+', entry) for entry in data]"
   ]
  },
  {
   "cell_type": "code",
   "execution_count": 176,
   "metadata": {},
   "outputs": [],
   "source": [
    "coords = [[int(x) for x in lst] for lst in coord_str]"
   ]
  },
  {
   "cell_type": "code",
   "execution_count": 177,
   "metadata": {},
   "outputs": [],
   "source": [
    "coord_arr = np.array(coords)\n"
   ]
  },
  {
   "cell_type": "code",
   "execution_count": 178,
   "metadata": {},
   "outputs": [],
   "source": [
    "base_arr = np.zeros((coord_arr.max()+1,coord_arr.max()+1))\n"
   ]
  },
  {
   "cell_type": "code",
   "execution_count": 181,
   "metadata": {},
   "outputs": [
    {
     "data": {
      "text/plain": [
       "array([[0., 0., 0., ..., 0., 0., 0.],\n",
       "       [0., 0., 0., ..., 0., 0., 0.],\n",
       "       [0., 0., 0., ..., 0., 0., 0.],\n",
       "       ...,\n",
       "       [0., 0., 0., ..., 0., 0., 0.],\n",
       "       [0., 0., 0., ..., 0., 0., 0.],\n",
       "       [0., 0., 0., ..., 0., 0., 0.]])"
      ]
     },
     "execution_count": 181,
     "metadata": {},
     "output_type": "execute_result"
    }
   ],
   "source": [
    "part2_arr"
   ]
  },
  {
   "cell_type": "code",
   "execution_count": 182,
   "metadata": {},
   "outputs": [],
   "source": [
    "for i in range(0, len(coords)-1):\n",
    "    x = coords[i][1]\n",
    "    y = coords[i][0]\n",
    "    base_arr[x][y] = i + 1\n"
   ]
  },
  {
   "cell_type": "code",
   "execution_count": 184,
   "metadata": {},
   "outputs": [],
   "source": [
    "for i in range(0, len(base_arr)-1):\n",
    "    for j in range(0, len(base_arr) - 1):\n",
    "        base_coord = np.array([[i, j]])\n",
    "        m_dist = cdist(base_coord, coords, 'cityblock') # manhattan distance from point to other points\n",
    "        min_dist = np.where(m_dist == m_dist.min())\n",
    "        if len(min_dist[0]) == 1:\n",
    "            base_arr[i,j] = min_dist[1][0] +1"
   ]
  },
  {
   "cell_type": "code",
   "execution_count": 185,
   "metadata": {},
   "outputs": [],
   "source": [
    "top_row = np.unique(base_arr[0])\n",
    "last_row = np.unique(base_arr[-1])\n",
    "first_col = np.unique(base_arr[:,0])\n",
    "last_col = np.unique(base_arr[:,-1])\n",
    "inf_list = list(np.unique(np.concatenate((top_row, last_row, first_col, last_col))))"
   ]
  },
  {
   "cell_type": "code",
   "execution_count": 186,
   "metadata": {},
   "outputs": [],
   "source": [
    "area_tally = np.zeros(len(coords))\n",
    "for i in range(0, len(base_arr) - 1):\n",
    "    for j in range(0, len(base_arr) - 1):\n",
    "        num = base_arr[i][j]\n",
    "        if num not in inf_list:\n",
    "            area_tally[int(num - 1)] += 1"
   ]
  },
  {
   "cell_type": "code",
   "execution_count": 187,
   "metadata": {},
   "outputs": [
    {
     "data": {
      "text/plain": [
       "3871.0"
      ]
     },
     "execution_count": 187,
     "metadata": {},
     "output_type": "execute_result"
    }
   ],
   "source": [
    "max(area_tally)"
   ]
  },
  {
   "cell_type": "code",
   "execution_count": 188,
   "metadata": {},
   "outputs": [
    {
     "data": {
      "text/plain": [
       "60626.0"
      ]
     },
     "execution_count": 188,
     "metadata": {},
     "output_type": "execute_result"
    }
   ],
   "source": [
    "sum(area_tally)"
   ]
  },
  {
   "cell_type": "markdown",
   "metadata": {},
   "source": [
    "## Part 1 answer 3871"
   ]
  },
  {
   "cell_type": "markdown",
   "metadata": {},
   "source": [
    "# Part 2"
   ]
  },
  {
   "cell_type": "markdown",
   "metadata": {},
   "source": [
    "What is the size of the region containing all locations which have a total distance to all given coordinates of less than 10,000?"
   ]
  },
  {
   "cell_type": "code",
   "execution_count": 171,
   "metadata": {},
   "outputs": [],
   "source": [
    "# for i in range(0, len(coords)-1):\n",
    "#     x = coords[i][1]\n",
    "#     y = coords[i][0]\n",
    "#     part2_arr[x][y] = 1"
   ]
  },
  {
   "cell_type": "code",
   "execution_count": 192,
   "metadata": {},
   "outputs": [],
   "source": [
    "part2_arr = np.zeros((coord_arr.max()+1,coord_arr.max()+1))"
   ]
  },
  {
   "cell_type": "code",
   "execution_count": 193,
   "metadata": {
    "scrolled": false
   },
   "outputs": [],
   "source": [
    "for i in range(0, len(part2_arr)-1):\n",
    "    for j in range(0, len(part2_arr) - 1):\n",
    "        base_coord = np.array([[i, j]])\n",
    "        m_dist = cdist(base_coord, coords, 'cityblock') # manhattan distance from point to other points\n",
    "        sum_dist = sum(m_dist[0])\n",
    "        if sum_dist < 10000:\n",
    "            part2_arr[i,j] += 1"
   ]
  },
  {
   "cell_type": "code",
   "execution_count": 196,
   "metadata": {},
   "outputs": [
    {
     "data": {
      "text/plain": [
       "44667"
      ]
     },
     "execution_count": 196,
     "metadata": {},
     "output_type": "execute_result"
    }
   ],
   "source": [
    "len(part2_arr[part2_arr > 0])"
   ]
  },
  {
   "cell_type": "markdown",
   "metadata": {},
   "source": [
    "## Answer to Part 2 is 44,667"
   ]
  }
 ],
 "metadata": {
  "kernelspec": {
   "display_name": "Python 3",
   "language": "python",
   "name": "python3"
  },
  "language_info": {
   "codemirror_mode": {
    "name": "ipython",
    "version": 3
   },
   "file_extension": ".py",
   "mimetype": "text/x-python",
   "name": "python",
   "nbconvert_exporter": "python",
   "pygments_lexer": "ipython3",
   "version": "3.6.5"
  }
 },
 "nbformat": 4,
 "nbformat_minor": 2
}
