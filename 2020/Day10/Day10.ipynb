{
 "cells": [
  {
   "cell_type": "markdown",
   "metadata": {},
   "source": [
    "## Part 1"
   ]
  },
  {
   "cell_type": "markdown",
   "metadata": {},
   "source": [
    "Find a chain that uses all of your adapters to connect the charging outlet to your device's built-in adapter and count the joltage differences between the charging outlet, the adapters, and your device. What is the number of 1-jolt differences multiplied by the number of 3-jolt differences?"
   ]
  },
  {
   "cell_type": "code",
   "execution_count": 1,
   "metadata": {},
   "outputs": [],
   "source": [
    "import itertools\n",
    "import numpy as np"
   ]
  },
  {
   "cell_type": "code",
   "execution_count": 2,
   "metadata": {},
   "outputs": [],
   "source": [
    "data = [int(x) for x in open(\"input.txt\").readlines()]\n",
    "data.sort()"
   ]
  },
  {
   "cell_type": "code",
   "execution_count": 3,
   "metadata": {},
   "outputs": [],
   "source": [
    "part1 = []\n",
    "part1.extend(data)\n",
    "part1.append(max(data) + 3)"
   ]
  },
  {
   "cell_type": "code",
   "execution_count": 4,
   "metadata": {},
   "outputs": [],
   "source": [
    "# data"
   ]
  },
  {
   "cell_type": "code",
   "execution_count": 5,
   "metadata": {},
   "outputs": [],
   "source": [
    "class Adapter:\n",
    "  def __init__(self, current_adapter, jolt_diff_one, jolt_diff_three):\n",
    "    self.current_adapter = current_adapter\n",
    "    self.jolt_diff_one = jolt_diff_one\n",
    "    self.jolt_diff_three = jolt_diff_three\n",
    "    \n",
    "  def jolt_track(self, jolt_diff):\n",
    "    if jolt_diff == 1:\n",
    "        self.jolt_diff_one += 1\n",
    "    elif jolt_diff == 3:\n",
    "        self.jolt_diff_three += 1"
   ]
  },
  {
   "cell_type": "code",
   "execution_count": 6,
   "metadata": {},
   "outputs": [],
   "source": [
    "part_1_tracker = Adapter(0, 0, 0)\n",
    "for jolt in part1:\n",
    "    jolt_diff = jolt - part_1_tracker.current_adapter\n",
    "    part_1_tracker.jolt_track(jolt_diff)\n",
    "    part_1_tracker.current_adapter = jolt\n"
   ]
  },
  {
   "cell_type": "code",
   "execution_count": 7,
   "metadata": {},
   "outputs": [
    {
     "name": "stdout",
     "output_type": "stream",
     "text": [
      "The answer to part 1 is 2484.\n"
     ]
    }
   ],
   "source": [
    "print(f\"The answer to part 1 is {part_1_tracker.jolt_diff_one * part_1_tracker.jolt_diff_three}.\")"
   ]
  },
  {
   "cell_type": "markdown",
   "metadata": {},
   "source": [
    "## Part 2"
   ]
  },
  {
   "cell_type": "markdown",
   "metadata": {},
   "source": [
    "What is the total number of distinct ways you can arrange the adapters to connect the charging outlet to your device?"
   ]
  },
  {
   "cell_type": "code",
   "execution_count": 8,
   "metadata": {},
   "outputs": [],
   "source": [
    "class AdapterPart2:\n",
    "  def __init__(self, adapter_list):\n",
    "    self.adapter_list = adapter_list\n",
    "    \n",
    "  def valid_list(self):\n",
    "    if max(np.diff(self.adapter_list)) > 3:\n",
    "        return False\n",
    "    else:\n",
    "        return True\n",
    "#     for ind, val in enumerate(self.adapter_list):\n",
    "#         if ind+1 < len(self.adapter_list) and self.adapter_list[ind + 1] - val > 3:\n",
    "#             return False\n",
    "#     return True"
   ]
  },
  {
   "cell_type": "code",
   "execution_count": 9,
   "metadata": {},
   "outputs": [],
   "source": [
    "adapter_list = [0]\n",
    "adapter_list.extend(data)\n",
    "adapter_list.append(max(data) + 3)\n",
    "test = AdapterPart2(adapter_list)"
   ]
  },
  {
   "cell_type": "code",
   "execution_count": 10,
   "metadata": {},
   "outputs": [],
   "source": [
    "min_seq = list(range(3,175,3)) # Shortest possible sequence of data"
   ]
  },
  {
   "cell_type": "code",
   "execution_count": 11,
   "metadata": {},
   "outputs": [],
   "source": [
    "# valid_count = 0\n",
    "# for list_length in range(len(min_seq), len(data)+1):\n",
    "# #     print(size)\n",
    "#     print(f\"Iteration {list_length}\")\n",
    "# #     combination_list = [list(x) for x in itertools.combinations(data, list_length)]\n",
    "#     combination_list = list(itertools.combinations(data, list_length))\n",
    "# #     full_adapter_list = [[0] + x + [max(data) + 3] for x in combination_list]\n",
    "# #     valid_sum = sum( map(lambda x: AdapterPart2(x).valid_list(), full_adapter_list) )\n",
    "# #     valid_count += valid_sum\n",
    "#     print(f\"N Combinations: {len(combination_list)}\")\n"
   ]
  },
  {
   "cell_type": "code",
   "execution_count": 12,
   "metadata": {},
   "outputs": [],
   "source": [
    "# len(list(itertools.combinations(data, 90)))"
   ]
  },
  {
   "cell_type": "code",
   "execution_count": 13,
   "metadata": {
    "scrolled": false
   },
   "outputs": [
    {
     "data": {
      "text/plain": [
       "{0: {'valid_next_nums': array([1, 2, 3]), 'removable': False},\n",
       " 1: {'valid_next_nums': array([2, 3, 4]), 'removable': True},\n",
       " 2: {'valid_next_nums': array([3, 4]), 'removable': True},\n",
       " 3: {'valid_next_nums': array([4]), 'removable': True},\n",
       " 4: {'valid_next_nums': array([7]), 'removable': False},\n",
       " 7: {'valid_next_nums': array([10]), 'removable': False},\n",
       " 10: {'valid_next_nums': array([11, 12]), 'removable': True},\n",
       " 11: {'valid_next_nums': array([12]), 'removable': True},\n",
       " 12: {'valid_next_nums': array([15]), 'removable': False},\n",
       " 15: {'valid_next_nums': array([16, 17, 18]), 'removable': True},\n",
       " 16: {'valid_next_nums': array([17, 18]), 'removable': True},\n",
       " 17: {'valid_next_nums': array([18]), 'removable': True},\n",
       " 18: {'valid_next_nums': array([21]), 'removable': False},\n",
       " 21: {'valid_next_nums': array([22, 23, 24]), 'removable': True},\n",
       " 22: {'valid_next_nums': array([23, 24]), 'removable': True},\n",
       " 23: {'valid_next_nums': array([24]), 'removable': True},\n",
       " 24: {'valid_next_nums': array([27]), 'removable': False},\n",
       " 27: {'valid_next_nums': array([28, 29]), 'removable': True},\n",
       " 28: {'valid_next_nums': array([29]), 'removable': True},\n",
       " 29: {'valid_next_nums': array([32]), 'removable': False},\n",
       " 32: {'valid_next_nums': array([33, 34, 35]), 'removable': True},\n",
       " 33: {'valid_next_nums': array([34, 35, 36]), 'removable': True},\n",
       " 34: {'valid_next_nums': array([35, 36]), 'removable': True},\n",
       " 35: {'valid_next_nums': array([36]), 'removable': True},\n",
       " 36: {'valid_next_nums': array([39]), 'removable': False},\n",
       " 39: {'valid_next_nums': array([42]), 'removable': False},\n",
       " 42: {'valid_next_nums': array([45]), 'removable': False},\n",
       " 45: {'valid_next_nums': array([46, 47, 48]), 'removable': True},\n",
       " 46: {'valid_next_nums': array([47, 48]), 'removable': True},\n",
       " 47: {'valid_next_nums': array([48]), 'removable': True},\n",
       " 48: {'valid_next_nums': array([51]), 'removable': False},\n",
       " 51: {'valid_next_nums': array([52, 53, 54]), 'removable': True},\n",
       " 52: {'valid_next_nums': array([53, 54]), 'removable': True},\n",
       " 53: {'valid_next_nums': array([54]), 'removable': True},\n",
       " 54: {'valid_next_nums': array([57]), 'removable': False},\n",
       " 57: {'valid_next_nums': array([58, 59, 60]), 'removable': True},\n",
       " 58: {'valid_next_nums': array([59, 60]), 'removable': True},\n",
       " 59: {'valid_next_nums': array([60]), 'removable': True},\n",
       " 60: {'valid_next_nums': array([63]), 'removable': False},\n",
       " 63: {'valid_next_nums': array([64, 65]), 'removable': True},\n",
       " 64: {'valid_next_nums': array([65]), 'removable': True},\n",
       " 65: {'valid_next_nums': array([68]), 'removable': False},\n",
       " 68: {'valid_next_nums': array([69, 70]), 'removable': True},\n",
       " 69: {'valid_next_nums': array([70]), 'removable': True},\n",
       " 70: {'valid_next_nums': array([73]), 'removable': False},\n",
       " 73: {'valid_next_nums': array([74, 75]), 'removable': True},\n",
       " 74: {'valid_next_nums': array([75]), 'removable': True},\n",
       " 75: {'valid_next_nums': array([78]), 'removable': False},\n",
       " 78: {'valid_next_nums': array([79, 80, 81]), 'removable': True},\n",
       " 79: {'valid_next_nums': array([80, 81]), 'removable': True},\n",
       " 80: {'valid_next_nums': array([81]), 'removable': True},\n",
       " 81: {'valid_next_nums': array([84]), 'removable': False},\n",
       " 84: {'valid_next_nums': array([85, 86, 87]), 'removable': True},\n",
       " 85: {'valid_next_nums': array([86, 87]), 'removable': True},\n",
       " 86: {'valid_next_nums': array([87]), 'removable': True},\n",
       " 87: {'valid_next_nums': array([90]), 'removable': False},\n",
       " 90: {'valid_next_nums': array([91, 92, 93]), 'removable': True},\n",
       " 91: {'valid_next_nums': array([92, 93]), 'removable': True},\n",
       " 92: {'valid_next_nums': array([93]), 'removable': True},\n",
       " 93: {'valid_next_nums': array([96]), 'removable': False},\n",
       " 96: {'valid_next_nums': array([97, 98, 99]), 'removable': True},\n",
       " 97: {'valid_next_nums': array([ 98,  99, 100]), 'removable': True},\n",
       " 98: {'valid_next_nums': array([ 99, 100]), 'removable': True},\n",
       " 99: {'valid_next_nums': array([100]), 'removable': True},\n",
       " 100: {'valid_next_nums': array([103]), 'removable': False},\n",
       " 103: {'valid_next_nums': array([106]), 'removable': False},\n",
       " 106: {'valid_next_nums': array([109]), 'removable': False},\n",
       " 109: {'valid_next_nums': array([110, 111, 112]), 'removable': True},\n",
       " 110: {'valid_next_nums': array([111, 112, 113]), 'removable': True},\n",
       " 111: {'valid_next_nums': array([112, 113]), 'removable': True},\n",
       " 112: {'valid_next_nums': array([113]), 'removable': True},\n",
       " 113: {'valid_next_nums': array([116]), 'removable': False},\n",
       " 116: {'valid_next_nums': array([119]), 'removable': False},\n",
       " 119: {'valid_next_nums': array([120, 121, 122]), 'removable': True},\n",
       " 120: {'valid_next_nums': array([121, 122, 123]), 'removable': True},\n",
       " 121: {'valid_next_nums': array([122, 123]), 'removable': True},\n",
       " 122: {'valid_next_nums': array([123]), 'removable': True},\n",
       " 123: {'valid_next_nums': array([126]), 'removable': False},\n",
       " 126: {'valid_next_nums': array([129]), 'removable': False},\n",
       " 129: {'valid_next_nums': array([130, 131, 132]), 'removable': True},\n",
       " 130: {'valid_next_nums': array([131, 132]), 'removable': True},\n",
       " 131: {'valid_next_nums': array([132]), 'removable': True},\n",
       " 132: {'valid_next_nums': array([135]), 'removable': False},\n",
       " 135: {'valid_next_nums': array([138]), 'removable': False},\n",
       " 138: {'valid_next_nums': array([139, 140, 141]), 'removable': True},\n",
       " 139: {'valid_next_nums': array([140, 141, 142]), 'removable': True},\n",
       " 140: {'valid_next_nums': array([141, 142]), 'removable': True},\n",
       " 141: {'valid_next_nums': array([142]), 'removable': True},\n",
       " 142: {'valid_next_nums': array([145]), 'removable': False},\n",
       " 145: {'valid_next_nums': array([148]), 'removable': False},\n",
       " 148: {'valid_next_nums': array([151]), 'removable': False},\n",
       " 151: {'valid_next_nums': array([152, 153]), 'removable': True},\n",
       " 152: {'valid_next_nums': array([153]), 'removable': True},\n",
       " 153: {'valid_next_nums': array([156]), 'removable': False},\n",
       " 156: {'valid_next_nums': array([157, 158]), 'removable': True},\n",
       " 157: {'valid_next_nums': array([158]), 'removable': True},\n",
       " 158: {'valid_next_nums': array([161]), 'removable': False},\n",
       " 161: {'valid_next_nums': array([164]), 'removable': False},\n",
       " 164: {'valid_next_nums': array([165, 166, 167]), 'removable': True},\n",
       " 165: {'valid_next_nums': array([166, 167]), 'removable': True},\n",
       " 166: {'valid_next_nums': array([167]), 'removable': True},\n",
       " 167: {'valid_next_nums': array([170]), 'removable': False},\n",
       " 170: {'valid_next_nums': array([173]), 'removable': False},\n",
       " 173: {'valid_next_nums': array([174]), 'removable': False},\n",
       " 174: {'valid_next_nums': array([177]), 'removable': False},\n",
       " 177: {'valid_next_nums': array([], dtype=int64), 'removable': False}}"
      ]
     },
     "execution_count": 13,
     "metadata": {},
     "output_type": "execute_result"
    }
   ],
   "source": [
    "valid_num = {}\n",
    "removable_dict = {'removable': [], 'non_removable': []}\n",
    "preceding_len = 0\n",
    "np_data = np.array([0] + data + [max(data)+3])\n",
    "for num in np_data:\n",
    "    next_nums = np_data[np.all([[np_data > num],  [np_data - num <= 3]], axis = 0)[0]]\n",
    "    removable = not(len(next_nums) == 1 and preceding_len == 1) and num not in [0, max(data)+3]\n",
    "    valid_num[num] = {'valid_next_nums': next_nums, 'removable': removable}\n",
    "    if removable:\n",
    "        removable_dict['removable'].append(num)\n",
    "    else:\n",
    "        removable_dict['non_removable'].append(num)\n",
    "    preceding_len = len(next_nums)\n",
    "#     print(num)\n",
    "# np_data[np_data == 4]\n",
    "valid_num"
   ]
  },
  {
   "cell_type": "code",
   "execution_count": null,
   "metadata": {},
   "outputs": [],
   "source": [
    "valid_count = 0\n",
    "max_removal = len(data) + 2 - len(min_seq)\n",
    "for num_to_remove in range(max_removal):\n",
    "    num_to_choose = len(removable_dict['removable']) - num_to_remove\n",
    "#     print(num_to_choose)\n",
    "    combination_list = list(itertools.combinations(removable_dict['removable'], 32))\n",
    "    print(num_to_remove)"
   ]
  },
  {
   "cell_type": "code",
   "execution_count": 14,
   "metadata": {},
   "outputs": [
    {
     "data": {
      "text/plain": [
       "[(1,\n",
       "  2,\n",
       "  3,\n",
       "  10,\n",
       "  11,\n",
       "  15,\n",
       "  16,\n",
       "  17,\n",
       "  21,\n",
       "  22,\n",
       "  23,\n",
       "  27,\n",
       "  28,\n",
       "  32,\n",
       "  33,\n",
       "  34,\n",
       "  35,\n",
       "  45,\n",
       "  46,\n",
       "  47,\n",
       "  51,\n",
       "  52,\n",
       "  53,\n",
       "  57,\n",
       "  58,\n",
       "  59,\n",
       "  63,\n",
       "  64,\n",
       "  68,\n",
       "  69,\n",
       "  73,\n",
       "  74,\n",
       "  78,\n",
       "  79,\n",
       "  80,\n",
       "  84,\n",
       "  85,\n",
       "  86,\n",
       "  90,\n",
       "  91,\n",
       "  92,\n",
       "  96,\n",
       "  97,\n",
       "  98,\n",
       "  99,\n",
       "  109,\n",
       "  110,\n",
       "  111,\n",
       "  112,\n",
       "  119,\n",
       "  120,\n",
       "  121,\n",
       "  122,\n",
       "  129,\n",
       "  130,\n",
       "  131,\n",
       "  138,\n",
       "  139,\n",
       "  140,\n",
       "  141,\n",
       "  151,\n",
       "  152,\n",
       "  156,\n",
       "  157,\n",
       "  164,\n",
       "  165,\n",
       "  166)]"
      ]
     },
     "execution_count": 14,
     "metadata": {},
     "output_type": "execute_result"
    }
   ],
   "source": [
    "combination_list = list(itertools.combinations(removable_dict['removable'], len(removable_dict['removable'])))\n",
    "combination_list"
   ]
  },
  {
   "cell_type": "code",
   "execution_count": 30,
   "metadata": {},
   "outputs": [
    {
     "data": {
      "text/plain": [
       "48"
      ]
     },
     "execution_count": 30,
     "metadata": {},
     "output_type": "execute_result"
    }
   ],
   "source": [
    "len(data) + 2 - len(min_seq)"
   ]
  },
  {
   "cell_type": "code",
   "execution_count": 21,
   "metadata": {},
   "outputs": [
    {
     "data": {
      "text/plain": [
       "263243407684534272"
      ]
     },
     "execution_count": 21,
     "metadata": {},
     "output_type": "execute_result"
    }
   ],
   "source": [
    "total = 1\n",
    "preceding_len = 0\n",
    "for i in valid_next_num:\n",
    "    if len(valid_next_num[i]) > 0:\n",
    "        total *= len(valid_next_num[i])\n",
    "#     print( len(valid_next_num[i]) )\n",
    "total"
   ]
  },
  {
   "cell_type": "code",
   "execution_count": 50,
   "metadata": {},
   "outputs": [
    {
     "data": {
      "text/plain": [
       "array([False, False, False, False, False,  True,  True,  True,  True,\n",
       "       False, False, False, False, False, False, False, False, False,\n",
       "       False, False, False, False, False, False, False, False, False,\n",
       "       False, False, False, False, False, False, False, False, False,\n",
       "       False, False, False, False, False, False, False, False, False,\n",
       "       False, False, False, False, False, False, False, False, False,\n",
       "       False, False, False, False, False, False, False, False, False,\n",
       "       False, False, False, False, False, False, False, False, False,\n",
       "       False, False, False, False, False, False, False, False, False,\n",
       "       False, False, False, False, False, False, False, False, False,\n",
       "       False, False, False, False, False, False, False, False, False,\n",
       "       False, False, False, False, False])"
      ]
     },
     "execution_count": 50,
     "metadata": {},
     "output_type": "execute_result"
    }
   ],
   "source": [
    "np.all([[-3 <= np_data - 12],  [np_data - 12 <= 3]], axis = 0)[0]"
   ]
  },
  {
   "cell_type": "code",
   "execution_count": 14,
   "metadata": {},
   "outputs": [
    {
     "data": {
      "text/plain": [
       "False"
      ]
     },
     "execution_count": 14,
     "metadata": {},
     "output_type": "execute_result"
    }
   ],
   "source": [
    "nums_within_3 = {}\n",
    "data == 4"
   ]
  },
  {
   "cell_type": "code",
   "execution_count": 10,
   "metadata": {},
   "outputs": [
    {
     "data": {
      "text/plain": [
       "1"
      ]
     },
     "execution_count": 10,
     "metadata": {},
     "output_type": "execute_result"
    }
   ],
   "source": [
    "min(data)"
   ]
  },
  {
   "cell_type": "code",
   "execution_count": 69,
   "metadata": {},
   "outputs": [
    {
     "data": {
      "text/plain": [
       "True"
      ]
     },
     "execution_count": 69,
     "metadata": {},
     "output_type": "execute_result"
    }
   ],
   "source": [
    "test.valid_list()"
   ]
  },
  {
   "cell_type": "code",
   "execution_count": 89,
   "metadata": {},
   "outputs": [
    {
     "data": {
      "text/plain": [
       "[1, 4, 7, 10, 11, 12, 15, 16]"
      ]
     },
     "execution_count": 89,
     "metadata": {},
     "output_type": "execute_result"
    }
   ],
   "source": [
    "data[0:1] + data[3:10]"
   ]
  },
  {
   "cell_type": "code",
   "execution_count": 12,
   "metadata": {},
   "outputs": [
    {
     "data": {
      "text/plain": [
       "array([3, 3, 1, 1, 3, 1])"
      ]
     },
     "execution_count": 12,
     "metadata": {},
     "output_type": "execute_result"
    }
   ],
   "source": [
    "np.diff( data[3:10])"
   ]
  },
  {
   "cell_type": "code",
   "execution_count": null,
   "metadata": {},
   "outputs": [],
   "source": []
  }
 ],
 "metadata": {
  "kernelspec": {
   "display_name": "Python 3",
   "language": "python",
   "name": "python3"
  },
  "language_info": {
   "codemirror_mode": {
    "name": "ipython",
    "version": 3
   },
   "file_extension": ".py",
   "mimetype": "text/x-python",
   "name": "python",
   "nbconvert_exporter": "python",
   "pygments_lexer": "ipython3",
   "version": "3.6.10"
  }
 },
 "nbformat": 4,
 "nbformat_minor": 2
}
