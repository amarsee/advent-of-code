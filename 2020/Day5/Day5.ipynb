{
 "cells": [
  {
   "cell_type": "markdown",
   "metadata": {},
   "source": [
    "## Part 1"
   ]
  },
  {
   "cell_type": "markdown",
   "metadata": {},
   "source": [
    "The first 7 characters will either be F or B; these specify exactly one of the 128 rows on the plane (numbered 0 through 127). Each letter tells you which half of a region the given seat is in. Start with the whole list of rows; the first letter indicates whether the seat is in the front (0 through 63) or the back (64 through 127). The next letter indicates which half of that region the seat is in, and so on until you're left with exactly one row."
   ]
  },
  {
   "cell_type": "markdown",
   "metadata": {},
   "source": [
    "The last three characters will be either L or R; these specify exactly one of the 8 columns of seats on the plane (numbered 0 through 7). The same process as above proceeds again, this time with only three steps. L means to keep the lower half, while R means to keep the upper half."
   ]
  },
  {
   "cell_type": "markdown",
   "metadata": {},
   "source": [
    "Every seat also has a unique seat ID: multiply the row by 8, then add the column. In this example, the seat has ID 44 * 8 + 5 = 357."
   ]
  },
  {
   "cell_type": "markdown",
   "metadata": {},
   "source": [
    "As a sanity check, look through your list of boarding passes. What is the highest seat ID on a boarding pass?"
   ]
  },
  {
   "cell_type": "code",
   "execution_count": 2,
   "metadata": {},
   "outputs": [],
   "source": [
    "import itertools\n",
    "import re"
   ]
  },
  {
   "cell_type": "code",
   "execution_count": 3,
   "metadata": {},
   "outputs": [],
   "source": [
    "data = [re.sub(r'\\n', '', x) for x in open(\"input.txt\").readlines()]"
   ]
  },
  {
   "cell_type": "code",
   "execution_count": 4,
   "metadata": {},
   "outputs": [
    {
     "data": {
      "text/plain": [
       "['BBFBBBBRRL',\n",
       " 'FBFFFFBLRL',\n",
       " 'FBFBBFFRLR',\n",
       " 'FBFFFBFRLR',\n",
       " 'FFBBFFFLRR',\n",
       " 'FFBBBFFRRR',\n",
       " 'BFBBFBFLRL',\n",
       " 'BFFFBFFLRR',\n",
       " 'FBBBFFBLLR',\n",
       " 'BBFFBBFRRL']"
      ]
     },
     "execution_count": 4,
     "metadata": {},
     "output_type": "execute_result"
    }
   ],
   "source": [
    "data[:10]"
   ]
  },
  {
   "cell_type": "code",
   "execution_count": 13,
   "metadata": {},
   "outputs": [],
   "source": [
    "front_back = list(range(0,128))\n",
    "left_right = list(range(0,8))"
   ]
  },
  {
   "cell_type": "code",
   "execution_count": 36,
   "metadata": {},
   "outputs": [],
   "source": [
    "row = front_back\n",
    "column = left_right\n",
    "seat_locations = []\n",
    "seat_ids = []\n",
    "for seat in data:\n",
    "    for seat_letter in seat:\n",
    "        if seat_letter == 'F':\n",
    "            row = row[:int(len(row)/2)]\n",
    "        elif seat_letter == 'B':\n",
    "            row = row[int(len(row)/2):]\n",
    "        elif seat_letter == 'L':\n",
    "            column = column[:int(len(column)/2)]\n",
    "        elif seat_letter == 'R':\n",
    "            column = column[int(len(column)/2):]\n",
    "#     print(f\"Row is {row}, Column is {column}\")\n",
    "    seat_ids.append((row[0] * 8 + column[0]))\n",
    "    seat_locations.append(tuple([row.pop(), column.pop()]))\n",
    "    row = front_back\n",
    "    column = left_right"
   ]
  },
  {
   "cell_type": "code",
   "execution_count": 39,
   "metadata": {},
   "outputs": [
    {
     "name": "stdout",
     "output_type": "stream",
     "text": [
      "The seat ID for Part 1 is 908\n"
     ]
    }
   ],
   "source": [
    "part_1_answer = max(seat_ids)\n",
    "print(f\"The seat ID for Part 1 is {part_1_answer}\")"
   ]
  },
  {
   "cell_type": "markdown",
   "metadata": {},
   "source": [
    "## Part 2"
   ]
  },
  {
   "cell_type": "markdown",
   "metadata": {},
   "source": [
    "Ding! The \"fasten seat belt\" signs have turned on. Time to find your seat.\n",
    "\n",
    "It's a completely full flight, so your seat should be the only missing boarding pass in your list. However, there's a catch: some of the seats at the very front and back of the plane don't exist on this aircraft, so they'll be missing from your list as well.\n",
    "\n",
    "Your seat wasn't at the very front or back, though; the seats with IDs +1 and -1 from yours will be in your list.\n",
    "\n",
    "What is the ID of your seat?"
   ]
  },
  {
   "cell_type": "code",
   "execution_count": 50,
   "metadata": {},
   "outputs": [
    {
     "name": "stdout",
     "output_type": "stream",
     "text": [
      "The missing seat ID for Part 2 is 619\n"
     ]
    }
   ],
   "source": [
    "seat_ids.sort(reverse = False)\n",
    "# Need to find where there is a seat missing\n",
    "# Find non-consecutive numbers\n",
    "id_diff = 0\n",
    "part_2_answer = 0\n",
    "for [ind, seat_id] in enumerate(seat_ids):\n",
    "    id_diff = seat_ids[ind+1] - seat_id\n",
    "    if id_diff == 2:\n",
    "        part_2_answer = seat_id + 1\n",
    "        break;\n",
    "print(f\"The missing seat ID for Part 2 is {part_2_answer}\")"
   ]
  }
 ],
 "metadata": {
  "kernelspec": {
   "display_name": "Python 3",
   "language": "python",
   "name": "python3"
  },
  "language_info": {
   "codemirror_mode": {
    "name": "ipython",
    "version": 3
   },
   "file_extension": ".py",
   "mimetype": "text/x-python",
   "name": "python",
   "nbconvert_exporter": "python",
   "pygments_lexer": "ipython3",
   "version": "3.6.10"
  }
 },
 "nbformat": 4,
 "nbformat_minor": 2
}
