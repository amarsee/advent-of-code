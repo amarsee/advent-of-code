{
 "cells": [
  {
   "cell_type": "code",
   "execution_count": 2,
   "id": "ecece443",
   "metadata": {},
   "outputs": [],
   "source": [
    "import pandas as pd\n",
    "import itertools"
   ]
  },
  {
   "cell_type": "markdown",
   "id": "c25dcef5",
   "metadata": {},
   "source": [
    "## Part 1"
   ]
  },
  {
   "cell_type": "markdown",
   "id": "e2c22a7c",
   "metadata": {},
   "source": [
    "- count the number of times a depth measurement increases from the previous measurement. (There is no measurement before the first measurement.)"
   ]
  },
  {
   "cell_type": "code",
   "execution_count": 8,
   "id": "833ef644",
   "metadata": {},
   "outputs": [],
   "source": [
    "data = [int(x) for x in open(\"input.txt\").readlines()]"
   ]
  },
  {
   "cell_type": "code",
   "execution_count": 11,
   "id": "24c5dad7",
   "metadata": {},
   "outputs": [],
   "source": [
    "df = pd.DataFrame({'input_col': data})"
   ]
  },
  {
   "cell_type": "code",
   "execution_count": 17,
   "id": "e4768b6e",
   "metadata": {},
   "outputs": [],
   "source": [
    "df['shifted_col'] = df['input_col'].shift()"
   ]
  },
  {
   "cell_type": "code",
   "execution_count": 21,
   "id": "6ecd2dbc",
   "metadata": {},
   "outputs": [],
   "source": [
    "n_increased = df.loc[ df['input_col'] > df['shifted_col']].shape[0]"
   ]
  },
  {
   "cell_type": "code",
   "execution_count": 22,
   "id": "ada66d66",
   "metadata": {},
   "outputs": [
    {
     "name": "stdout",
     "output_type": "stream",
     "text": [
      "The number of times a depth increased from previous is 1184.\n"
     ]
    }
   ],
   "source": [
    "print(f\"The number of times a depth increased from previous is {n_increased}.\")"
   ]
  },
  {
   "cell_type": "markdown",
   "id": "af07aa7c",
   "metadata": {},
   "source": [
    "## Part 2"
   ]
  },
  {
   "cell_type": "markdown",
   "id": "4f14a9a0",
   "metadata": {},
   "source": [
    "- consider sums of a three-measurement sliding window\n",
    "- Your goal now is to count the number of times the sum of measurements in this sliding window increases from the previous sum"
   ]
  },
  {
   "cell_type": "code",
   "execution_count": 28,
   "id": "7ef365ec",
   "metadata": {},
   "outputs": [],
   "source": [
    "rolling_sum = pd.DataFrame(df.input_col.rolling(3).sum())"
   ]
  },
  {
   "cell_type": "code",
   "execution_count": 30,
   "id": "97451b05",
   "metadata": {},
   "outputs": [],
   "source": [
    "rolling_sum['shift'] = rolling_sum['input_col'].shift()"
   ]
  },
  {
   "cell_type": "code",
   "execution_count": 33,
   "id": "e9ca1177",
   "metadata": {},
   "outputs": [],
   "source": [
    "n_increased_p2 = rolling_sum.loc[ rolling_sum['input_col'] > rolling_sum['shift']].shape[0]"
   ]
  },
  {
   "cell_type": "code",
   "execution_count": 34,
   "id": "337c5d69",
   "metadata": {},
   "outputs": [
    {
     "name": "stdout",
     "output_type": "stream",
     "text": [
      "The number of times the rolling sum increased from previous is 1158.\n"
     ]
    }
   ],
   "source": [
    "print(f\"The number of times the rolling sum increased from previous is {n_increased_p2}.\")"
   ]
  },
  {
   "cell_type": "code",
   "execution_count": null,
   "id": "f1bb4022",
   "metadata": {},
   "outputs": [],
   "source": []
  }
 ],
 "metadata": {
  "kernelspec": {
   "display_name": "Python 3",
   "language": "python",
   "name": "python3"
  },
  "language_info": {
   "codemirror_mode": {
    "name": "ipython",
    "version": 3
   },
   "file_extension": ".py",
   "mimetype": "text/x-python",
   "name": "python",
   "nbconvert_exporter": "python",
   "pygments_lexer": "ipython3",
   "version": "3.8.8"
  }
 },
 "nbformat": 4,
 "nbformat_minor": 5
}
