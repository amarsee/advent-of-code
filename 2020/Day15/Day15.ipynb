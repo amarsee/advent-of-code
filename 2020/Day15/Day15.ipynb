{
 "cells": [
  {
   "cell_type": "markdown",
   "metadata": {},
   "source": [
    "## Part 1"
   ]
  },
  {
   "cell_type": "markdown",
   "metadata": {},
   "source": [
    "In this game, the players take turns saying numbers. They begin by taking turns reading from a list of starting numbers (your puzzle input). Then, each turn consists of considering the most recently spoken number:\n",
    "\n",
    "If that was the first time the number has been spoken, the current player says 0.\n",
    "Otherwise, the number had been spoken before; the current player announces how many turns apart the number is from when it was previously spoken.\n"
   ]
  },
  {
   "cell_type": "markdown",
   "metadata": {},
   "source": [
    "Given your starting numbers, what will be the 2020th number spoken?"
   ]
  },
  {
   "cell_type": "code",
   "execution_count": 5,
   "metadata": {},
   "outputs": [],
   "source": [
    "starting_numbers = [16,1,0,18,12,14,19]"
   ]
  },
  {
   "cell_type": "code",
   "execution_count": null,
   "metadata": {},
   "outputs": [],
   "source": [
    "# 1: 16\n",
    "# 2: 1\n",
    "# 3: 0\n",
    "# 4: 18\n",
    "# 5: 12\n",
    "# 6: 14\n",
    "# 7: 19\n",
    "# 8: 0 (19 hadn't been spoken)\n",
    "# 9: 8 - 3 = 5 (0 spoken in 8 and 3)\n",
    "# 10: 0 (5 hadn't been spoken)\n",
    "# 11: 10 - 8 = 2 (0 spoken in 10 and 8)\n",
    "# 12: 0 (2 not spoken)\n",
    "# 13: 12 - 10 = 2\n",
    "# 14: 13 - 11 = 2\n",
    "# 15: 14 -13 = 1\n",
    "# 16: 15 - 2 = 13"
   ]
  },
  {
   "cell_type": "code",
   "execution_count": 20,
   "metadata": {},
   "outputs": [],
   "source": [
    "part_1_dict = {}\n",
    "turn = 1\n",
    "while turn <= 2020:\n",
    "    if turn <= len(starting_numbers):\n",
    "        spoken_number = starting_numbers[turn-1]\n",
    "        spoken_before = spoken_number in part_1_dict\n",
    "        part_1_dict[spoken_number] = [turn]\n",
    "    else:\n",
    "        if not spoken_before:\n",
    "            spoken_number = 0\n",
    "            spoken_before = spoken_number in part_1_dict\n",
    "            part_1_dict[spoken_number].append(turn)\n",
    "            previous_number = spoken_number\n",
    "        else:\n",
    "            spoken_number = part_1_dict[previous_number][-1] - part_1_dict[previous_number][-2]\n",
    "            spoken_before = spoken_number in part_1_dict\n",
    "            if spoken_before:\n",
    "                part_1_dict[spoken_number].append(turn)\n",
    "            else:\n",
    "                part_1_dict[spoken_number] = [turn]\n",
    "            previous_number = spoken_number\n",
    "    turn +=1"
   ]
  },
  {
   "cell_type": "code",
   "execution_count": 23,
   "metadata": {},
   "outputs": [
    {
     "name": "stdout",
     "output_type": "stream",
     "text": [
      "The answer to Part 1 is 929.\n"
     ]
    }
   ],
   "source": [
    "print(f\"The answer to Part 1 is {spoken_number}.\")"
   ]
  },
  {
   "cell_type": "markdown",
   "metadata": {},
   "source": [
    "## Part 2"
   ]
  },
  {
   "cell_type": "markdown",
   "metadata": {},
   "source": [
    "Given your starting numbers, what will be the 30000000th number spoken?"
   ]
  },
  {
   "cell_type": "code",
   "execution_count": 24,
   "metadata": {},
   "outputs": [],
   "source": [
    "part_2_dict = {}\n",
    "turn = 1\n",
    "while turn <= 30000000:\n",
    "    if turn <= len(starting_numbers):\n",
    "        spoken_number = starting_numbers[turn-1]\n",
    "        spoken_before = spoken_number in part_2_dict\n",
    "        part_2_dict[spoken_number] = [turn]\n",
    "    else:\n",
    "        if not spoken_before:\n",
    "            spoken_number = 0\n",
    "            spoken_before = spoken_number in part_2_dict\n",
    "            part_2_dict[spoken_number].append(turn)\n",
    "            previous_number = spoken_number\n",
    "        else:\n",
    "            spoken_number = part_2_dict[previous_number][-1] - part_2_dict[previous_number][-2]\n",
    "            spoken_before = spoken_number in part_2_dict\n",
    "            if spoken_before:\n",
    "                part_2_dict[spoken_number].append(turn)\n",
    "            else:\n",
    "                part_2_dict[spoken_number] = [turn]\n",
    "            previous_number = spoken_number\n",
    "    turn +=1"
   ]
  },
  {
   "cell_type": "code",
   "execution_count": 25,
   "metadata": {},
   "outputs": [
    {
     "name": "stdout",
     "output_type": "stream",
     "text": [
      "The answer to Part 2 is 16671510.\n"
     ]
    }
   ],
   "source": [
    "print(f\"The answer to Part 2 is {spoken_number}.\")"
   ]
  }
 ],
 "metadata": {
  "kernelspec": {
   "display_name": "Python 3",
   "language": "python",
   "name": "python3"
  },
  "language_info": {
   "codemirror_mode": {
    "name": "ipython",
    "version": 3
   },
   "file_extension": ".py",
   "mimetype": "text/x-python",
   "name": "python",
   "nbconvert_exporter": "python",
   "pygments_lexer": "ipython3",
   "version": "3.6.10"
  }
 },
 "nbformat": 4,
 "nbformat_minor": 2
}
