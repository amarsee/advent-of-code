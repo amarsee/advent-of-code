{
 "cells": [
  {
   "cell_type": "markdown",
   "metadata": {},
   "source": [
    "## Part 1"
   ]
  },
  {
   "cell_type": "markdown",
   "metadata": {},
   "source": [
    "How many bag colors can eventually contain at least one shiny gold bag? (The list of rules is quite long; make sure you get all of it.)"
   ]
  },
  {
   "cell_type": "code",
   "execution_count": 1,
   "metadata": {},
   "outputs": [],
   "source": [
    "import itertools\n",
    "import re"
   ]
  },
  {
   "cell_type": "code",
   "execution_count": 2,
   "metadata": {},
   "outputs": [],
   "source": [
    "data = [re.sub(r'\\n', '', x) for x in open(\"input.txt\").readlines()]"
   ]
  },
  {
   "cell_type": "code",
   "execution_count": 19,
   "metadata": {},
   "outputs": [],
   "source": [
    "# data"
   ]
  },
  {
   "cell_type": "code",
   "execution_count": 12,
   "metadata": {},
   "outputs": [],
   "source": [
    "flag = True\n",
    "gold_inside = []\n",
    "iteration = 0\n",
    "while flag:\n",
    "    iteration += 1\n",
    "    len_gold_before = len(gold_inside)\n",
    "    for rule in data:\n",
    "        bag_types = re.findall(r'(\\w+\\s\\w+) bag', rule)\n",
    "        container = bag_types[0]\n",
    "        bags_inside = bag_types[1:]\n",
    "        if iteration == 1:\n",
    "            if 'shiny gold' in bags_inside:\n",
    "                gold_inside.append(container)\n",
    "        else:\n",
    "            if set(bags_inside).intersection( set(gold_inside) ) and container not in gold_inside:\n",
    "                gold_inside.append(container)\n",
    "    if len_gold_before == len(gold_inside):\n",
    "        flag = False"
   ]
  },
  {
   "cell_type": "code",
   "execution_count": 18,
   "metadata": {},
   "outputs": [
    {
     "name": "stdout",
     "output_type": "stream",
     "text": [
      "The answer to part 1 is 296. It took 8 iterations to arrive at that answer.\n"
     ]
    }
   ],
   "source": [
    "print(f\"The answer to part 1 is {len(gold_inside)}. It took {iteration} iterations to arrive at that answer.\")"
   ]
  },
  {
   "cell_type": "markdown",
   "metadata": {},
   "source": [
    "## Part 2"
   ]
  },
  {
   "cell_type": "code",
   "execution_count": null,
   "metadata": {},
   "outputs": [],
   "source": []
  }
 ],
 "metadata": {
  "kernelspec": {
   "display_name": "Python 3",
   "language": "python",
   "name": "python3"
  },
  "language_info": {
   "codemirror_mode": {
    "name": "ipython",
    "version": 3
   },
   "file_extension": ".py",
   "mimetype": "text/x-python",
   "name": "python",
   "nbconvert_exporter": "python",
   "pygments_lexer": "ipython3",
   "version": "3.6.10"
  }
 },
 "nbformat": 4,
 "nbformat_minor": 2
}
