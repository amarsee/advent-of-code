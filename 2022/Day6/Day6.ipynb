{
 "cells": [
  {
   "cell_type": "code",
   "execution_count": 1,
   "id": "2734db5b",
   "metadata": {},
   "outputs": [],
   "source": [
    "import pandas as pd\n",
    "import itertools"
   ]
  },
  {
   "cell_type": "markdown",
   "id": "c2bdd6cd",
   "metadata": {},
   "source": [
    "# Part 1\n",
    "- detects a start-of-packet marker in the datastream. In the protocol being used by the Elves, the start of a packet is indicated by a sequence of four characters that are all different\n",
    "- How many characters need to be processed before the first start-of-packet marker is detected?"
   ]
  },
  {
   "cell_type": "code",
   "execution_count": 4,
   "id": "03839580",
   "metadata": {},
   "outputs": [],
   "source": [
    "data = open(\"input.txt\").read().splitlines()[0]"
   ]
  },
  {
   "cell_type": "code",
   "execution_count": 13,
   "id": "e1721b2d",
   "metadata": {},
   "outputs": [],
   "source": [
    "# data"
   ]
  },
  {
   "cell_type": "code",
   "execution_count": 11,
   "id": "8e206079",
   "metadata": {
    "scrolled": false
   },
   "outputs": [],
   "source": [
    "flag = True\n",
    "chars_checked = 4\n",
    "while flag:\n",
    "    set_of_four = data[chars_checked-4:chars_checked]\n",
    "    # check if the set (unique characters) is equal to the length of the set of 4\n",
    "    if len(set(set_of_four)) == len(set_of_four):\n",
    "        flag = False\n",
    "    else:\n",
    "        chars_checked += 1"
   ]
  },
  {
   "cell_type": "code",
   "execution_count": 14,
   "id": "e508ca69",
   "metadata": {},
   "outputs": [
    {
     "name": "stdout",
     "output_type": "stream",
     "text": [
      "The number of characters needed to be processed before the first start-of-packet marker is detected is 1566.\n"
     ]
    }
   ],
   "source": [
    "print(f\"The number of characters needed to be processed before the first start-of-packet marker is detected is {chars_checked}.\")"
   ]
  },
  {
   "cell_type": "markdown",
   "id": "22d32275",
   "metadata": {},
   "source": [
    "# Part 2\n",
    "- A start-of-message marker is just like a start-of-packet marker, except it consists of 14 distinct characters rather than 4.\n",
    "- How many characters need to be processed before the first start-of-message marker is detected?"
   ]
  },
  {
   "cell_type": "code",
   "execution_count": 15,
   "id": "8115d382",
   "metadata": {},
   "outputs": [],
   "source": [
    "flag = True\n",
    "chars_checked = 14\n",
    "while flag:\n",
    "    set_of_chars = data[chars_checked-14:chars_checked]\n",
    "    # check if the set (unique characters) is equal to the length of the set of 14\n",
    "    if len(set(set_of_chars)) == len(set_of_chars):\n",
    "        flag = False\n",
    "    else:\n",
    "        chars_checked += 1"
   ]
  },
  {
   "cell_type": "code",
   "execution_count": 16,
   "id": "cea822cc",
   "metadata": {},
   "outputs": [
    {
     "name": "stdout",
     "output_type": "stream",
     "text": [
      "The number of characters needed to be processed before the first start-of-packet marker is detected is 2265.\n"
     ]
    }
   ],
   "source": [
    "print(f\"The number of characters needed to be processed before the first start-of-packet marker is detected is {chars_checked}.\")"
   ]
  },
  {
   "cell_type": "code",
   "execution_count": null,
   "id": "c1b40eb6",
   "metadata": {},
   "outputs": [],
   "source": []
  }
 ],
 "metadata": {
  "kernelspec": {
   "display_name": "Python 3",
   "language": "python",
   "name": "python3"
  },
  "language_info": {
   "codemirror_mode": {
    "name": "ipython",
    "version": 3
   },
   "file_extension": ".py",
   "mimetype": "text/x-python",
   "name": "python",
   "nbconvert_exporter": "python",
   "pygments_lexer": "ipython3",
   "version": "3.8.8"
  }
 },
 "nbformat": 4,
 "nbformat_minor": 5
}
