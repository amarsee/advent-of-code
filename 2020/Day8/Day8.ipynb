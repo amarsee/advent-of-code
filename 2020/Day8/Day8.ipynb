{
 "cells": [
  {
   "cell_type": "markdown",
   "metadata": {},
   "source": [
    "## Part 1"
   ]
  },
  {
   "cell_type": "markdown",
   "metadata": {},
   "source": [
    "Run your copy of the boot code. Immediately before any instruction is executed a second time, what value is in the accumulator?\n",
    "\n"
   ]
  },
  {
   "cell_type": "code",
   "execution_count": 1,
   "metadata": {},
   "outputs": [],
   "source": [
    "import itertools\n",
    "import re"
   ]
  },
  {
   "cell_type": "code",
   "execution_count": 2,
   "metadata": {},
   "outputs": [],
   "source": [
    "data = [re.sub(r'\\n', '', x) for x in open(\"input.txt\").readlines()]\n"
   ]
  },
  {
   "cell_type": "code",
   "execution_count": 34,
   "metadata": {},
   "outputs": [],
   "source": [
    "# data"
   ]
  },
  {
   "cell_type": "code",
   "execution_count": 23,
   "metadata": {},
   "outputs": [],
   "source": [
    "current_command = data[0]\n",
    "all_prior_indices = []\n",
    "accumulator = 0\n",
    "index = 0\n",
    "while index not in all_prior_indices:\n",
    "    all_prior_indices.append(index)\n",
    "    command = re.findall(r\"^\\w+\", current_command)[0]\n",
    "    number = int(re.findall(r'[+|-]\\d+$', current_command)[0])\n",
    "    if command == \"acc\":\n",
    "        accumulator += number\n",
    "        index += 1\n",
    "    elif command == \"nop\":\n",
    "        index += 1\n",
    "    elif command == \"jmp\":\n",
    "        index += number\n",
    "    current_command = data[index]"
   ]
  },
  {
   "cell_type": "code",
   "execution_count": 25,
   "metadata": {},
   "outputs": [
    {
     "name": "stdout",
     "output_type": "stream",
     "text": [
      "The value of the accumulator at first repeat is 1832\n"
     ]
    }
   ],
   "source": [
    "print(f\"The value of the accumulator at first repeat is {accumulator}\")"
   ]
  },
  {
   "cell_type": "markdown",
   "metadata": {},
   "source": [
    "## Part 2"
   ]
  },
  {
   "cell_type": "markdown",
   "metadata": {},
   "source": [
    "The program is supposed to terminate by attempting to execute an instruction immediately after the last instruction in the file. By changing exactly one jmp or nop, you can repair the boot code and make it terminate correctly.\n",
    "\n",
    "Fix the program so that it terminates normally by changing exactly one jmp (to nop) or nop (to jmp). What is the value of the accumulator after the program terminates?"
   ]
  },
  {
   "cell_type": "code",
   "execution_count": 30,
   "metadata": {},
   "outputs": [],
   "source": [
    "index = 0\n",
    "nop_jmp_num = 0\n",
    "nop_jmp_to_change = 1\n",
    "while index != len(data):\n",
    "    current_command = data[0]\n",
    "    all_prior_indices = []\n",
    "    accumulator = 0\n",
    "    index = 0\n",
    "    while index not in all_prior_indices and index < len(data):\n",
    "        all_prior_indices.append(index)\n",
    "        command = re.findall(r\"^\\w+\", current_command)[0]\n",
    "        number = int(re.findall(r'[+|-]\\d+$', current_command)[0])\n",
    "        if command in [\"nop\", \"jmp\"]:\n",
    "            nop_jmp_num += 1\n",
    "            if nop_jmp_num == nop_jmp_to_change:\n",
    "                if command == \"jmp\":\n",
    "                    command = \"nop\"\n",
    "                else:\n",
    "                    command = \"jmp\"\n",
    "        if command == \"acc\":\n",
    "            accumulator += number\n",
    "            index += 1\n",
    "        elif command == \"nop\":\n",
    "            index += 1\n",
    "        elif command == \"jmp\":\n",
    "            index += number\n",
    "        if index < len(data):\n",
    "            current_command = data[index]\n",
    "    nop_jmp_to_change += 1\n",
    "    nop_jmp_num = 0"
   ]
  },
  {
   "cell_type": "code",
   "execution_count": 32,
   "metadata": {},
   "outputs": [
    {
     "name": "stdout",
     "output_type": "stream",
     "text": [
      "The accumulator at completion is 662\n"
     ]
    }
   ],
   "source": [
    "print(f\"The accumulator at completion is {accumulator}\")"
   ]
  }
 ],
 "metadata": {
  "kernelspec": {
   "display_name": "Python 3",
   "language": "python",
   "name": "python3"
  },
  "language_info": {
   "codemirror_mode": {
    "name": "ipython",
    "version": 3
   },
   "file_extension": ".py",
   "mimetype": "text/x-python",
   "name": "python",
   "nbconvert_exporter": "python",
   "pygments_lexer": "ipython3",
   "version": "3.6.10"
  }
 },
 "nbformat": 4,
 "nbformat_minor": 2
}
