{
 "cells": [
  {
   "cell_type": "code",
   "execution_count": 56,
   "id": "35247937",
   "metadata": {},
   "outputs": [],
   "source": [
    "import pandas as pd\n",
    "import itertools\n",
    "import re\n",
    "from copy import deepcopy"
   ]
  },
  {
   "cell_type": "markdown",
   "id": "c5e7101f",
   "metadata": {},
   "source": [
    "# Part 1\n",
    "- The Elves just need to know which crate will end up on top of each stack; \n",
    "- After the rearrangement procedure completes, what crate ends up on top of each stack?"
   ]
  },
  {
   "cell_type": "code",
   "execution_count": 3,
   "id": "e7a18d10",
   "metadata": {},
   "outputs": [],
   "source": [
    "data = [x for x in open(\"input.txt\").read().splitlines()]"
   ]
  },
  {
   "cell_type": "code",
   "execution_count": 106,
   "id": "d8181f3d",
   "metadata": {},
   "outputs": [],
   "source": [
    "# data"
   ]
  },
  {
   "cell_type": "code",
   "execution_count": 11,
   "id": "d90feb49",
   "metadata": {},
   "outputs": [],
   "source": [
    "original_stack = data[:9]\n",
    "moves = data[10:]"
   ]
  },
  {
   "cell_type": "code",
   "execution_count": 6,
   "id": "bc204cd0",
   "metadata": {},
   "outputs": [
    {
     "data": {
      "text/plain": [
       "['[V]         [T]         [J]        ',\n",
       " '[Q]         [M] [P]     [Q]     [J]',\n",
       " '[W] [B]     [N] [Q]     [C]     [T]',\n",
       " '[M] [C]     [F] [N]     [G] [W] [G]',\n",
       " '[B] [W] [J] [H] [L]     [R] [B] [C]',\n",
       " '[N] [R] [R] [W] [W] [W] [D] [N] [F]',\n",
       " '[Z] [Z] [Q] [S] [F] [P] [B] [Q] [L]',\n",
       " '[C] [H] [F] [Z] [G] [L] [V] [Z] [H]',\n",
       " ' 1   2   3   4   5   6   7   8   9 ']"
      ]
     },
     "execution_count": 6,
     "metadata": {},
     "output_type": "execute_result"
    }
   ],
   "source": [
    "original_stack"
   ]
  },
  {
   "cell_type": "code",
   "execution_count": 76,
   "id": "3386626c",
   "metadata": {},
   "outputs": [],
   "source": [
    "box_dict = {}\n",
    "for ind, val in enumerate(original_stack[8]):\n",
    "    box_list = []\n",
    "    if val != ' ':\n",
    "        for row in range(7, -1, -1):\n",
    "            next_val = original_stack[row][ind-1:ind+2]\n",
    "            if next_val != '   ':\n",
    "                box_list.append(next_val)\n",
    "        box_dict[val] = box_list"
   ]
  },
  {
   "cell_type": "code",
   "execution_count": 77,
   "id": "1136ca85",
   "metadata": {},
   "outputs": [
    {
     "data": {
      "text/plain": [
       "{'1': ['[C]', '[Z]', '[N]', '[B]', '[M]', '[W]', '[Q]', '[V]'],\n",
       " '2': ['[H]', '[Z]', '[R]', '[W]', '[C]', '[B]'],\n",
       " '3': ['[F]', '[Q]', '[R]', '[J]'],\n",
       " '4': ['[Z]', '[S]', '[W]', '[H]', '[F]', '[N]', '[M]', '[T]'],\n",
       " '5': ['[G]', '[F]', '[W]', '[L]', '[N]', '[Q]', '[P]'],\n",
       " '6': ['[L]', '[P]', '[W]'],\n",
       " '7': ['[V]', '[B]', '[D]', '[R]', '[G]', '[C]', '[Q]', '[J]'],\n",
       " '8': ['[Z]', '[Q]', '[N]', '[B]', '[W]'],\n",
       " '9': ['[H]', '[L]', '[F]', '[C]', '[G]', '[T]', '[J]']}"
      ]
     },
     "execution_count": 77,
     "metadata": {},
     "output_type": "execute_result"
    }
   ],
   "source": [
    "box_dict"
   ]
  },
  {
   "cell_type": "code",
   "execution_count": 78,
   "id": "ac823d84",
   "metadata": {},
   "outputs": [],
   "source": [
    "box_arranged = deepcopy(box_dict)\n",
    "for move in moves:\n",
    "    # Format \n",
    "        # 1st - Number of boxes\n",
    "        # 2nd - column from\n",
    "        # 3rd - Column moved to\n",
    "    move_nums = re.findall('\\d+', move)\n",
    "    num_to_move = int(move_nums[0])\n",
    "    column_from = move_nums[1]\n",
    "    column_to = move_nums[2]\n",
    "    for _ in range(num_to_move):\n",
    "        box_being_moved = box_arranged[column_from].pop()\n",
    "        box_arranged[column_to].append(box_being_moved)"
   ]
  },
  {
   "cell_type": "code",
   "execution_count": 79,
   "id": "c5aa1ff4",
   "metadata": {},
   "outputs": [],
   "source": [
    "# box_arranged"
   ]
  },
  {
   "cell_type": "code",
   "execution_count": 80,
   "id": "1d872a53",
   "metadata": {},
   "outputs": [],
   "source": [
    "part_1 = []\n",
    "for key in box_arranged:\n",
    "    part_1.append(box_arranged[key][-1])"
   ]
  },
  {
   "cell_type": "code",
   "execution_count": 81,
   "id": "d2843d8e",
   "metadata": {},
   "outputs": [],
   "source": [
    "output = re.sub(r'\\W+', '', ''.join(part_1))"
   ]
  },
  {
   "cell_type": "code",
   "execution_count": 82,
   "id": "fd005bc7",
   "metadata": {},
   "outputs": [
    {
     "name": "stdout",
     "output_type": "stream",
     "text": [
      "The boxes at the top of the stacks are QNHWJVJZW.\n"
     ]
    }
   ],
   "source": [
    "print(f\"The boxes at the top of the stacks are {output}.\")"
   ]
  },
  {
   "cell_type": "markdown",
   "id": "1392b25c",
   "metadata": {},
   "source": [
    "# Part 2 \n",
    "- the ability to pick up and move multiple crates at once.\n",
    "- moved crates stay in the same order\n",
    "- After the rearrangement procedure completes, what crate ends up on top of each stack?"
   ]
  },
  {
   "cell_type": "code",
   "execution_count": 102,
   "id": "d1c77b94",
   "metadata": {},
   "outputs": [],
   "source": [
    "# box_dict"
   ]
  },
  {
   "cell_type": "code",
   "execution_count": 100,
   "id": "6e79b42d",
   "metadata": {},
   "outputs": [],
   "source": [
    "box_arranged_2 = deepcopy(box_dict)\n",
    "for move in moves:\n",
    "    # Format \n",
    "        # 1st - Number of boxes\n",
    "        # 2nd - column from\n",
    "        # 3rd - Column moved to\n",
    "    move_nums = re.findall('\\d+', move)\n",
    "    num_to_move = int(move_nums[0])\n",
    "    column_from = move_nums[1]\n",
    "    column_to = move_nums[2]\n",
    "    boxes_to_move = box_arranged_2[column_from][(num_to_move*-1):]\n",
    "    box_arranged_2[column_to].extend(boxes_to_move)\n",
    "    del box_arranged_2[column_from][(num_to_move*-1):]\n"
   ]
  },
  {
   "cell_type": "code",
   "execution_count": 103,
   "id": "d404121a",
   "metadata": {},
   "outputs": [],
   "source": [
    "part_2 = []\n",
    "for key in box_arranged:\n",
    "    part_2.append(box_arranged_2[key][-1])"
   ]
  },
  {
   "cell_type": "code",
   "execution_count": 104,
   "id": "83b5f903",
   "metadata": {},
   "outputs": [],
   "source": [
    "output = re.sub(r'\\W+', '', ''.join(part_2))"
   ]
  },
  {
   "cell_type": "code",
   "execution_count": 105,
   "id": "5fa31478",
   "metadata": {},
   "outputs": [
    {
     "name": "stdout",
     "output_type": "stream",
     "text": [
      "The boxes at the top of the stacks are BPCZJLFJW.\n"
     ]
    }
   ],
   "source": [
    "print(f\"The boxes at the top of the stacks are {output}.\")"
   ]
  },
  {
   "cell_type": "code",
   "execution_count": null,
   "id": "8749f91e",
   "metadata": {},
   "outputs": [],
   "source": []
  }
 ],
 "metadata": {
  "kernelspec": {
   "display_name": "Python 3",
   "language": "python",
   "name": "python3"
  },
  "language_info": {
   "codemirror_mode": {
    "name": "ipython",
    "version": 3
   },
   "file_extension": ".py",
   "mimetype": "text/x-python",
   "name": "python",
   "nbconvert_exporter": "python",
   "pygments_lexer": "ipython3",
   "version": "3.8.8"
  }
 },
 "nbformat": 4,
 "nbformat_minor": 5
}
