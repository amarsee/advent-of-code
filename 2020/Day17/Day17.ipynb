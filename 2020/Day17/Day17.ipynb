{
 "cells": [
  {
   "cell_type": "markdown",
   "metadata": {},
   "source": [
    "## Part 1"
   ]
  },
  {
   "cell_type": "markdown",
   "metadata": {},
   "source": [
    "In the initial state of the pocket dimension, almost all cubes start inactive. The only exception to this is a small flat region of cubes (your puzzle input); the cubes in this region start in the specified active (#) or inactive (.) state.\n",
    "\n"
   ]
  },
  {
   "cell_type": "markdown",
   "metadata": {},
   "source": [
    "The energy source then proceeds to boot up by executing six cycles.\n",
    "\n",
    "Each cube only ever considers its neighbors: any of the 26 other cubes where any of their coordinates differ by at most 1. For example, given the cube at x=1,y=2,z=3, its neighbors include the cube at x=2,y=2,z=2, the cube at x=0,y=2,z=3, and so on."
   ]
  },
  {
   "cell_type": "markdown",
   "metadata": {},
   "source": [
    "During a cycle, all cubes simultaneously change their state according to the following rules:\n",
    "\n",
    "If a cube is active and exactly 2 or 3 of its neighbors are also active, the cube remains active. Otherwise, the cube becomes inactive.\n",
    "If a cube is inactive but exactly 3 of its neighbors are active, the cube becomes active. Otherwise, the cube remains inactive."
   ]
  },
  {
   "cell_type": "markdown",
   "metadata": {},
   "source": [
    "Starting with your given initial configuration, simulate six cycles. How many cubes are left in the active state after the sixth cycle?"
   ]
  },
  {
   "cell_type": "code",
   "execution_count": 57,
   "metadata": {},
   "outputs": [],
   "source": [
    "import itertools\n",
    "import re\n",
    "import numpy as np\n",
    "from functools import reduce\n",
    "import copy"
   ]
  },
  {
   "cell_type": "code",
   "execution_count": 8,
   "metadata": {},
   "outputs": [],
   "source": [
    "data = [list(re.sub(r'\\n', '', x)) for x in open(\"input.txt\").readlines()]"
   ]
  },
  {
   "cell_type": "code",
   "execution_count": 9,
   "metadata": {},
   "outputs": [
    {
     "data": {
      "text/plain": [
       "[['#', '#', '.', '.', '#', '.', '#', '.'],\n",
       " ['#', '#', '#', '#', '#', '.', '#', '#'],\n",
       " ['#', '#', '#', '#', '#', '#', '#', '.'],\n",
       " ['#', '.', '.', '#', '.', '.', '#', '.'],\n",
       " ['#', '.', '#', '.', '.', '.', '#', '#'],\n",
       " ['.', '.', '#', '.', '.', '.', '.', '#'],\n",
       " ['.', '.', '.', '.', '#', '.', '.', '#'],\n",
       " ['.', '.', '#', '#', '.', '#', '.', '.']]"
      ]
     },
     "execution_count": 9,
     "metadata": {},
     "output_type": "execute_result"
    }
   ],
   "source": [
    "data"
   ]
  },
  {
   "cell_type": "code",
   "execution_count": 12,
   "metadata": {},
   "outputs": [],
   "source": [
    "data_numeric = [[1 if x == '#' else 0 for x in line] for line in data]"
   ]
  },
  {
   "cell_type": "code",
   "execution_count": 27,
   "metadata": {},
   "outputs": [
    {
     "data": {
      "text/plain": [
       "8"
      ]
     },
     "execution_count": 27,
     "metadata": {},
     "output_type": "execute_result"
    }
   ],
   "source": [
    "np_data = np.array(data_numeric)"
   ]
  },
  {
   "cell_type": "code",
   "execution_count": 79,
   "metadata": {},
   "outputs": [],
   "source": [
    "part_1 = np.zeros([24,24,24])"
   ]
  },
  {
   "cell_type": "code",
   "execution_count": 81,
   "metadata": {},
   "outputs": [],
   "source": [
    "row_start = int((part_1.shape[0] - np_data.shape[0])/2)\n",
    "\n",
    "part_1[row_start:row_start+np_data.shape[0], row_start:row_start+np_data.shape[1], int(part_1.shape[2]/2)] = np_data"
   ]
  },
  {
   "cell_type": "code",
   "execution_count": 83,
   "metadata": {},
   "outputs": [],
   "source": [
    "def check_surrounding(np_array,i,j,k):\n",
    "    surrounding_sum = 0\n",
    "    # same 3d\n",
    "    surrounding_sum += np_array[i, j-1, k] # left\n",
    "    surrounding_sum += np_array[i-1, j-1, k] # top left\n",
    "    surrounding_sum += np_array[i-1, j, k] # Top\n",
    "    surrounding_sum += np_array[i-1, j+1, k] # top right\n",
    "    surrounding_sum += np_array[i, j+1, k] # right\n",
    "    surrounding_sum += np_array[i+1, j+1, k] # bottom right\n",
    "    surrounding_sum += np_array[i+1, j, k] # bottom\n",
    "    surrounding_sum += np_array[i+1, j-1, k]# bottom left\n",
    "    # Behind 3d\n",
    "    surrounding_sum += np_array[i, j, k+1] # behind\n",
    "    surrounding_sum += np_array[i, j-1, k+1] # left\n",
    "    surrounding_sum += np_array[i-1, j-1, k+1] # top left\n",
    "    surrounding_sum += np_array[i-1, j, k+1] # Top\n",
    "    surrounding_sum += np_array[i-1, j+1, k+1] # top right\n",
    "    surrounding_sum += np_array[i, j+1, k+1] # right\n",
    "    surrounding_sum += np_array[i+1, j+1, k+1] # bottom right\n",
    "    surrounding_sum += np_array[i+1, j, k+1] # bottom\n",
    "    surrounding_sum += np_array[i+1, j-1, k+1]# bottom left\n",
    "    # in front 3d\n",
    "    surrounding_sum += np_array[i, j, k-1] # behind\n",
    "    surrounding_sum += np_array[i, j-1, k-1] # left\n",
    "    surrounding_sum += np_array[i-1, j-1, k-1] # top left\n",
    "    surrounding_sum += np_array[i-1, j, k-1] # Top\n",
    "    surrounding_sum += np_array[i-1, j+1, k-1] # top right\n",
    "    surrounding_sum += np_array[i, j+1, k-1] # right\n",
    "    surrounding_sum += np_array[i+1, j+1, k-1] # bottom right\n",
    "    surrounding_sum += np_array[i+1, j, k-1] # bottom\n",
    "    surrounding_sum += np_array[i+1, j-1, k-1]# bottom left\n",
    "    \n",
    "    return surrounding_sum"
   ]
  },
  {
   "cell_type": "code",
   "execution_count": 84,
   "metadata": {},
   "outputs": [],
   "source": [
    "for iteration in range(6):\n",
    "    intermediate_p1 = copy.deepcopy(part_1)\n",
    "    for k in range(1,part_1.shape[2]-1):\n",
    "#         print(k)\n",
    "        for i in range(1,part_1.shape[0] - 1):\n",
    "            for j in range(1,part_1.shape[1] - 1):\n",
    "#                 if i+1 > 23 or j+1>23 or k+1>23:\n",
    "#                     print(f\"i: {i}, j: {j}, k: {k}\")\n",
    "                current_val = intermediate_p1[i,j,k]\n",
    "                next_sum = check_surrounding(intermediate_p1,i,j,k)\n",
    "                if current_val == 1 and next_sum not in [2, 3]:\n",
    "                    part_1[i,j,k] = 0\n",
    "                elif current_val == 0 and next_sum == 3:\n",
    "                    part_1[i,j,k] = 1"
   ]
  },
  {
   "cell_type": "code",
   "execution_count": 86,
   "metadata": {},
   "outputs": [
    {
     "name": "stdout",
     "output_type": "stream",
     "text": [
      "The answer to Part 1 is 280.0\n"
     ]
    }
   ],
   "source": [
    "part_1_answer = sum(sum(sum(part_1)))\n",
    "print(f\"The answer to Part 1 is {part_1_answer}\")"
   ]
  },
  {
   "cell_type": "markdown",
   "metadata": {},
   "source": [
    "## Part 2"
   ]
  },
  {
   "cell_type": "markdown",
   "metadata": {},
   "source": [
    "Starting with your given initial configuration, simulate six cycles in a 4-dimensional space. How many cubes are left in the active state after the sixth cycle?"
   ]
  },
  {
   "cell_type": "code",
   "execution_count": 88,
   "metadata": {},
   "outputs": [],
   "source": [
    "part_2 = np.zeros([24,24,24, 24])\n",
    "row_start = int((part_2.shape[0] - np_data.shape[0])/2)\n",
    "\n",
    "part_2[row_start:row_start+np_data.shape[0], row_start:row_start+np_data.shape[1], int(part_1.shape[2]/2),int(part_1.shape[2]/2)] = np_data"
   ]
  },
  {
   "cell_type": "code",
   "execution_count": null,
   "metadata": {},
   "outputs": [],
   "source": [
    "def check_surrounding_2(np_array, i, j, k, l):\n",
    "    surrounding_sum = 0\n",
    "    # same 3d\n",
    "    surrounding_sum += np_array[i, j-1, k] # left\n",
    "    surrounding_sum += np_array[i-1, j-1, k] # top left\n",
    "    surrounding_sum += np_array[i-1, j, k] # Top\n",
    "    surrounding_sum += np_array[i-1, j+1, k] # top right\n",
    "    surrounding_sum += np_array[i, j+1, k] # right\n",
    "    surrounding_sum += np_array[i+1, j+1, k] # bottom right\n",
    "    surrounding_sum += np_array[i+1, j, k] # bottom\n",
    "    surrounding_sum += np_array[i+1, j-1, k]# bottom left\n",
    "    # Behind 3d\n",
    "    surrounding_sum += np_array[i, j, k+1] # behind\n",
    "    surrounding_sum += np_array[i, j-1, k+1] # left\n",
    "    surrounding_sum += np_array[i-1, j-1, k+1] # top left\n",
    "    surrounding_sum += np_array[i-1, j, k+1] # Top\n",
    "    surrounding_sum += np_array[i-1, j+1, k+1] # top right\n",
    "    surrounding_sum += np_array[i, j+1, k+1] # right\n",
    "    surrounding_sum += np_array[i+1, j+1, k+1] # bottom right\n",
    "    surrounding_sum += np_array[i+1, j, k+1] # bottom\n",
    "    surrounding_sum += np_array[i+1, j-1, k+1]# bottom left\n",
    "    # in front 3d\n",
    "    surrounding_sum += np_array[i, j, k-1] # behind\n",
    "    surrounding_sum += np_array[i, j-1, k-1] # left\n",
    "    surrounding_sum += np_array[i-1, j-1, k-1] # top left\n",
    "    surrounding_sum += np_array[i-1, j, k-1] # Top\n",
    "    surrounding_sum += np_array[i-1, j+1, k-1] # top right\n",
    "    surrounding_sum += np_array[i, j+1, k-1] # right\n",
    "    surrounding_sum += np_array[i+1, j+1, k-1] # bottom right\n",
    "    surrounding_sum += np_array[i+1, j, k-1] # bottom\n",
    "    surrounding_sum += np_array[i+1, j-1, k-1]# bottom left\n",
    "    \n",
    "    return surrounding_sum"
   ]
  }
 ],
 "metadata": {
  "kernelspec": {
   "display_name": "Python 3",
   "language": "python",
   "name": "python3"
  },
  "language_info": {
   "codemirror_mode": {
    "name": "ipython",
    "version": 3
   },
   "file_extension": ".py",
   "mimetype": "text/x-python",
   "name": "python",
   "nbconvert_exporter": "python",
   "pygments_lexer": "ipython3",
   "version": "3.6.10"
  }
 },
 "nbformat": 4,
 "nbformat_minor": 2
}
