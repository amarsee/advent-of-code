{
 "cells": [
  {
   "cell_type": "markdown",
   "metadata": {},
   "source": [
    "## Part 1"
   ]
  },
  {
   "cell_type": "code",
   "execution_count": 6,
   "metadata": {},
   "outputs": [],
   "source": [
    "data = [str(x) for x in open(\"input.txt\").read().splitlines()]"
   ]
  },
  {
   "cell_type": "code",
   "execution_count": 10,
   "metadata": {},
   "outputs": [
    {
     "name": "stdout",
     "output_type": "stream",
     "text": [
      "6696\n"
     ]
    }
   ],
   "source": [
    "cum_two = 0\n",
    "cum_three = 0\n",
    "for mstr in data:\n",
    "    two_count = 0\n",
    "    three_count = 0\n",
    "    for i in range(0,len(mstr)-1):\n",
    "        char_check = mstr[i]\n",
    "        if mstr.count(char_check) == 2:\n",
    "            two_count = 1\n",
    "        if mstr.count(char_check) == 3:\n",
    "            three_count = 1\n",
    "    cum_two += two_count\n",
    "    cum_three += three_count\n",
    "\n",
    "print(cum_two * cum_three)"
   ]
  },
  {
   "cell_type": "code",
   "execution_count": 12,
   "metadata": {},
   "outputs": [
    {
     "data": {
      "text/plain": [
       "250"
      ]
     },
     "execution_count": 12,
     "metadata": {},
     "output_type": "execute_result"
    }
   ],
   "source": [
    "len(data)"
   ]
  },
  {
   "cell_type": "markdown",
   "metadata": {},
   "source": [
    "## Part 2"
   ]
  },
  {
   "cell_type": "code",
   "execution_count": 16,
   "metadata": {},
   "outputs": [
    {
     "name": "stdout",
     "output_type": "stream",
     "text": [
      "First string: bvnfawcnyoeyudzrpgsleimtkj Second string: bvnfawcnyoeyudzrpgsldimtkj\n"
     ]
    }
   ],
   "source": [
    "for i in range(0,len(data)-1):\n",
    "    nstr = data[i]\n",
    "    for j in range(i+1,len(data)-1):\n",
    "        comp_str = data[j]\n",
    "        diff_char_count = 0\n",
    "        for character_a, character_b in zip(nstr, comp_str):\n",
    "            if character_a != character_b:\n",
    "                diff_char_count += 1\n",
    "        if diff_char_count == 1:\n",
    "            print(\"First string: \" + nstr + \" Second string: \" + comp_str)\n",
    "            break\n"
   ]
  },
  {
   "cell_type": "code",
   "execution_count": null,
   "metadata": {},
   "outputs": [],
   "source": []
  }
 ],
 "metadata": {
  "kernelspec": {
   "display_name": "Python 3",
   "language": "python",
   "name": "python3"
  },
  "language_info": {
   "codemirror_mode": {
    "name": "ipython",
    "version": 3
   },
   "file_extension": ".py",
   "mimetype": "text/x-python",
   "name": "python",
   "nbconvert_exporter": "python",
   "pygments_lexer": "ipython3",
   "version": "3.6.5"
  }
 },
 "nbformat": 4,
 "nbformat_minor": 2
}
